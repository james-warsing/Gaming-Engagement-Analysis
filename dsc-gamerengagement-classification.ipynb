{
 "cells": [
  {
   "cell_type": "markdown",
   "id": "b7564c05-13d8-4da7-8a7a-3ad58a19ce09",
   "metadata": {},
   "source": [
    "# Gamer Engagement Classification\n",
    "Authors: Cayke Felipe dos Anjos and James Warsing"
   ]
  },
  {
   "cell_type": "markdown",
   "id": "332a98c8-6d9b-4085-8daa-ed1288d2be9e",
   "metadata": {},
   "source": [
    "<img src=\"images/eldenring.jpg\" alt=\"Alt text\" width=\"1200\"/>"
   ]
  },
  {
   "cell_type": "markdown",
   "id": "c10bd75b-9d40-4203-91aa-6f6a4662eb6e",
   "metadata": {},
   "source": [
    "# Overview\n",
    "This project analyzes gamer engagement data to offer strategic business recommendations for a new game studio. We aim to train statistical models in order to predict the most engaging gaming genres and difficulties for game production. Gaming engagement is very correlated to profitability as more players tend to bring new players in and it also allows more people to purchase in game features or Downloadable Content (DLC), incresing the revenue.  As result this project provides three business recommendations: what genres and dificulties should a future game have for a variety of gamer profiles."
   ]
  },
  {
   "cell_type": "markdown",
   "id": "9f6317f0-6a37-4cdb-923a-e1ed020ccd23",
   "metadata": {},
   "source": [
    "## Business Problem\n",
    "\n",
    "The company is expanding its portfolio by investing in a new game studio. Launching a new game in today's competitive entertainment industry requires a solid understanding of what drives game success and attracts audiences. The game industry is known for its substantial risks and high capital demands. Recent successes in games with high investment and higher return rate such as the incredibly difficult role playing game (RPG) \"Elden Ring\" costing around $\\$200$ millions but selling over 25 million copies and the action/simulation game \"Grand Theft Auto V\" which similarly costed around $\\$265$ millions but is estimated to have sold almost $\\$8$ billions are certainly a good example of how successful this industry can be. However, bad investments also do exist, like the first person shooting game \"Immortals of Aveum\", which costed $\\$125$ millions but sold only around $\\$2$ millions, which caused massive layoffs on the studio.\n",
    "\n",
    "Our project aims to analyze a gamer engagement dataset. By using data analysis techniques and statistical modelling, we seek to predict the best features that correlate with high player engagement. The goal is to provide three concrete business recommendations that maximize engagement and lower business risks, ensuring a strong entry into the market."
   ]
  },
  {
   "cell_type": "markdown",
   "id": "3653be24-a1eb-458e-b964-318ea4578c78",
   "metadata": {},
   "source": [
    "Questions we tried to answer with analysis:\n",
    "* What are the top features that correlate with gamer engagement?\n",
    "* How different are the audiences and their engagement choices?\n",
    "* What genres are most engaging for multiple audiences?"
   ]
  },
  {
   "cell_type": "code",
   "execution_count": 1,
   "id": "63cd182b-8af7-4fe9-ae3b-a8af1ac472a9",
   "metadata": {},
   "outputs": [],
   "source": [
    "import pandas as pd\n",
    "import matplotlib.pyplot as plt\n",
    "import seaborn as sns\n",
    "import numpy as np\n",
    "\n",
    "from sklearn.preprocessing import OneHotEncoder\n",
    "from sklearn.linear_model import LogisticRegression\n",
    "from sklearn.model_selection import train_test_split\n",
    "from sklearn.preprocessing import StandardScaler\n",
    "from sklearn.metrics import ConfusionMatrixDisplay, accuracy_score, recall_score, precision_score, roc_curve,roc_auc_score, f1_score\n",
    "from sklearn.tree import DecisionTreeClassifier, plot_tree\n",
    "from sklearn.model_selection import GridSearchCV\n"
   ]
  },
  {
   "cell_type": "code",
   "execution_count": 2,
   "id": "832b9f1d-ba8e-4cad-bc26-a2cb45fb180e",
   "metadata": {},
   "outputs": [
    {
     "data": {
      "text/html": [
       "<div>\n",
       "<style scoped>\n",
       "    .dataframe tbody tr th:only-of-type {\n",
       "        vertical-align: middle;\n",
       "    }\n",
       "\n",
       "    .dataframe tbody tr th {\n",
       "        vertical-align: top;\n",
       "    }\n",
       "\n",
       "    .dataframe thead th {\n",
       "        text-align: right;\n",
       "    }\n",
       "</style>\n",
       "<table border=\"1\" class=\"dataframe\">\n",
       "  <thead>\n",
       "    <tr style=\"text-align: right;\">\n",
       "      <th></th>\n",
       "      <th>PlayerID</th>\n",
       "      <th>Age</th>\n",
       "      <th>Gender</th>\n",
       "      <th>Location</th>\n",
       "      <th>Genre</th>\n",
       "      <th>PlayTimeHours</th>\n",
       "      <th>InGamePurchases</th>\n",
       "      <th>Difficulty</th>\n",
       "      <th>SessionsPerWeek</th>\n",
       "      <th>AvgSessionDurationMinutes</th>\n",
       "      <th>Level</th>\n",
       "      <th>AchievementsUnlocked</th>\n",
       "      <th>Engagement</th>\n",
       "    </tr>\n",
       "  </thead>\n",
       "  <tbody>\n",
       "    <tr>\n",
       "      <th>40029</th>\n",
       "      <td>49029</td>\n",
       "      <td>32</td>\n",
       "      <td>Male</td>\n",
       "      <td>USA</td>\n",
       "      <td>Strategy</td>\n",
       "      <td>20.619662</td>\n",
       "      <td>0</td>\n",
       "      <td>Easy</td>\n",
       "      <td>4</td>\n",
       "      <td>75</td>\n",
       "      <td>85</td>\n",
       "      <td>14</td>\n",
       "      <td>Medium</td>\n",
       "    </tr>\n",
       "    <tr>\n",
       "      <th>40030</th>\n",
       "      <td>49030</td>\n",
       "      <td>44</td>\n",
       "      <td>Female</td>\n",
       "      <td>Other</td>\n",
       "      <td>Simulation</td>\n",
       "      <td>13.539280</td>\n",
       "      <td>0</td>\n",
       "      <td>Hard</td>\n",
       "      <td>19</td>\n",
       "      <td>114</td>\n",
       "      <td>71</td>\n",
       "      <td>27</td>\n",
       "      <td>High</td>\n",
       "    </tr>\n",
       "    <tr>\n",
       "      <th>40031</th>\n",
       "      <td>49031</td>\n",
       "      <td>15</td>\n",
       "      <td>Female</td>\n",
       "      <td>USA</td>\n",
       "      <td>RPG</td>\n",
       "      <td>0.240057</td>\n",
       "      <td>1</td>\n",
       "      <td>Easy</td>\n",
       "      <td>10</td>\n",
       "      <td>176</td>\n",
       "      <td>29</td>\n",
       "      <td>1</td>\n",
       "      <td>High</td>\n",
       "    </tr>\n",
       "    <tr>\n",
       "      <th>40032</th>\n",
       "      <td>49032</td>\n",
       "      <td>34</td>\n",
       "      <td>Male</td>\n",
       "      <td>USA</td>\n",
       "      <td>Sports</td>\n",
       "      <td>14.017818</td>\n",
       "      <td>1</td>\n",
       "      <td>Medium</td>\n",
       "      <td>3</td>\n",
       "      <td>128</td>\n",
       "      <td>70</td>\n",
       "      <td>10</td>\n",
       "      <td>Medium</td>\n",
       "    </tr>\n",
       "    <tr>\n",
       "      <th>40033</th>\n",
       "      <td>49033</td>\n",
       "      <td>19</td>\n",
       "      <td>Male</td>\n",
       "      <td>USA</td>\n",
       "      <td>Sports</td>\n",
       "      <td>10.083804</td>\n",
       "      <td>0</td>\n",
       "      <td>Easy</td>\n",
       "      <td>13</td>\n",
       "      <td>84</td>\n",
       "      <td>72</td>\n",
       "      <td>39</td>\n",
       "      <td>Medium</td>\n",
       "    </tr>\n",
       "  </tbody>\n",
       "</table>\n",
       "</div>"
      ],
      "text/plain": [
       "       PlayerID  Age  Gender Location       Genre  PlayTimeHours  \\\n",
       "40029     49029   32    Male      USA    Strategy      20.619662   \n",
       "40030     49030   44  Female    Other  Simulation      13.539280   \n",
       "40031     49031   15  Female      USA         RPG       0.240057   \n",
       "40032     49032   34    Male      USA      Sports      14.017818   \n",
       "40033     49033   19    Male      USA      Sports      10.083804   \n",
       "\n",
       "       InGamePurchases Difficulty  SessionsPerWeek  AvgSessionDurationMinutes  \\\n",
       "40029                0       Easy                4                         75   \n",
       "40030                0       Hard               19                        114   \n",
       "40031                1       Easy               10                        176   \n",
       "40032                1     Medium                3                        128   \n",
       "40033                0       Easy               13                         84   \n",
       "\n",
       "       Level  AchievementsUnlocked Engagement  \n",
       "40029     85                    14     Medium  \n",
       "40030     71                    27       High  \n",
       "40031     29                     1       High  \n",
       "40032     70                    10     Medium  \n",
       "40033     72                    39     Medium  "
      ]
     },
     "execution_count": 2,
     "metadata": {},
     "output_type": "execute_result"
    }
   ],
   "source": [
    "df = pd.read_csv('data/online_gaming_behavior_dataset.csv')\n",
    "df.rename(columns={'GameGenre':'Genre','GameDifficulty':'Difficulty','PlayerLevel':'Level','EngagementLevel':'Engagement'}, inplace=True)\n",
    "df.tail()"
   ]
  },
  {
   "cell_type": "code",
   "execution_count": 3,
   "id": "767f958d-4d36-41a7-8aa7-ad30668596a7",
   "metadata": {},
   "outputs": [
    {
     "name": "stdout",
     "output_type": "stream",
     "text": [
      "<class 'pandas.core.frame.DataFrame'>\n",
      "RangeIndex: 40034 entries, 0 to 40033\n",
      "Data columns (total 13 columns):\n",
      " #   Column                     Non-Null Count  Dtype  \n",
      "---  ------                     --------------  -----  \n",
      " 0   PlayerID                   40034 non-null  int64  \n",
      " 1   Age                        40034 non-null  int64  \n",
      " 2   Gender                     40034 non-null  object \n",
      " 3   Location                   40034 non-null  object \n",
      " 4   Genre                      40034 non-null  object \n",
      " 5   PlayTimeHours              40034 non-null  float64\n",
      " 6   InGamePurchases            40034 non-null  int64  \n",
      " 7   Difficulty                 40034 non-null  object \n",
      " 8   SessionsPerWeek            40034 non-null  int64  \n",
      " 9   AvgSessionDurationMinutes  40034 non-null  int64  \n",
      " 10  Level                      40034 non-null  int64  \n",
      " 11  AchievementsUnlocked       40034 non-null  int64  \n",
      " 12  Engagement                 40034 non-null  object \n",
      "dtypes: float64(1), int64(7), object(5)\n",
      "memory usage: 4.0+ MB\n"
     ]
    }
   ],
   "source": [
    "df.info()"
   ]
  },
  {
   "cell_type": "code",
   "execution_count": 4,
   "id": "434f60b5-fa90-40cc-9e8f-eda14c73774e",
   "metadata": {},
   "outputs": [
    {
     "data": {
      "text/plain": [
       "Location\n",
       "USA       16000\n",
       "Europe    12004\n",
       "Asia       8095\n",
       "Other      3935\n",
       "Name: count, dtype: int64"
      ]
     },
     "execution_count": 4,
     "metadata": {},
     "output_type": "execute_result"
    }
   ],
   "source": [
    "df['Location'].value_counts()"
   ]
  },
  {
   "cell_type": "code",
   "execution_count": 5,
   "id": "c30498b9-ed84-448d-ac5f-6020b4cb0fe4",
   "metadata": {},
   "outputs": [
    {
     "data": {
      "text/plain": [
       "Genre\n",
       "Sports        8048\n",
       "Action        8039\n",
       "Strategy      8012\n",
       "Simulation    7983\n",
       "RPG           7952\n",
       "Name: count, dtype: int64"
      ]
     },
     "execution_count": 5,
     "metadata": {},
     "output_type": "execute_result"
    }
   ],
   "source": [
    "df['Genre'].value_counts()"
   ]
  },
  {
   "cell_type": "code",
   "execution_count": 6,
   "id": "3c569621-82f5-4b6e-8256-02204728d9ac",
   "metadata": {},
   "outputs": [
    {
     "data": {
      "text/plain": [
       "Gender\n",
       "Male      23959\n",
       "Female    16075\n",
       "Name: count, dtype: int64"
      ]
     },
     "execution_count": 6,
     "metadata": {},
     "output_type": "execute_result"
    }
   ],
   "source": [
    "df['Gender'].value_counts()"
   ]
  },
  {
   "cell_type": "code",
   "execution_count": 7,
   "id": "6e343dbb-6eab-4461-aec9-91e84a33c67e",
   "metadata": {},
   "outputs": [],
   "source": [
    "df['Gender'].replace({'Male':0,'Female':1},inplace=True)\n",
    "df.rename(columns={'Gender':'Female'},inplace=True)"
   ]
  },
  {
   "cell_type": "code",
   "execution_count": 8,
   "id": "1d2c2730-45fa-4262-adbb-c0213bc0fa91",
   "metadata": {},
   "outputs": [
    {
     "data": {
      "text/plain": [
       "Difficulty\n",
       "Easy      20015\n",
       "Medium    12011\n",
       "Hard       8008\n",
       "Name: count, dtype: int64"
      ]
     },
     "execution_count": 8,
     "metadata": {},
     "output_type": "execute_result"
    }
   ],
   "source": [
    "df['Difficulty'].value_counts()"
   ]
  },
  {
   "cell_type": "code",
   "execution_count": 9,
   "id": "b74600e9-b265-4a0f-9a7f-608f1547dd3e",
   "metadata": {},
   "outputs": [
    {
     "data": {
      "text/plain": [
       "Engagement\n",
       "Medium    19374\n",
       "High      10336\n",
       "Low       10324\n",
       "Name: count, dtype: int64"
      ]
     },
     "execution_count": 9,
     "metadata": {},
     "output_type": "execute_result"
    }
   ],
   "source": [
    "df['Engagement'].value_counts()"
   ]
  },
  {
   "cell_type": "code",
   "execution_count": 10,
   "id": "ea6124f0-7e1c-4143-a779-317443edfb34",
   "metadata": {},
   "outputs": [],
   "source": [
    "df['Difficulty'].replace({'Easy':0,'Medium':1,'Hard':2},inplace=True)\n",
    "df['Engagement'].replace({'Low':0,'Medium':1,'High':2},inplace=True)"
   ]
  },
  {
   "cell_type": "code",
   "execution_count": 11,
   "id": "e3a03b91-7123-4d00-807f-d5582732fdd4",
   "metadata": {},
   "outputs": [
    {
     "data": {
      "text/html": [
       "<div>\n",
       "<style scoped>\n",
       "    .dataframe tbody tr th:only-of-type {\n",
       "        vertical-align: middle;\n",
       "    }\n",
       "\n",
       "    .dataframe tbody tr th {\n",
       "        vertical-align: top;\n",
       "    }\n",
       "\n",
       "    .dataframe thead th {\n",
       "        text-align: right;\n",
       "    }\n",
       "</style>\n",
       "<table border=\"1\" class=\"dataframe\">\n",
       "  <thead>\n",
       "    <tr style=\"text-align: right;\">\n",
       "      <th></th>\n",
       "      <th>PlayerID</th>\n",
       "      <th>Age</th>\n",
       "      <th>Female</th>\n",
       "      <th>Location</th>\n",
       "      <th>Genre</th>\n",
       "      <th>PlayTimeHours</th>\n",
       "      <th>InGamePurchases</th>\n",
       "      <th>Difficulty</th>\n",
       "      <th>SessionsPerWeek</th>\n",
       "      <th>AvgSessionDurationMinutes</th>\n",
       "      <th>Level</th>\n",
       "      <th>AchievementsUnlocked</th>\n",
       "      <th>Engagement</th>\n",
       "    </tr>\n",
       "  </thead>\n",
       "  <tbody>\n",
       "    <tr>\n",
       "      <th>0</th>\n",
       "      <td>9000</td>\n",
       "      <td>43</td>\n",
       "      <td>0</td>\n",
       "      <td>Other</td>\n",
       "      <td>Strategy</td>\n",
       "      <td>16.271119</td>\n",
       "      <td>0</td>\n",
       "      <td>1</td>\n",
       "      <td>6</td>\n",
       "      <td>108</td>\n",
       "      <td>79</td>\n",
       "      <td>25</td>\n",
       "      <td>1</td>\n",
       "    </tr>\n",
       "    <tr>\n",
       "      <th>1</th>\n",
       "      <td>9001</td>\n",
       "      <td>29</td>\n",
       "      <td>1</td>\n",
       "      <td>USA</td>\n",
       "      <td>Strategy</td>\n",
       "      <td>5.525961</td>\n",
       "      <td>0</td>\n",
       "      <td>1</td>\n",
       "      <td>5</td>\n",
       "      <td>144</td>\n",
       "      <td>11</td>\n",
       "      <td>10</td>\n",
       "      <td>1</td>\n",
       "    </tr>\n",
       "    <tr>\n",
       "      <th>2</th>\n",
       "      <td>9002</td>\n",
       "      <td>22</td>\n",
       "      <td>1</td>\n",
       "      <td>USA</td>\n",
       "      <td>Sports</td>\n",
       "      <td>8.223755</td>\n",
       "      <td>0</td>\n",
       "      <td>0</td>\n",
       "      <td>16</td>\n",
       "      <td>142</td>\n",
       "      <td>35</td>\n",
       "      <td>41</td>\n",
       "      <td>2</td>\n",
       "    </tr>\n",
       "    <tr>\n",
       "      <th>3</th>\n",
       "      <td>9003</td>\n",
       "      <td>35</td>\n",
       "      <td>0</td>\n",
       "      <td>USA</td>\n",
       "      <td>Action</td>\n",
       "      <td>5.265351</td>\n",
       "      <td>1</td>\n",
       "      <td>0</td>\n",
       "      <td>9</td>\n",
       "      <td>85</td>\n",
       "      <td>57</td>\n",
       "      <td>47</td>\n",
       "      <td>1</td>\n",
       "    </tr>\n",
       "    <tr>\n",
       "      <th>4</th>\n",
       "      <td>9004</td>\n",
       "      <td>33</td>\n",
       "      <td>0</td>\n",
       "      <td>Europe</td>\n",
       "      <td>Action</td>\n",
       "      <td>15.531945</td>\n",
       "      <td>0</td>\n",
       "      <td>1</td>\n",
       "      <td>2</td>\n",
       "      <td>131</td>\n",
       "      <td>95</td>\n",
       "      <td>37</td>\n",
       "      <td>1</td>\n",
       "    </tr>\n",
       "    <tr>\n",
       "      <th>...</th>\n",
       "      <td>...</td>\n",
       "      <td>...</td>\n",
       "      <td>...</td>\n",
       "      <td>...</td>\n",
       "      <td>...</td>\n",
       "      <td>...</td>\n",
       "      <td>...</td>\n",
       "      <td>...</td>\n",
       "      <td>...</td>\n",
       "      <td>...</td>\n",
       "      <td>...</td>\n",
       "      <td>...</td>\n",
       "      <td>...</td>\n",
       "    </tr>\n",
       "    <tr>\n",
       "      <th>40029</th>\n",
       "      <td>49029</td>\n",
       "      <td>32</td>\n",
       "      <td>0</td>\n",
       "      <td>USA</td>\n",
       "      <td>Strategy</td>\n",
       "      <td>20.619662</td>\n",
       "      <td>0</td>\n",
       "      <td>0</td>\n",
       "      <td>4</td>\n",
       "      <td>75</td>\n",
       "      <td>85</td>\n",
       "      <td>14</td>\n",
       "      <td>1</td>\n",
       "    </tr>\n",
       "    <tr>\n",
       "      <th>40030</th>\n",
       "      <td>49030</td>\n",
       "      <td>44</td>\n",
       "      <td>1</td>\n",
       "      <td>Other</td>\n",
       "      <td>Simulation</td>\n",
       "      <td>13.539280</td>\n",
       "      <td>0</td>\n",
       "      <td>2</td>\n",
       "      <td>19</td>\n",
       "      <td>114</td>\n",
       "      <td>71</td>\n",
       "      <td>27</td>\n",
       "      <td>2</td>\n",
       "    </tr>\n",
       "    <tr>\n",
       "      <th>40031</th>\n",
       "      <td>49031</td>\n",
       "      <td>15</td>\n",
       "      <td>1</td>\n",
       "      <td>USA</td>\n",
       "      <td>RPG</td>\n",
       "      <td>0.240057</td>\n",
       "      <td>1</td>\n",
       "      <td>0</td>\n",
       "      <td>10</td>\n",
       "      <td>176</td>\n",
       "      <td>29</td>\n",
       "      <td>1</td>\n",
       "      <td>2</td>\n",
       "    </tr>\n",
       "    <tr>\n",
       "      <th>40032</th>\n",
       "      <td>49032</td>\n",
       "      <td>34</td>\n",
       "      <td>0</td>\n",
       "      <td>USA</td>\n",
       "      <td>Sports</td>\n",
       "      <td>14.017818</td>\n",
       "      <td>1</td>\n",
       "      <td>1</td>\n",
       "      <td>3</td>\n",
       "      <td>128</td>\n",
       "      <td>70</td>\n",
       "      <td>10</td>\n",
       "      <td>1</td>\n",
       "    </tr>\n",
       "    <tr>\n",
       "      <th>40033</th>\n",
       "      <td>49033</td>\n",
       "      <td>19</td>\n",
       "      <td>0</td>\n",
       "      <td>USA</td>\n",
       "      <td>Sports</td>\n",
       "      <td>10.083804</td>\n",
       "      <td>0</td>\n",
       "      <td>0</td>\n",
       "      <td>13</td>\n",
       "      <td>84</td>\n",
       "      <td>72</td>\n",
       "      <td>39</td>\n",
       "      <td>1</td>\n",
       "    </tr>\n",
       "  </tbody>\n",
       "</table>\n",
       "<p>40034 rows × 13 columns</p>\n",
       "</div>"
      ],
      "text/plain": [
       "       PlayerID  Age  Female Location       Genre  PlayTimeHours  \\\n",
       "0          9000   43       0    Other    Strategy      16.271119   \n",
       "1          9001   29       1      USA    Strategy       5.525961   \n",
       "2          9002   22       1      USA      Sports       8.223755   \n",
       "3          9003   35       0      USA      Action       5.265351   \n",
       "4          9004   33       0   Europe      Action      15.531945   \n",
       "...         ...  ...     ...      ...         ...            ...   \n",
       "40029     49029   32       0      USA    Strategy      20.619662   \n",
       "40030     49030   44       1    Other  Simulation      13.539280   \n",
       "40031     49031   15       1      USA         RPG       0.240057   \n",
       "40032     49032   34       0      USA      Sports      14.017818   \n",
       "40033     49033   19       0      USA      Sports      10.083804   \n",
       "\n",
       "       InGamePurchases  Difficulty  SessionsPerWeek  \\\n",
       "0                    0           1                6   \n",
       "1                    0           1                5   \n",
       "2                    0           0               16   \n",
       "3                    1           0                9   \n",
       "4                    0           1                2   \n",
       "...                ...         ...              ...   \n",
       "40029                0           0                4   \n",
       "40030                0           2               19   \n",
       "40031                1           0               10   \n",
       "40032                1           1                3   \n",
       "40033                0           0               13   \n",
       "\n",
       "       AvgSessionDurationMinutes  Level  AchievementsUnlocked  Engagement  \n",
       "0                            108     79                    25           1  \n",
       "1                            144     11                    10           1  \n",
       "2                            142     35                    41           2  \n",
       "3                             85     57                    47           1  \n",
       "4                            131     95                    37           1  \n",
       "...                          ...    ...                   ...         ...  \n",
       "40029                         75     85                    14           1  \n",
       "40030                        114     71                    27           2  \n",
       "40031                        176     29                     1           2  \n",
       "40032                        128     70                    10           1  \n",
       "40033                         84     72                    39           1  \n",
       "\n",
       "[40034 rows x 13 columns]"
      ]
     },
     "execution_count": 11,
     "metadata": {},
     "output_type": "execute_result"
    }
   ],
   "source": [
    "df"
   ]
  },
  {
   "cell_type": "code",
   "execution_count": 12,
   "id": "c53e2f12-d661-482c-a0a6-ea621badbbf9",
   "metadata": {},
   "outputs": [],
   "source": [
    "ohe = OneHotEncoder(drop='first',sparse=False)"
   ]
  },
  {
   "cell_type": "code",
   "execution_count": 13,
   "id": "b339adb0-0725-4cdf-aad9-aecf6767b20d",
   "metadata": {},
   "outputs": [
    {
     "name": "stderr",
     "output_type": "stream",
     "text": [
      "/home/cayke/anaconda3/envs/learn-env/lib/python3.8/site-packages/sklearn/preprocessing/_encoders.py:972: FutureWarning: `sparse` was renamed to `sparse_output` in version 1.2 and will be removed in 1.4. `sparse_output` is ignored unless you leave `sparse` to its default value.\n",
      "  warnings.warn(\n"
     ]
    },
    {
     "data": {
      "text/html": [
       "<div>\n",
       "<style scoped>\n",
       "    .dataframe tbody tr th:only-of-type {\n",
       "        vertical-align: middle;\n",
       "    }\n",
       "\n",
       "    .dataframe tbody tr th {\n",
       "        vertical-align: top;\n",
       "    }\n",
       "\n",
       "    .dataframe thead th {\n",
       "        text-align: right;\n",
       "    }\n",
       "</style>\n",
       "<table border=\"1\" class=\"dataframe\">\n",
       "  <thead>\n",
       "    <tr style=\"text-align: right;\">\n",
       "      <th></th>\n",
       "      <th>Location_Europe</th>\n",
       "      <th>Location_Other</th>\n",
       "      <th>Location_USA</th>\n",
       "      <th>Genre_RPG</th>\n",
       "      <th>Genre_Simulation</th>\n",
       "      <th>Genre_Sports</th>\n",
       "      <th>Genre_Strategy</th>\n",
       "    </tr>\n",
       "  </thead>\n",
       "  <tbody>\n",
       "    <tr>\n",
       "      <th>0</th>\n",
       "      <td>0.0</td>\n",
       "      <td>1.0</td>\n",
       "      <td>0.0</td>\n",
       "      <td>0.0</td>\n",
       "      <td>0.0</td>\n",
       "      <td>0.0</td>\n",
       "      <td>1.0</td>\n",
       "    </tr>\n",
       "    <tr>\n",
       "      <th>1</th>\n",
       "      <td>0.0</td>\n",
       "      <td>0.0</td>\n",
       "      <td>1.0</td>\n",
       "      <td>0.0</td>\n",
       "      <td>0.0</td>\n",
       "      <td>0.0</td>\n",
       "      <td>1.0</td>\n",
       "    </tr>\n",
       "    <tr>\n",
       "      <th>2</th>\n",
       "      <td>0.0</td>\n",
       "      <td>0.0</td>\n",
       "      <td>1.0</td>\n",
       "      <td>0.0</td>\n",
       "      <td>0.0</td>\n",
       "      <td>1.0</td>\n",
       "      <td>0.0</td>\n",
       "    </tr>\n",
       "    <tr>\n",
       "      <th>3</th>\n",
       "      <td>0.0</td>\n",
       "      <td>0.0</td>\n",
       "      <td>1.0</td>\n",
       "      <td>0.0</td>\n",
       "      <td>0.0</td>\n",
       "      <td>0.0</td>\n",
       "      <td>0.0</td>\n",
       "    </tr>\n",
       "    <tr>\n",
       "      <th>4</th>\n",
       "      <td>1.0</td>\n",
       "      <td>0.0</td>\n",
       "      <td>0.0</td>\n",
       "      <td>0.0</td>\n",
       "      <td>0.0</td>\n",
       "      <td>0.0</td>\n",
       "      <td>0.0</td>\n",
       "    </tr>\n",
       "    <tr>\n",
       "      <th>...</th>\n",
       "      <td>...</td>\n",
       "      <td>...</td>\n",
       "      <td>...</td>\n",
       "      <td>...</td>\n",
       "      <td>...</td>\n",
       "      <td>...</td>\n",
       "      <td>...</td>\n",
       "    </tr>\n",
       "    <tr>\n",
       "      <th>40029</th>\n",
       "      <td>0.0</td>\n",
       "      <td>0.0</td>\n",
       "      <td>1.0</td>\n",
       "      <td>0.0</td>\n",
       "      <td>0.0</td>\n",
       "      <td>0.0</td>\n",
       "      <td>1.0</td>\n",
       "    </tr>\n",
       "    <tr>\n",
       "      <th>40030</th>\n",
       "      <td>0.0</td>\n",
       "      <td>1.0</td>\n",
       "      <td>0.0</td>\n",
       "      <td>0.0</td>\n",
       "      <td>1.0</td>\n",
       "      <td>0.0</td>\n",
       "      <td>0.0</td>\n",
       "    </tr>\n",
       "    <tr>\n",
       "      <th>40031</th>\n",
       "      <td>0.0</td>\n",
       "      <td>0.0</td>\n",
       "      <td>1.0</td>\n",
       "      <td>1.0</td>\n",
       "      <td>0.0</td>\n",
       "      <td>0.0</td>\n",
       "      <td>0.0</td>\n",
       "    </tr>\n",
       "    <tr>\n",
       "      <th>40032</th>\n",
       "      <td>0.0</td>\n",
       "      <td>0.0</td>\n",
       "      <td>1.0</td>\n",
       "      <td>0.0</td>\n",
       "      <td>0.0</td>\n",
       "      <td>1.0</td>\n",
       "      <td>0.0</td>\n",
       "    </tr>\n",
       "    <tr>\n",
       "      <th>40033</th>\n",
       "      <td>0.0</td>\n",
       "      <td>0.0</td>\n",
       "      <td>1.0</td>\n",
       "      <td>0.0</td>\n",
       "      <td>0.0</td>\n",
       "      <td>1.0</td>\n",
       "      <td>0.0</td>\n",
       "    </tr>\n",
       "  </tbody>\n",
       "</table>\n",
       "<p>40034 rows × 7 columns</p>\n",
       "</div>"
      ],
      "text/plain": [
       "       Location_Europe  Location_Other  Location_USA  Genre_RPG  \\\n",
       "0                  0.0             1.0           0.0        0.0   \n",
       "1                  0.0             0.0           1.0        0.0   \n",
       "2                  0.0             0.0           1.0        0.0   \n",
       "3                  0.0             0.0           1.0        0.0   \n",
       "4                  1.0             0.0           0.0        0.0   \n",
       "...                ...             ...           ...        ...   \n",
       "40029              0.0             0.0           1.0        0.0   \n",
       "40030              0.0             1.0           0.0        0.0   \n",
       "40031              0.0             0.0           1.0        1.0   \n",
       "40032              0.0             0.0           1.0        0.0   \n",
       "40033              0.0             0.0           1.0        0.0   \n",
       "\n",
       "       Genre_Simulation  Genre_Sports  Genre_Strategy  \n",
       "0                   0.0           0.0             1.0  \n",
       "1                   0.0           0.0             1.0  \n",
       "2                   0.0           1.0             0.0  \n",
       "3                   0.0           0.0             0.0  \n",
       "4                   0.0           0.0             0.0  \n",
       "...                 ...           ...             ...  \n",
       "40029               0.0           0.0             1.0  \n",
       "40030               1.0           0.0             0.0  \n",
       "40031               0.0           0.0             0.0  \n",
       "40032               0.0           1.0             0.0  \n",
       "40033               0.0           1.0             0.0  \n",
       "\n",
       "[40034 rows x 7 columns]"
      ]
     },
     "execution_count": 13,
     "metadata": {},
     "output_type": "execute_result"
    }
   ],
   "source": [
    "nominal_columns = ['Location', 'Genre']\n",
    "X_nom_trans = ohe.fit_transform(df[nominal_columns])\n",
    "cols = ohe.get_feature_names_out()\n",
    "X_nom = pd.DataFrame(X_nom_trans, columns=cols)\n",
    "X_nom"
   ]
  },
  {
   "cell_type": "code",
   "execution_count": 14,
   "id": "d39cb04e-3d24-4301-a0cc-144d8c23ec5d",
   "metadata": {},
   "outputs": [
    {
     "data": {
      "text/html": [
       "<div>\n",
       "<style scoped>\n",
       "    .dataframe tbody tr th:only-of-type {\n",
       "        vertical-align: middle;\n",
       "    }\n",
       "\n",
       "    .dataframe tbody tr th {\n",
       "        vertical-align: top;\n",
       "    }\n",
       "\n",
       "    .dataframe thead th {\n",
       "        text-align: right;\n",
       "    }\n",
       "</style>\n",
       "<table border=\"1\" class=\"dataframe\">\n",
       "  <thead>\n",
       "    <tr style=\"text-align: right;\">\n",
       "      <th></th>\n",
       "      <th>PlayerID</th>\n",
       "      <th>Age</th>\n",
       "      <th>Female</th>\n",
       "      <th>PlayTimeHours</th>\n",
       "      <th>InGamePurchases</th>\n",
       "      <th>Difficulty</th>\n",
       "      <th>SessionsPerWeek</th>\n",
       "      <th>AvgSessionDurationMinutes</th>\n",
       "      <th>Level</th>\n",
       "      <th>AchievementsUnlocked</th>\n",
       "      <th>Engagement</th>\n",
       "      <th>Location_Europe</th>\n",
       "      <th>Location_Other</th>\n",
       "      <th>Location_USA</th>\n",
       "      <th>Genre_RPG</th>\n",
       "      <th>Genre_Simulation</th>\n",
       "      <th>Genre_Sports</th>\n",
       "      <th>Genre_Strategy</th>\n",
       "    </tr>\n",
       "  </thead>\n",
       "  <tbody>\n",
       "    <tr>\n",
       "      <th>0</th>\n",
       "      <td>9000</td>\n",
       "      <td>43</td>\n",
       "      <td>0</td>\n",
       "      <td>16.271119</td>\n",
       "      <td>0</td>\n",
       "      <td>1</td>\n",
       "      <td>6</td>\n",
       "      <td>108</td>\n",
       "      <td>79</td>\n",
       "      <td>25</td>\n",
       "      <td>1</td>\n",
       "      <td>0.0</td>\n",
       "      <td>1.0</td>\n",
       "      <td>0.0</td>\n",
       "      <td>0.0</td>\n",
       "      <td>0.0</td>\n",
       "      <td>0.0</td>\n",
       "      <td>1.0</td>\n",
       "    </tr>\n",
       "    <tr>\n",
       "      <th>1</th>\n",
       "      <td>9001</td>\n",
       "      <td>29</td>\n",
       "      <td>1</td>\n",
       "      <td>5.525961</td>\n",
       "      <td>0</td>\n",
       "      <td>1</td>\n",
       "      <td>5</td>\n",
       "      <td>144</td>\n",
       "      <td>11</td>\n",
       "      <td>10</td>\n",
       "      <td>1</td>\n",
       "      <td>0.0</td>\n",
       "      <td>0.0</td>\n",
       "      <td>1.0</td>\n",
       "      <td>0.0</td>\n",
       "      <td>0.0</td>\n",
       "      <td>0.0</td>\n",
       "      <td>1.0</td>\n",
       "    </tr>\n",
       "    <tr>\n",
       "      <th>2</th>\n",
       "      <td>9002</td>\n",
       "      <td>22</td>\n",
       "      <td>1</td>\n",
       "      <td>8.223755</td>\n",
       "      <td>0</td>\n",
       "      <td>0</td>\n",
       "      <td>16</td>\n",
       "      <td>142</td>\n",
       "      <td>35</td>\n",
       "      <td>41</td>\n",
       "      <td>2</td>\n",
       "      <td>0.0</td>\n",
       "      <td>0.0</td>\n",
       "      <td>1.0</td>\n",
       "      <td>0.0</td>\n",
       "      <td>0.0</td>\n",
       "      <td>1.0</td>\n",
       "      <td>0.0</td>\n",
       "    </tr>\n",
       "    <tr>\n",
       "      <th>3</th>\n",
       "      <td>9003</td>\n",
       "      <td>35</td>\n",
       "      <td>0</td>\n",
       "      <td>5.265351</td>\n",
       "      <td>1</td>\n",
       "      <td>0</td>\n",
       "      <td>9</td>\n",
       "      <td>85</td>\n",
       "      <td>57</td>\n",
       "      <td>47</td>\n",
       "      <td>1</td>\n",
       "      <td>0.0</td>\n",
       "      <td>0.0</td>\n",
       "      <td>1.0</td>\n",
       "      <td>0.0</td>\n",
       "      <td>0.0</td>\n",
       "      <td>0.0</td>\n",
       "      <td>0.0</td>\n",
       "    </tr>\n",
       "    <tr>\n",
       "      <th>4</th>\n",
       "      <td>9004</td>\n",
       "      <td>33</td>\n",
       "      <td>0</td>\n",
       "      <td>15.531945</td>\n",
       "      <td>0</td>\n",
       "      <td>1</td>\n",
       "      <td>2</td>\n",
       "      <td>131</td>\n",
       "      <td>95</td>\n",
       "      <td>37</td>\n",
       "      <td>1</td>\n",
       "      <td>1.0</td>\n",
       "      <td>0.0</td>\n",
       "      <td>0.0</td>\n",
       "      <td>0.0</td>\n",
       "      <td>0.0</td>\n",
       "      <td>0.0</td>\n",
       "      <td>0.0</td>\n",
       "    </tr>\n",
       "    <tr>\n",
       "      <th>...</th>\n",
       "      <td>...</td>\n",
       "      <td>...</td>\n",
       "      <td>...</td>\n",
       "      <td>...</td>\n",
       "      <td>...</td>\n",
       "      <td>...</td>\n",
       "      <td>...</td>\n",
       "      <td>...</td>\n",
       "      <td>...</td>\n",
       "      <td>...</td>\n",
       "      <td>...</td>\n",
       "      <td>...</td>\n",
       "      <td>...</td>\n",
       "      <td>...</td>\n",
       "      <td>...</td>\n",
       "      <td>...</td>\n",
       "      <td>...</td>\n",
       "      <td>...</td>\n",
       "    </tr>\n",
       "    <tr>\n",
       "      <th>40029</th>\n",
       "      <td>49029</td>\n",
       "      <td>32</td>\n",
       "      <td>0</td>\n",
       "      <td>20.619662</td>\n",
       "      <td>0</td>\n",
       "      <td>0</td>\n",
       "      <td>4</td>\n",
       "      <td>75</td>\n",
       "      <td>85</td>\n",
       "      <td>14</td>\n",
       "      <td>1</td>\n",
       "      <td>0.0</td>\n",
       "      <td>0.0</td>\n",
       "      <td>1.0</td>\n",
       "      <td>0.0</td>\n",
       "      <td>0.0</td>\n",
       "      <td>0.0</td>\n",
       "      <td>1.0</td>\n",
       "    </tr>\n",
       "    <tr>\n",
       "      <th>40030</th>\n",
       "      <td>49030</td>\n",
       "      <td>44</td>\n",
       "      <td>1</td>\n",
       "      <td>13.539280</td>\n",
       "      <td>0</td>\n",
       "      <td>2</td>\n",
       "      <td>19</td>\n",
       "      <td>114</td>\n",
       "      <td>71</td>\n",
       "      <td>27</td>\n",
       "      <td>2</td>\n",
       "      <td>0.0</td>\n",
       "      <td>1.0</td>\n",
       "      <td>0.0</td>\n",
       "      <td>0.0</td>\n",
       "      <td>1.0</td>\n",
       "      <td>0.0</td>\n",
       "      <td>0.0</td>\n",
       "    </tr>\n",
       "    <tr>\n",
       "      <th>40031</th>\n",
       "      <td>49031</td>\n",
       "      <td>15</td>\n",
       "      <td>1</td>\n",
       "      <td>0.240057</td>\n",
       "      <td>1</td>\n",
       "      <td>0</td>\n",
       "      <td>10</td>\n",
       "      <td>176</td>\n",
       "      <td>29</td>\n",
       "      <td>1</td>\n",
       "      <td>2</td>\n",
       "      <td>0.0</td>\n",
       "      <td>0.0</td>\n",
       "      <td>1.0</td>\n",
       "      <td>1.0</td>\n",
       "      <td>0.0</td>\n",
       "      <td>0.0</td>\n",
       "      <td>0.0</td>\n",
       "    </tr>\n",
       "    <tr>\n",
       "      <th>40032</th>\n",
       "      <td>49032</td>\n",
       "      <td>34</td>\n",
       "      <td>0</td>\n",
       "      <td>14.017818</td>\n",
       "      <td>1</td>\n",
       "      <td>1</td>\n",
       "      <td>3</td>\n",
       "      <td>128</td>\n",
       "      <td>70</td>\n",
       "      <td>10</td>\n",
       "      <td>1</td>\n",
       "      <td>0.0</td>\n",
       "      <td>0.0</td>\n",
       "      <td>1.0</td>\n",
       "      <td>0.0</td>\n",
       "      <td>0.0</td>\n",
       "      <td>1.0</td>\n",
       "      <td>0.0</td>\n",
       "    </tr>\n",
       "    <tr>\n",
       "      <th>40033</th>\n",
       "      <td>49033</td>\n",
       "      <td>19</td>\n",
       "      <td>0</td>\n",
       "      <td>10.083804</td>\n",
       "      <td>0</td>\n",
       "      <td>0</td>\n",
       "      <td>13</td>\n",
       "      <td>84</td>\n",
       "      <td>72</td>\n",
       "      <td>39</td>\n",
       "      <td>1</td>\n",
       "      <td>0.0</td>\n",
       "      <td>0.0</td>\n",
       "      <td>1.0</td>\n",
       "      <td>0.0</td>\n",
       "      <td>0.0</td>\n",
       "      <td>1.0</td>\n",
       "      <td>0.0</td>\n",
       "    </tr>\n",
       "  </tbody>\n",
       "</table>\n",
       "<p>40034 rows × 18 columns</p>\n",
       "</div>"
      ],
      "text/plain": [
       "       PlayerID  Age  Female  PlayTimeHours  InGamePurchases  Difficulty  \\\n",
       "0          9000   43       0      16.271119                0           1   \n",
       "1          9001   29       1       5.525961                0           1   \n",
       "2          9002   22       1       8.223755                0           0   \n",
       "3          9003   35       0       5.265351                1           0   \n",
       "4          9004   33       0      15.531945                0           1   \n",
       "...         ...  ...     ...            ...              ...         ...   \n",
       "40029     49029   32       0      20.619662                0           0   \n",
       "40030     49030   44       1      13.539280                0           2   \n",
       "40031     49031   15       1       0.240057                1           0   \n",
       "40032     49032   34       0      14.017818                1           1   \n",
       "40033     49033   19       0      10.083804                0           0   \n",
       "\n",
       "       SessionsPerWeek  AvgSessionDurationMinutes  Level  \\\n",
       "0                    6                        108     79   \n",
       "1                    5                        144     11   \n",
       "2                   16                        142     35   \n",
       "3                    9                         85     57   \n",
       "4                    2                        131     95   \n",
       "...                ...                        ...    ...   \n",
       "40029                4                         75     85   \n",
       "40030               19                        114     71   \n",
       "40031               10                        176     29   \n",
       "40032                3                        128     70   \n",
       "40033               13                         84     72   \n",
       "\n",
       "       AchievementsUnlocked  Engagement  Location_Europe  Location_Other  \\\n",
       "0                        25           1              0.0             1.0   \n",
       "1                        10           1              0.0             0.0   \n",
       "2                        41           2              0.0             0.0   \n",
       "3                        47           1              0.0             0.0   \n",
       "4                        37           1              1.0             0.0   \n",
       "...                     ...         ...              ...             ...   \n",
       "40029                    14           1              0.0             0.0   \n",
       "40030                    27           2              0.0             1.0   \n",
       "40031                     1           2              0.0             0.0   \n",
       "40032                    10           1              0.0             0.0   \n",
       "40033                    39           1              0.0             0.0   \n",
       "\n",
       "       Location_USA  Genre_RPG  Genre_Simulation  Genre_Sports  Genre_Strategy  \n",
       "0               0.0        0.0               0.0           0.0             1.0  \n",
       "1               1.0        0.0               0.0           0.0             1.0  \n",
       "2               1.0        0.0               0.0           1.0             0.0  \n",
       "3               1.0        0.0               0.0           0.0             0.0  \n",
       "4               0.0        0.0               0.0           0.0             0.0  \n",
       "...             ...        ...               ...           ...             ...  \n",
       "40029           1.0        0.0               0.0           0.0             1.0  \n",
       "40030           0.0        0.0               1.0           0.0             0.0  \n",
       "40031           1.0        1.0               0.0           0.0             0.0  \n",
       "40032           1.0        0.0               0.0           1.0             0.0  \n",
       "40033           1.0        0.0               0.0           1.0             0.0  \n",
       "\n",
       "[40034 rows x 18 columns]"
      ]
     },
     "execution_count": 14,
     "metadata": {},
     "output_type": "execute_result"
    }
   ],
   "source": [
    "df = pd.concat([df.drop(['Location', 'Genre'],axis=1),X_nom],axis=1)\n",
    "df"
   ]
  },
  {
   "cell_type": "code",
   "execution_count": 15,
   "id": "79a0757c-6fe8-4ca7-b03d-2e6e1b593745",
   "metadata": {},
   "outputs": [
    {
     "data": {
      "text/plain": [
       "Engagement                   1.000000\n",
       "SessionsPerWeek              0.605996\n",
       "AvgSessionDurationMinutes    0.476698\n",
       "AchievementsUnlocked         0.060576\n",
       "Level                        0.059315\n",
       "InGamePurchases              0.008209\n",
       "Genre_Strategy               0.007700\n",
       "Difficulty                   0.005057\n",
       "Female                       0.004978\n",
       "Location_USA                 0.002499\n",
       "Genre_Simulation             0.001184\n",
       "Age                          0.000824\n",
       "Genre_Sports                 0.000572\n",
       "PlayTimeHours               -0.001849\n",
       "Location_Other              -0.003174\n",
       "Location_Europe             -0.005965\n",
       "Genre_RPG                   -0.009707\n",
       "Name: Engagement, dtype: float64"
      ]
     },
     "execution_count": 15,
     "metadata": {},
     "output_type": "execute_result"
    }
   ],
   "source": [
    "corr = df.drop('PlayerID',axis=1).corr()\n",
    "corr['Engagement'].sort_values(ascending=False)"
   ]
  },
  {
   "cell_type": "code",
   "execution_count": 16,
   "id": "01ff32a7-f177-4164-9b92-6673e2d201fe",
   "metadata": {},
   "outputs": [
    {
     "data": {
      "image/png": "[encoded data removed]",
      "text/plain": [
       "<Figure size 640x480 with 2 Axes>"
      ]
     },
     "metadata": {},
     "output_type": "display_data"
    }
   ],
   "source": [
    "sns.heatmap(corr);"
   ]
  },
  {
   "cell_type": "markdown",
   "id": "f6a322ee-d572-4739-8956-7290d96ea127",
   "metadata": {},
   "source": [
    "It seems like the best features that correlate the most with engagement are Sessions per Week and Avg Session Duration in Minutes, which makes a lot of sense."
   ]
  },
  {
   "cell_type": "code",
   "execution_count": 17,
   "id": "2c2a2806-6ddb-48cb-ac3e-d69409c4e78d",
   "metadata": {},
   "outputs": [],
   "source": [
    "X = df.drop(['PlayerID','Engagement'], axis=1)\n",
    "y = df['Engagement']\n",
    "X_train, X_test, y_train, y_test = train_test_split(X, y, test_size=0.25, random_state=19)"
   ]
  },
  {
   "cell_type": "code",
   "execution_count": 18,
   "id": "711f588f-2d22-4fea-ac41-f9d0267d41c0",
   "metadata": {},
   "outputs": [],
   "source": [
    "scaler_allfeats = StandardScaler()\n",
    "X_train_scaled = scaler_allfeats.fit_transform(X_train)\n",
    "X_test_scaled = scaler_allfeats.transform(X_test)"
   ]
  },
  {
   "cell_type": "markdown",
   "id": "be536ddb-ab3e-4023-9ba6-ca687b5c9726",
   "metadata": {},
   "source": [
    "# Baseline Model - Logistic regression with all features"
   ]
  },
  {
   "cell_type": "markdown",
   "id": "0effbb53-5955-4fc8-b6a7-685c366979bd",
   "metadata": {},
   "source": [
    "In our first Baseline Model using Logistic Regression on our features "
   ]
  },
  {
   "cell_type": "code",
   "execution_count": 19,
   "id": "10342e75-d4ca-4cd4-befc-94747522532b",
   "metadata": {},
   "outputs": [],
   "source": [
    "logreg_baseline = LogisticRegression(penalty=None,random_state=19,class_weight='balanced')"
   ]
  },
  {
   "cell_type": "code",
   "execution_count": 20,
   "id": "63707388-5dbb-4a70-b50d-53151e7d3436",
   "metadata": {},
   "outputs": [
    {
     "data": {
      "text/html": [
       "<style>#sk-container-id-1 {color: black;}#sk-container-id-1 pre{padding: 0;}#sk-container-id-1 div.sk-toggleable {background-color: white;}#sk-container-id-1 label.sk-toggleable__label {cursor: pointer;display: block;width: 100%;margin-bottom: 0;padding: 0.3em;box-sizing: border-box;text-align: center;}#sk-container-id-1 label.sk-toggleable__label-arrow:before {content: \"▸\";float: left;margin-right: 0.25em;color: #696969;}#sk-container-id-1 label.sk-toggleable__label-arrow:hover:before {color: black;}#sk-container-id-1 div.sk-estimator:hover label.sk-toggleable__label-arrow:before {color: black;}#sk-container-id-1 div.sk-toggleable__content {max-height: 0;max-width: 0;overflow: hidden;text-align: left;background-color: #f0f8ff;}#sk-container-id-1 div.sk-toggleable__content pre {margin: 0.2em;color: black;border-radius: 0.25em;background-color: #f0f8ff;}#sk-container-id-1 input.sk-toggleable__control:checked~div.sk-toggleable__content {max-height: 200px;max-width: 100%;overflow: auto;}#sk-container-id-1 input.sk-toggleable__control:checked~label.sk-toggleable__label-arrow:before {content: \"▾\";}#sk-container-id-1 div.sk-estimator input.sk-toggleable__control:checked~label.sk-toggleable__label {background-color: #d4ebff;}#sk-container-id-1 div.sk-label input.sk-toggleable__control:checked~label.sk-toggleable__label {background-color: #d4ebff;}#sk-container-id-1 input.sk-hidden--visually {border: 0;clip: rect(1px 1px 1px 1px);clip: rect(1px, 1px, 1px, 1px);height: 1px;margin: -1px;overflow: hidden;padding: 0;position: absolute;width: 1px;}#sk-container-id-1 div.sk-estimator {font-family: monospace;background-color: #f0f8ff;border: 1px dotted black;border-radius: 0.25em;box-sizing: border-box;margin-bottom: 0.5em;}#sk-container-id-1 div.sk-estimator:hover {background-color: #d4ebff;}#sk-container-id-1 div.sk-parallel-item::after {content: \"\";width: 100%;border-bottom: 1px solid gray;flex-grow: 1;}#sk-container-id-1 div.sk-label:hover label.sk-toggleable__label {background-color: #d4ebff;}#sk-container-id-1 div.sk-serial::before {content: \"\";position: absolute;border-left: 1px solid gray;box-sizing: border-box;top: 0;bottom: 0;left: 50%;z-index: 0;}#sk-container-id-1 div.sk-serial {display: flex;flex-direction: column;align-items: center;background-color: white;padding-right: 0.2em;padding-left: 0.2em;position: relative;}#sk-container-id-1 div.sk-item {position: relative;z-index: 1;}#sk-container-id-1 div.sk-parallel {display: flex;align-items: stretch;justify-content: center;background-color: white;position: relative;}#sk-container-id-1 div.sk-item::before, #sk-container-id-1 div.sk-parallel-item::before {content: \"\";position: absolute;border-left: 1px solid gray;box-sizing: border-box;top: 0;bottom: 0;left: 50%;z-index: -1;}#sk-container-id-1 div.sk-parallel-item {display: flex;flex-direction: column;z-index: 1;position: relative;background-color: white;}#sk-container-id-1 div.sk-parallel-item:first-child::after {align-self: flex-end;width: 50%;}#sk-container-id-1 div.sk-parallel-item:last-child::after {align-self: flex-start;width: 50%;}#sk-container-id-1 div.sk-parallel-item:only-child::after {width: 0;}#sk-container-id-1 div.sk-dashed-wrapped {border: 1px dashed gray;margin: 0 0.4em 0.5em 0.4em;box-sizing: border-box;padding-bottom: 0.4em;background-color: white;}#sk-container-id-1 div.sk-label label {font-family: monospace;font-weight: bold;display: inline-block;line-height: 1.2em;}#sk-container-id-1 div.sk-label-container {text-align: center;}#sk-container-id-1 div.sk-container {/* jupyter's `normalize.less` sets `[hidden] { display: none; }` but bootstrap.min.css set `[hidden] { display: none !important; }` so we also need the `!important` here to be able to override the default hidden behavior on the sphinx rendered scikit-learn.org. See: https://github.com/scikit-learn/scikit-learn/issues/21755 */display: inline-block !important;position: relative;}#sk-container-id-1 div.sk-text-repr-fallback {display: none;}</style><div id=\"sk-container-id-1\" class=\"sk-top-container\"><div class=\"sk-text-repr-fallback\"><pre>LogisticRegression(class_weight=&#x27;balanced&#x27;, penalty=None, random_state=19)</pre><b>In a Jupyter environment, please rerun this cell to show the HTML representation or trust the notebook. <br />On GitHub, the HTML representation is unable to render, please try loading this page with nbviewer.org.</b></div><div class=\"sk-container\" hidden><div class=\"sk-item\"><div class=\"sk-estimator sk-toggleable\"><input class=\"sk-toggleable__control sk-hidden--visually\" id=\"sk-estimator-id-1\" type=\"checkbox\" checked><label for=\"sk-estimator-id-1\" class=\"sk-toggleable__label sk-toggleable__label-arrow\">LogisticRegression</label><div class=\"sk-toggleable__content\"><pre>LogisticRegression(class_weight=&#x27;balanced&#x27;, penalty=None, random_state=19)</pre></div></div></div></div></div>"
      ],
      "text/plain": [
       "LogisticRegression(class_weight='balanced', penalty=None, random_state=19)"
      ]
     },
     "execution_count": 20,
     "metadata": {},
     "output_type": "execute_result"
    }
   ],
   "source": [
    "logreg_baseline.fit(X_train_scaled,y_train)"
   ]
  },
  {
   "cell_type": "code",
   "execution_count": 21,
   "id": "775c2388-ff31-4e7e-b999-6d968ffdbeb9",
   "metadata": {},
   "outputs": [
    {
     "data": {
      "text/plain": [
       "0.7876103247293922"
      ]
     },
     "execution_count": 21,
     "metadata": {},
     "output_type": "execute_result"
    }
   ],
   "source": [
    "logreg_baseline.score(X_train_scaled,y_train)"
   ]
  },
  {
   "cell_type": "code",
   "execution_count": 22,
   "id": "9716c0e4-8420-48e7-b113-16b7e4886cec",
   "metadata": {},
   "outputs": [],
   "source": [
    "y_baseline = logreg_baseline.predict(X_test_scaled)"
   ]
  },
  {
   "cell_type": "code",
   "execution_count": 23,
   "id": "9e1f5cfe-53d4-4862-955d-6fdc3c259b21",
   "metadata": {},
   "outputs": [
    {
     "data": {
      "text/plain": [
       "0.7876103247293922"
      ]
     },
     "execution_count": 23,
     "metadata": {},
     "output_type": "execute_result"
    }
   ],
   "source": [
    "logreg_baseline.score(X_train_scaled,y_train)"
   ]
  },
  {
   "cell_type": "code",
   "execution_count": 24,
   "id": "19352472-223d-44eb-9a83-fa88608d0cdd",
   "metadata": {},
   "outputs": [
    {
     "data": {
      "text/plain": [
       "<sklearn.metrics._plot.confusion_matrix.ConfusionMatrixDisplay at 0x777bee2285b0>"
      ]
     },
     "execution_count": 24,
     "metadata": {},
     "output_type": "execute_result"
    },
    {
     "data": {
      "image/png": "[encoded data removed]",
      "text/plain": [
       "<Figure size 640x480 with 2 Axes>"
      ]
     },
     "metadata": {},
     "output_type": "display_data"
    }
   ],
   "source": [
    "ConfusionMatrixDisplay.from_estimator(logreg_baseline,X_test_scaled,y_test)"
   ]
  },
  {
   "cell_type": "code",
   "execution_count": 25,
   "id": "038017ca-a234-4781-a96f-0265e2feac21",
   "metadata": {},
   "outputs": [
    {
     "data": {
      "text/plain": [
       "(0.7884903586771905,\n",
       " array([0.81216112, 0.71422706, 0.90610329]),\n",
       " array([0.68128655, 0.86736475, 0.79315068]),\n",
       " array([0.7409894 , 0.78338212, 0.8458729 ]))"
      ]
     },
     "execution_count": 25,
     "metadata": {},
     "output_type": "execute_result"
    }
   ],
   "source": [
    "accuracy_baseline, recall_baseline, precision_baseline, f1_baseline = accuracy_score(y_test,y_baseline), \\\n",
    "                                                                          recall_score(y_test,y_baseline,average=None), \\\n",
    "                                                                          precision_score(y_test,y_baseline,average=None),\\\n",
    "                                                                          f1_score(y_test,y_baseline,average=None)\n",
    "accuracy_baseline, recall_baseline, precision_baseline, f1_baseline"
   ]
  },
  {
   "cell_type": "markdown",
   "id": "8dca94a3-920b-458b-8f43-3cd76a7190f3",
   "metadata": {},
   "source": [
    "# Model 2 - Logistic Regression with only the most correlated features"
   ]
  },
  {
   "cell_type": "code",
   "execution_count": 26,
   "id": "c62c7ae6-b8c4-4921-9a7a-62acd2f4f1d4",
   "metadata": {},
   "outputs": [],
   "source": [
    "logreg_bestfeats = LogisticRegression(penalty=None,random_state=19,class_weight='balanced')"
   ]
  },
  {
   "cell_type": "code",
   "execution_count": 27,
   "id": "88574de8-2b1e-4c2c-98a1-069115f9fa97",
   "metadata": {},
   "outputs": [],
   "source": [
    "X_train_bestfeats, X_test_bestfeats, y_train, y_test = train_test_split(X[['SessionsPerWeek','AvgSessionDurationMinutes']], y, test_size=0.25, random_state=19)"
   ]
  },
  {
   "cell_type": "code",
   "execution_count": 28,
   "id": "9d53f80d-658e-4be2-bb01-7866aaf01c65",
   "metadata": {},
   "outputs": [],
   "source": [
    "scaler_bestfeats = StandardScaler()\n",
    "X_train_bestfeats_scaled_2 = scaler_bestfeats.fit_transform(X_train_bestfeats)\n",
    "X_test_bestfeats_scaled_2 = scaler_bestfeats.transform(X_test_bestfeats)"
   ]
  },
  {
   "cell_type": "code",
   "execution_count": 29,
   "id": "dd998590-3fb7-435c-bb71-0a028ebfa0a9",
   "metadata": {},
   "outputs": [
    {
     "data": {
      "text/html": [
       "<style>#sk-container-id-2 {color: black;}#sk-container-id-2 pre{padding: 0;}#sk-container-id-2 div.sk-toggleable {background-color: white;}#sk-container-id-2 label.sk-toggleable__label {cursor: pointer;display: block;width: 100%;margin-bottom: 0;padding: 0.3em;box-sizing: border-box;text-align: center;}#sk-container-id-2 label.sk-toggleable__label-arrow:before {content: \"▸\";float: left;margin-right: 0.25em;color: #696969;}#sk-container-id-2 label.sk-toggleable__label-arrow:hover:before {color: black;}#sk-container-id-2 div.sk-estimator:hover label.sk-toggleable__label-arrow:before {color: black;}#sk-container-id-2 div.sk-toggleable__content {max-height: 0;max-width: 0;overflow: hidden;text-align: left;background-color: #f0f8ff;}#sk-container-id-2 div.sk-toggleable__content pre {margin: 0.2em;color: black;border-radius: 0.25em;background-color: #f0f8ff;}#sk-container-id-2 input.sk-toggleable__control:checked~div.sk-toggleable__content {max-height: 200px;max-width: 100%;overflow: auto;}#sk-container-id-2 input.sk-toggleable__control:checked~label.sk-toggleable__label-arrow:before {content: \"▾\";}#sk-container-id-2 div.sk-estimator input.sk-toggleable__control:checked~label.sk-toggleable__label {background-color: #d4ebff;}#sk-container-id-2 div.sk-label input.sk-toggleable__control:checked~label.sk-toggleable__label {background-color: #d4ebff;}#sk-container-id-2 input.sk-hidden--visually {border: 0;clip: rect(1px 1px 1px 1px);clip: rect(1px, 1px, 1px, 1px);height: 1px;margin: -1px;overflow: hidden;padding: 0;position: absolute;width: 1px;}#sk-container-id-2 div.sk-estimator {font-family: monospace;background-color: #f0f8ff;border: 1px dotted black;border-radius: 0.25em;box-sizing: border-box;margin-bottom: 0.5em;}#sk-container-id-2 div.sk-estimator:hover {background-color: #d4ebff;}#sk-container-id-2 div.sk-parallel-item::after {content: \"\";width: 100%;border-bottom: 1px solid gray;flex-grow: 1;}#sk-container-id-2 div.sk-label:hover label.sk-toggleable__label {background-color: #d4ebff;}#sk-container-id-2 div.sk-serial::before {content: \"\";position: absolute;border-left: 1px solid gray;box-sizing: border-box;top: 0;bottom: 0;left: 50%;z-index: 0;}#sk-container-id-2 div.sk-serial {display: flex;flex-direction: column;align-items: center;background-color: white;padding-right: 0.2em;padding-left: 0.2em;position: relative;}#sk-container-id-2 div.sk-item {position: relative;z-index: 1;}#sk-container-id-2 div.sk-parallel {display: flex;align-items: stretch;justify-content: center;background-color: white;position: relative;}#sk-container-id-2 div.sk-item::before, #sk-container-id-2 div.sk-parallel-item::before {content: \"\";position: absolute;border-left: 1px solid gray;box-sizing: border-box;top: 0;bottom: 0;left: 50%;z-index: -1;}#sk-container-id-2 div.sk-parallel-item {display: flex;flex-direction: column;z-index: 1;position: relative;background-color: white;}#sk-container-id-2 div.sk-parallel-item:first-child::after {align-self: flex-end;width: 50%;}#sk-container-id-2 div.sk-parallel-item:last-child::after {align-self: flex-start;width: 50%;}#sk-container-id-2 div.sk-parallel-item:only-child::after {width: 0;}#sk-container-id-2 div.sk-dashed-wrapped {border: 1px dashed gray;margin: 0 0.4em 0.5em 0.4em;box-sizing: border-box;padding-bottom: 0.4em;background-color: white;}#sk-container-id-2 div.sk-label label {font-family: monospace;font-weight: bold;display: inline-block;line-height: 1.2em;}#sk-container-id-2 div.sk-label-container {text-align: center;}#sk-container-id-2 div.sk-container {/* jupyter's `normalize.less` sets `[hidden] { display: none; }` but bootstrap.min.css set `[hidden] { display: none !important; }` so we also need the `!important` here to be able to override the default hidden behavior on the sphinx rendered scikit-learn.org. See: https://github.com/scikit-learn/scikit-learn/issues/21755 */display: inline-block !important;position: relative;}#sk-container-id-2 div.sk-text-repr-fallback {display: none;}</style><div id=\"sk-container-id-2\" class=\"sk-top-container\"><div class=\"sk-text-repr-fallback\"><pre>LogisticRegression(class_weight=&#x27;balanced&#x27;, penalty=None, random_state=19)</pre><b>In a Jupyter environment, please rerun this cell to show the HTML representation or trust the notebook. <br />On GitHub, the HTML representation is unable to render, please try loading this page with nbviewer.org.</b></div><div class=\"sk-container\" hidden><div class=\"sk-item\"><div class=\"sk-estimator sk-toggleable\"><input class=\"sk-toggleable__control sk-hidden--visually\" id=\"sk-estimator-id-2\" type=\"checkbox\" checked><label for=\"sk-estimator-id-2\" class=\"sk-toggleable__label sk-toggleable__label-arrow\">LogisticRegression</label><div class=\"sk-toggleable__content\"><pre>LogisticRegression(class_weight=&#x27;balanced&#x27;, penalty=None, random_state=19)</pre></div></div></div></div></div>"
      ],
      "text/plain": [
       "LogisticRegression(class_weight='balanced', penalty=None, random_state=19)"
      ]
     },
     "execution_count": 29,
     "metadata": {},
     "output_type": "execute_result"
    }
   ],
   "source": [
    "logreg_bestfeats.fit(X_train_bestfeats_scaled_2,y_train)"
   ]
  },
  {
   "cell_type": "code",
   "execution_count": 30,
   "id": "6298a1e5-8b1f-49fb-9a0a-ffe11627163f",
   "metadata": {},
   "outputs": [
    {
     "data": {
      "text/plain": [
       "0.778684429641965"
      ]
     },
     "execution_count": 30,
     "metadata": {},
     "output_type": "execute_result"
    }
   ],
   "source": [
    "logreg_bestfeats.score(X_train_bestfeats_scaled_2,y_train)"
   ]
  },
  {
   "cell_type": "code",
   "execution_count": 31,
   "id": "e3f2b4c4-f569-4463-add7-076776befe83",
   "metadata": {},
   "outputs": [],
   "source": [
    "y_bestfeats = logreg_bestfeats.predict(X_test_bestfeats_scaled_2)"
   ]
  },
  {
   "cell_type": "code",
   "execution_count": 32,
   "id": "825aa164-ea59-4b40-8c6b-e2d69138bebd",
   "metadata": {},
   "outputs": [
    {
     "data": {
      "text/plain": [
       "<sklearn.metrics._plot.confusion_matrix.ConfusionMatrixDisplay at 0x777bee0f7ee0>"
      ]
     },
     "execution_count": 32,
     "metadata": {},
     "output_type": "execute_result"
    },
    {
     "data": {
      "image/png": "[encoded data removed]",
      "text/plain": [
       "<Figure size 640x480 with 2 Axes>"
      ]
     },
     "metadata": {},
     "output_type": "display_data"
    }
   ],
   "source": [
    "ConfusionMatrixDisplay.from_estimator(logreg_bestfeats,X_test_bestfeats_scaled_2,y_test)"
   ]
  },
  {
   "cell_type": "code",
   "execution_count": 33,
   "id": "a171b3e5-846b-4a12-9bdc-4c2cf14b383d",
   "metadata": {},
   "outputs": [
    {
     "data": {
      "text/plain": [
       "(0.7760015985612948,\n",
       " array([0.79783114, 0.699651  , 0.89945227]),\n",
       " array([0.66280566, 0.85477803, 0.7889499 ]),\n",
       " array([0.72407733, 0.76947392, 0.84058501]))"
      ]
     },
     "execution_count": 33,
     "metadata": {},
     "output_type": "execute_result"
    }
   ],
   "source": [
    "accuracy_bestfeats, recall_bestfeats, precision_bestfeats, f1_bestfeats = accuracy_score(y_test,y_bestfeats), \\\n",
    "                                                                          recall_score(y_test,y_bestfeats,average=None), \\\n",
    "                                                                          precision_score(y_test,y_bestfeats,average=None),\\\n",
    "                                                                          f1_score(y_test,y_bestfeats,average=None)\n",
    "accuracy_bestfeats, recall_bestfeats ,precision_bestfeats, f1_bestfeats"
   ]
  },
  {
   "cell_type": "markdown",
   "id": "47a3feaf-7e5b-477d-870b-29974ad357b7",
   "metadata": {},
   "source": [
    "# Model 3 - Decision Tree Classifier"
   ]
  },
  {
   "cell_type": "code",
   "execution_count": 34,
   "id": "a5d98028-aa61-42b5-adc9-351cd6220e71",
   "metadata": {},
   "outputs": [],
   "source": [
    "dtc_notuning = DecisionTreeClassifier(random_state=19,class_weight='balanced')"
   ]
  },
  {
   "cell_type": "code",
   "execution_count": 35,
   "id": "8a3b4a8e-df11-4bd7-9bac-1040f11d21c6",
   "metadata": {},
   "outputs": [
    {
     "data": {
      "text/html": [
       "<style>#sk-container-id-3 {color: black;}#sk-container-id-3 pre{padding: 0;}#sk-container-id-3 div.sk-toggleable {background-color: white;}#sk-container-id-3 label.sk-toggleable__label {cursor: pointer;display: block;width: 100%;margin-bottom: 0;padding: 0.3em;box-sizing: border-box;text-align: center;}#sk-container-id-3 label.sk-toggleable__label-arrow:before {content: \"▸\";float: left;margin-right: 0.25em;color: #696969;}#sk-container-id-3 label.sk-toggleable__label-arrow:hover:before {color: black;}#sk-container-id-3 div.sk-estimator:hover label.sk-toggleable__label-arrow:before {color: black;}#sk-container-id-3 div.sk-toggleable__content {max-height: 0;max-width: 0;overflow: hidden;text-align: left;background-color: #f0f8ff;}#sk-container-id-3 div.sk-toggleable__content pre {margin: 0.2em;color: black;border-radius: 0.25em;background-color: #f0f8ff;}#sk-container-id-3 input.sk-toggleable__control:checked~div.sk-toggleable__content {max-height: 200px;max-width: 100%;overflow: auto;}#sk-container-id-3 input.sk-toggleable__control:checked~label.sk-toggleable__label-arrow:before {content: \"▾\";}#sk-container-id-3 div.sk-estimator input.sk-toggleable__control:checked~label.sk-toggleable__label {background-color: #d4ebff;}#sk-container-id-3 div.sk-label input.sk-toggleable__control:checked~label.sk-toggleable__label {background-color: #d4ebff;}#sk-container-id-3 input.sk-hidden--visually {border: 0;clip: rect(1px 1px 1px 1px);clip: rect(1px, 1px, 1px, 1px);height: 1px;margin: -1px;overflow: hidden;padding: 0;position: absolute;width: 1px;}#sk-container-id-3 div.sk-estimator {font-family: monospace;background-color: #f0f8ff;border: 1px dotted black;border-radius: 0.25em;box-sizing: border-box;margin-bottom: 0.5em;}#sk-container-id-3 div.sk-estimator:hover {background-color: #d4ebff;}#sk-container-id-3 div.sk-parallel-item::after {content: \"\";width: 100%;border-bottom: 1px solid gray;flex-grow: 1;}#sk-container-id-3 div.sk-label:hover label.sk-toggleable__label {background-color: #d4ebff;}#sk-container-id-3 div.sk-serial::before {content: \"\";position: absolute;border-left: 1px solid gray;box-sizing: border-box;top: 0;bottom: 0;left: 50%;z-index: 0;}#sk-container-id-3 div.sk-serial {display: flex;flex-direction: column;align-items: center;background-color: white;padding-right: 0.2em;padding-left: 0.2em;position: relative;}#sk-container-id-3 div.sk-item {position: relative;z-index: 1;}#sk-container-id-3 div.sk-parallel {display: flex;align-items: stretch;justify-content: center;background-color: white;position: relative;}#sk-container-id-3 div.sk-item::before, #sk-container-id-3 div.sk-parallel-item::before {content: \"\";position: absolute;border-left: 1px solid gray;box-sizing: border-box;top: 0;bottom: 0;left: 50%;z-index: -1;}#sk-container-id-3 div.sk-parallel-item {display: flex;flex-direction: column;z-index: 1;position: relative;background-color: white;}#sk-container-id-3 div.sk-parallel-item:first-child::after {align-self: flex-end;width: 50%;}#sk-container-id-3 div.sk-parallel-item:last-child::after {align-self: flex-start;width: 50%;}#sk-container-id-3 div.sk-parallel-item:only-child::after {width: 0;}#sk-container-id-3 div.sk-dashed-wrapped {border: 1px dashed gray;margin: 0 0.4em 0.5em 0.4em;box-sizing: border-box;padding-bottom: 0.4em;background-color: white;}#sk-container-id-3 div.sk-label label {font-family: monospace;font-weight: bold;display: inline-block;line-height: 1.2em;}#sk-container-id-3 div.sk-label-container {text-align: center;}#sk-container-id-3 div.sk-container {/* jupyter's `normalize.less` sets `[hidden] { display: none; }` but bootstrap.min.css set `[hidden] { display: none !important; }` so we also need the `!important` here to be able to override the default hidden behavior on the sphinx rendered scikit-learn.org. See: https://github.com/scikit-learn/scikit-learn/issues/21755 */display: inline-block !important;position: relative;}#sk-container-id-3 div.sk-text-repr-fallback {display: none;}</style><div id=\"sk-container-id-3\" class=\"sk-top-container\"><div class=\"sk-text-repr-fallback\"><pre>DecisionTreeClassifier(class_weight=&#x27;balanced&#x27;, random_state=19)</pre><b>In a Jupyter environment, please rerun this cell to show the HTML representation or trust the notebook. <br />On GitHub, the HTML representation is unable to render, please try loading this page with nbviewer.org.</b></div><div class=\"sk-container\" hidden><div class=\"sk-item\"><div class=\"sk-estimator sk-toggleable\"><input class=\"sk-toggleable__control sk-hidden--visually\" id=\"sk-estimator-id-3\" type=\"checkbox\" checked><label for=\"sk-estimator-id-3\" class=\"sk-toggleable__label sk-toggleable__label-arrow\">DecisionTreeClassifier</label><div class=\"sk-toggleable__content\"><pre>DecisionTreeClassifier(class_weight=&#x27;balanced&#x27;, random_state=19)</pre></div></div></div></div></div>"
      ],
      "text/plain": [
       "DecisionTreeClassifier(class_weight='balanced', random_state=19)"
      ]
     },
     "execution_count": 35,
     "metadata": {},
     "output_type": "execute_result"
    }
   ],
   "source": [
    "dtc_notuning.fit(X_train_scaled,y_train)"
   ]
  },
  {
   "cell_type": "code",
   "execution_count": 36,
   "id": "b9f17732-f240-4124-b7c2-a0bb0d95bacf",
   "metadata": {},
   "outputs": [
    {
     "data": {
      "text/plain": [
       "1.0"
      ]
     },
     "execution_count": 36,
     "metadata": {},
     "output_type": "execute_result"
    }
   ],
   "source": [
    "dtc_notuning.score(X_train_scaled,y_train)"
   ]
  },
  {
   "cell_type": "code",
   "execution_count": 37,
   "id": "23eed35c-a142-488f-9ced-283cb4138810",
   "metadata": {},
   "outputs": [],
   "source": [
    "y_dtc = dtc_notuning.predict(X_test_scaled)"
   ]
  },
  {
   "cell_type": "code",
   "execution_count": 38,
   "id": "835f21d1-c666-40b0-bb80-2188e93db15c",
   "metadata": {},
   "outputs": [
    {
     "data": {
      "text/plain": [
       "<sklearn.metrics._plot.confusion_matrix.ConfusionMatrixDisplay at 0x777c540c8a60>"
      ]
     },
     "execution_count": 38,
     "metadata": {},
     "output_type": "execute_result"
    },
    {
     "data": {
      "image/png": "[encoded data removed]",
      "text/plain": [
       "<Figure size 640x480 with 2 Axes>"
      ]
     },
     "metadata": {},
     "output_type": "display_data"
    }
   ],
   "source": [
    "ConfusionMatrixDisplay.from_estimator(dtc_notuning,X_test_scaled,y_test)"
   ]
  },
  {
   "cell_type": "code",
   "execution_count": 39,
   "id": "3305296d-d592-4d55-8603-c35aad5961dd",
   "metadata": {},
   "outputs": [
    {
     "data": {
      "text/plain": [
       "(0.8354480967129584,\n",
       " array([0.802866  , 0.86121946, 0.81924883]),\n",
       " array([0.80069525, 0.86943005, 0.80693642]),\n",
       " array([0.80177915, 0.86530528, 0.81304601]))"
      ]
     },
     "execution_count": 39,
     "metadata": {},
     "output_type": "execute_result"
    }
   ],
   "source": [
    "accuracy_dtc, recall_dtc, precision_dtc, f1_dtc = accuracy_score(y_test,y_dtc), \\\n",
    "                                                                          recall_score(y_test,y_dtc,average=None), \\\n",
    "                                                                          precision_score(y_test,y_dtc,average=None),\\\n",
    "                                                                          f1_score(y_test,y_dtc,average=None)\n",
    "accuracy_dtc, recall_dtc ,precision_dtc, f1_dtc"
   ]
  },
  {
   "cell_type": "markdown",
   "id": "f54e3603-e946-4615-83d4-a440115ab804",
   "metadata": {},
   "source": [
    "## Using Decision Tree as a Feature Selector"
   ]
  },
  {
   "cell_type": "code",
   "execution_count": 40,
   "id": "ebd1d9f3-11aa-4a33-a1f1-f2ef83dcb57b",
   "metadata": {},
   "outputs": [
    {
     "data": {
      "text/plain": [
       "{'AvgSessionDurationMinutes': 0.40013997192889944,\n",
       " 'SessionsPerWeek': 0.3605432859279194,\n",
       " 'Level': 0.06120631978372876,\n",
       " 'AchievementsUnlocked': 0.05480127758729497,\n",
       " 'PlayTimeHours': 0.04620996153623873,\n",
       " 'Age': 0.02884475781152879,\n",
       " 'Difficulty': 0.008046408001127891,\n",
       " 'Genre_Sports': 0.006379291141852032,\n",
       " 'InGamePurchases': 0.005355635824667986,\n",
       " 'Female': 0.004602899225987807,\n",
       " 'Location_Europe': 0.004446415478437927,\n",
       " 'Location_USA': 0.0044005395750788025,\n",
       " 'Genre_RPG': 0.004224751807311071,\n",
       " 'Location_Other': 0.004024611703580356,\n",
       " 'Genre_Simulation': 0.003613956567003885,\n",
       " 'Genre_Strategy': 0.0031599160993421305}"
      ]
     },
     "execution_count": 40,
     "metadata": {},
     "output_type": "execute_result"
    }
   ],
   "source": [
    "feature_used = X_train.columns\n",
    "dict_feat_importance = {}\n",
    "for fi, feature in zip(dtc_notuning.feature_importances_, feature_used):\n",
    "    dict_feat_importance[feature] = fi\n",
    "\n",
    "dict_feat_importance = dict(sorted(dict_feat_importance.items(), key=lambda item:item[1],reverse=True))\n",
    "dict_feat_importance"
   ]
  },
  {
   "cell_type": "code",
   "execution_count": 41,
   "id": "60da4682-83ee-45a6-8352-84777e66eec7",
   "metadata": {},
   "outputs": [],
   "source": [
    "dtc_featselect = DecisionTreeClassifier(max_depth=1,random_state=19)"
   ]
  },
  {
   "cell_type": "code",
   "execution_count": 42,
   "id": "22a8a109-681d-418d-a3a3-e93880621942",
   "metadata": {},
   "outputs": [
    {
     "data": {
      "text/html": [
       "<style>#sk-container-id-4 {color: black;}#sk-container-id-4 pre{padding: 0;}#sk-container-id-4 div.sk-toggleable {background-color: white;}#sk-container-id-4 label.sk-toggleable__label {cursor: pointer;display: block;width: 100%;margin-bottom: 0;padding: 0.3em;box-sizing: border-box;text-align: center;}#sk-container-id-4 label.sk-toggleable__label-arrow:before {content: \"▸\";float: left;margin-right: 0.25em;color: #696969;}#sk-container-id-4 label.sk-toggleable__label-arrow:hover:before {color: black;}#sk-container-id-4 div.sk-estimator:hover label.sk-toggleable__label-arrow:before {color: black;}#sk-container-id-4 div.sk-toggleable__content {max-height: 0;max-width: 0;overflow: hidden;text-align: left;background-color: #f0f8ff;}#sk-container-id-4 div.sk-toggleable__content pre {margin: 0.2em;color: black;border-radius: 0.25em;background-color: #f0f8ff;}#sk-container-id-4 input.sk-toggleable__control:checked~div.sk-toggleable__content {max-height: 200px;max-width: 100%;overflow: auto;}#sk-container-id-4 input.sk-toggleable__control:checked~label.sk-toggleable__label-arrow:before {content: \"▾\";}#sk-container-id-4 div.sk-estimator input.sk-toggleable__control:checked~label.sk-toggleable__label {background-color: #d4ebff;}#sk-container-id-4 div.sk-label input.sk-toggleable__control:checked~label.sk-toggleable__label {background-color: #d4ebff;}#sk-container-id-4 input.sk-hidden--visually {border: 0;clip: rect(1px 1px 1px 1px);clip: rect(1px, 1px, 1px, 1px);height: 1px;margin: -1px;overflow: hidden;padding: 0;position: absolute;width: 1px;}#sk-container-id-4 div.sk-estimator {font-family: monospace;background-color: #f0f8ff;border: 1px dotted black;border-radius: 0.25em;box-sizing: border-box;margin-bottom: 0.5em;}#sk-container-id-4 div.sk-estimator:hover {background-color: #d4ebff;}#sk-container-id-4 div.sk-parallel-item::after {content: \"\";width: 100%;border-bottom: 1px solid gray;flex-grow: 1;}#sk-container-id-4 div.sk-label:hover label.sk-toggleable__label {background-color: #d4ebff;}#sk-container-id-4 div.sk-serial::before {content: \"\";position: absolute;border-left: 1px solid gray;box-sizing: border-box;top: 0;bottom: 0;left: 50%;z-index: 0;}#sk-container-id-4 div.sk-serial {display: flex;flex-direction: column;align-items: center;background-color: white;padding-right: 0.2em;padding-left: 0.2em;position: relative;}#sk-container-id-4 div.sk-item {position: relative;z-index: 1;}#sk-container-id-4 div.sk-parallel {display: flex;align-items: stretch;justify-content: center;background-color: white;position: relative;}#sk-container-id-4 div.sk-item::before, #sk-container-id-4 div.sk-parallel-item::before {content: \"\";position: absolute;border-left: 1px solid gray;box-sizing: border-box;top: 0;bottom: 0;left: 50%;z-index: -1;}#sk-container-id-4 div.sk-parallel-item {display: flex;flex-direction: column;z-index: 1;position: relative;background-color: white;}#sk-container-id-4 div.sk-parallel-item:first-child::after {align-self: flex-end;width: 50%;}#sk-container-id-4 div.sk-parallel-item:last-child::after {align-self: flex-start;width: 50%;}#sk-container-id-4 div.sk-parallel-item:only-child::after {width: 0;}#sk-container-id-4 div.sk-dashed-wrapped {border: 1px dashed gray;margin: 0 0.4em 0.5em 0.4em;box-sizing: border-box;padding-bottom: 0.4em;background-color: white;}#sk-container-id-4 div.sk-label label {font-family: monospace;font-weight: bold;display: inline-block;line-height: 1.2em;}#sk-container-id-4 div.sk-label-container {text-align: center;}#sk-container-id-4 div.sk-container {/* jupyter's `normalize.less` sets `[hidden] { display: none; }` but bootstrap.min.css set `[hidden] { display: none !important; }` so we also need the `!important` here to be able to override the default hidden behavior on the sphinx rendered scikit-learn.org. See: https://github.com/scikit-learn/scikit-learn/issues/21755 */display: inline-block !important;position: relative;}#sk-container-id-4 div.sk-text-repr-fallback {display: none;}</style><div id=\"sk-container-id-4\" class=\"sk-top-container\"><div class=\"sk-text-repr-fallback\"><pre>DecisionTreeClassifier(max_depth=1, random_state=19)</pre><b>In a Jupyter environment, please rerun this cell to show the HTML representation or trust the notebook. <br />On GitHub, the HTML representation is unable to render, please try loading this page with nbviewer.org.</b></div><div class=\"sk-container\" hidden><div class=\"sk-item\"><div class=\"sk-estimator sk-toggleable\"><input class=\"sk-toggleable__control sk-hidden--visually\" id=\"sk-estimator-id-4\" type=\"checkbox\" checked><label for=\"sk-estimator-id-4\" class=\"sk-toggleable__label sk-toggleable__label-arrow\">DecisionTreeClassifier</label><div class=\"sk-toggleable__content\"><pre>DecisionTreeClassifier(max_depth=1, random_state=19)</pre></div></div></div></div></div>"
      ],
      "text/plain": [
       "DecisionTreeClassifier(max_depth=1, random_state=19)"
      ]
     },
     "execution_count": 42,
     "metadata": {},
     "output_type": "execute_result"
    }
   ],
   "source": [
    "dtc_featselect.fit(X_train,y_train)"
   ]
  },
  {
   "cell_type": "code",
   "execution_count": 43,
   "id": "dd25090d-fd67-479a-9c01-a9ee29c67e6a",
   "metadata": {},
   "outputs": [
    {
     "data": {
      "image/png": "[encoded data removed]",
      "text/plain": [
       "<Figure size 1000x1000 with 1 Axes>"
      ]
     },
     "metadata": {},
     "output_type": "display_data"
    }
   ],
   "source": [
    "f, ax = plt.subplots(figsize=(10, 10))\n",
    "\n",
    "plot_tree(dtc_featselect,ax=ax);"
   ]
  },
  {
   "cell_type": "code",
   "execution_count": 44,
   "id": "317ae4d7-cfa8-4f12-86d5-df4ca0810fd7",
   "metadata": {},
   "outputs": [
    {
     "data": {
      "text/plain": [
       "'SessionsPerWeek'"
      ]
     },
     "execution_count": 44,
     "metadata": {},
     "output_type": "execute_result"
    }
   ],
   "source": [
    "X_train.columns[5]"
   ]
  },
  {
   "cell_type": "markdown",
   "id": "988d293c-7f1f-4a32-81ba-eca1bfc06e41",
   "metadata": {},
   "source": [
    "Decison tree classifier found that the most important feature to decide the engagement for a player tends to be the number of Sessions per Week. We divide the original dataset in 2 of them then and run different models for each."
   ]
  },
  {
   "cell_type": "markdown",
   "id": "41d0dfb1-2188-4a4a-8535-032b1cb919e6",
   "metadata": {},
   "source": [
    "# Model 4 - 2 Logistic Regressions on Sessions Per Week"
   ]
  },
  {
   "cell_type": "code",
   "execution_count": 45,
   "id": "ab92949f-7901-422f-9495-f86a8132158a",
   "metadata": {},
   "outputs": [
    {
     "data": {
      "text/html": [
       "<div>\n",
       "<style scoped>\n",
       "    .dataframe tbody tr th:only-of-type {\n",
       "        vertical-align: middle;\n",
       "    }\n",
       "\n",
       "    .dataframe tbody tr th {\n",
       "        vertical-align: top;\n",
       "    }\n",
       "\n",
       "    .dataframe thead th {\n",
       "        text-align: right;\n",
       "    }\n",
       "</style>\n",
       "<table border=\"1\" class=\"dataframe\">\n",
       "  <thead>\n",
       "    <tr style=\"text-align: right;\">\n",
       "      <th></th>\n",
       "      <th>PlayerID</th>\n",
       "      <th>Age</th>\n",
       "      <th>Female</th>\n",
       "      <th>PlayTimeHours</th>\n",
       "      <th>InGamePurchases</th>\n",
       "      <th>Difficulty</th>\n",
       "      <th>SessionsPerWeek</th>\n",
       "      <th>AvgSessionDurationMinutes</th>\n",
       "      <th>Level</th>\n",
       "      <th>AchievementsUnlocked</th>\n",
       "      <th>Engagement</th>\n",
       "      <th>Location_Europe</th>\n",
       "      <th>Location_Other</th>\n",
       "      <th>Location_USA</th>\n",
       "      <th>Genre_RPG</th>\n",
       "      <th>Genre_Simulation</th>\n",
       "      <th>Genre_Sports</th>\n",
       "      <th>Genre_Strategy</th>\n",
       "    </tr>\n",
       "  </thead>\n",
       "  <tbody>\n",
       "    <tr>\n",
       "      <th>0</th>\n",
       "      <td>9000</td>\n",
       "      <td>43</td>\n",
       "      <td>0</td>\n",
       "      <td>16.271119</td>\n",
       "      <td>0</td>\n",
       "      <td>1</td>\n",
       "      <td>6</td>\n",
       "      <td>108</td>\n",
       "      <td>79</td>\n",
       "      <td>25</td>\n",
       "      <td>1</td>\n",
       "      <td>0.0</td>\n",
       "      <td>1.0</td>\n",
       "      <td>0.0</td>\n",
       "      <td>0.0</td>\n",
       "      <td>0.0</td>\n",
       "      <td>0.0</td>\n",
       "      <td>1.0</td>\n",
       "    </tr>\n",
       "    <tr>\n",
       "      <th>1</th>\n",
       "      <td>9001</td>\n",
       "      <td>29</td>\n",
       "      <td>1</td>\n",
       "      <td>5.525961</td>\n",
       "      <td>0</td>\n",
       "      <td>1</td>\n",
       "      <td>5</td>\n",
       "      <td>144</td>\n",
       "      <td>11</td>\n",
       "      <td>10</td>\n",
       "      <td>1</td>\n",
       "      <td>0.0</td>\n",
       "      <td>0.0</td>\n",
       "      <td>1.0</td>\n",
       "      <td>0.0</td>\n",
       "      <td>0.0</td>\n",
       "      <td>0.0</td>\n",
       "      <td>1.0</td>\n",
       "    </tr>\n",
       "    <tr>\n",
       "      <th>2</th>\n",
       "      <td>9002</td>\n",
       "      <td>22</td>\n",
       "      <td>1</td>\n",
       "      <td>8.223755</td>\n",
       "      <td>0</td>\n",
       "      <td>0</td>\n",
       "      <td>16</td>\n",
       "      <td>142</td>\n",
       "      <td>35</td>\n",
       "      <td>41</td>\n",
       "      <td>2</td>\n",
       "      <td>0.0</td>\n",
       "      <td>0.0</td>\n",
       "      <td>1.0</td>\n",
       "      <td>0.0</td>\n",
       "      <td>0.0</td>\n",
       "      <td>1.0</td>\n",
       "      <td>0.0</td>\n",
       "    </tr>\n",
       "    <tr>\n",
       "      <th>3</th>\n",
       "      <td>9003</td>\n",
       "      <td>35</td>\n",
       "      <td>0</td>\n",
       "      <td>5.265351</td>\n",
       "      <td>1</td>\n",
       "      <td>0</td>\n",
       "      <td>9</td>\n",
       "      <td>85</td>\n",
       "      <td>57</td>\n",
       "      <td>47</td>\n",
       "      <td>1</td>\n",
       "      <td>0.0</td>\n",
       "      <td>0.0</td>\n",
       "      <td>1.0</td>\n",
       "      <td>0.0</td>\n",
       "      <td>0.0</td>\n",
       "      <td>0.0</td>\n",
       "      <td>0.0</td>\n",
       "    </tr>\n",
       "    <tr>\n",
       "      <th>4</th>\n",
       "      <td>9004</td>\n",
       "      <td>33</td>\n",
       "      <td>0</td>\n",
       "      <td>15.531945</td>\n",
       "      <td>0</td>\n",
       "      <td>1</td>\n",
       "      <td>2</td>\n",
       "      <td>131</td>\n",
       "      <td>95</td>\n",
       "      <td>37</td>\n",
       "      <td>1</td>\n",
       "      <td>1.0</td>\n",
       "      <td>0.0</td>\n",
       "      <td>0.0</td>\n",
       "      <td>0.0</td>\n",
       "      <td>0.0</td>\n",
       "      <td>0.0</td>\n",
       "      <td>0.0</td>\n",
       "    </tr>\n",
       "    <tr>\n",
       "      <th>...</th>\n",
       "      <td>...</td>\n",
       "      <td>...</td>\n",
       "      <td>...</td>\n",
       "      <td>...</td>\n",
       "      <td>...</td>\n",
       "      <td>...</td>\n",
       "      <td>...</td>\n",
       "      <td>...</td>\n",
       "      <td>...</td>\n",
       "      <td>...</td>\n",
       "      <td>...</td>\n",
       "      <td>...</td>\n",
       "      <td>...</td>\n",
       "      <td>...</td>\n",
       "      <td>...</td>\n",
       "      <td>...</td>\n",
       "      <td>...</td>\n",
       "      <td>...</td>\n",
       "    </tr>\n",
       "    <tr>\n",
       "      <th>40029</th>\n",
       "      <td>49029</td>\n",
       "      <td>32</td>\n",
       "      <td>0</td>\n",
       "      <td>20.619662</td>\n",
       "      <td>0</td>\n",
       "      <td>0</td>\n",
       "      <td>4</td>\n",
       "      <td>75</td>\n",
       "      <td>85</td>\n",
       "      <td>14</td>\n",
       "      <td>1</td>\n",
       "      <td>0.0</td>\n",
       "      <td>0.0</td>\n",
       "      <td>1.0</td>\n",
       "      <td>0.0</td>\n",
       "      <td>0.0</td>\n",
       "      <td>0.0</td>\n",
       "      <td>1.0</td>\n",
       "    </tr>\n",
       "    <tr>\n",
       "      <th>40030</th>\n",
       "      <td>49030</td>\n",
       "      <td>44</td>\n",
       "      <td>1</td>\n",
       "      <td>13.539280</td>\n",
       "      <td>0</td>\n",
       "      <td>2</td>\n",
       "      <td>19</td>\n",
       "      <td>114</td>\n",
       "      <td>71</td>\n",
       "      <td>27</td>\n",
       "      <td>2</td>\n",
       "      <td>0.0</td>\n",
       "      <td>1.0</td>\n",
       "      <td>0.0</td>\n",
       "      <td>0.0</td>\n",
       "      <td>1.0</td>\n",
       "      <td>0.0</td>\n",
       "      <td>0.0</td>\n",
       "    </tr>\n",
       "    <tr>\n",
       "      <th>40031</th>\n",
       "      <td>49031</td>\n",
       "      <td>15</td>\n",
       "      <td>1</td>\n",
       "      <td>0.240057</td>\n",
       "      <td>1</td>\n",
       "      <td>0</td>\n",
       "      <td>10</td>\n",
       "      <td>176</td>\n",
       "      <td>29</td>\n",
       "      <td>1</td>\n",
       "      <td>2</td>\n",
       "      <td>0.0</td>\n",
       "      <td>0.0</td>\n",
       "      <td>1.0</td>\n",
       "      <td>1.0</td>\n",
       "      <td>0.0</td>\n",
       "      <td>0.0</td>\n",
       "      <td>0.0</td>\n",
       "    </tr>\n",
       "    <tr>\n",
       "      <th>40032</th>\n",
       "      <td>49032</td>\n",
       "      <td>34</td>\n",
       "      <td>0</td>\n",
       "      <td>14.017818</td>\n",
       "      <td>1</td>\n",
       "      <td>1</td>\n",
       "      <td>3</td>\n",
       "      <td>128</td>\n",
       "      <td>70</td>\n",
       "      <td>10</td>\n",
       "      <td>1</td>\n",
       "      <td>0.0</td>\n",
       "      <td>0.0</td>\n",
       "      <td>1.0</td>\n",
       "      <td>0.0</td>\n",
       "      <td>0.0</td>\n",
       "      <td>1.0</td>\n",
       "      <td>0.0</td>\n",
       "    </tr>\n",
       "    <tr>\n",
       "      <th>40033</th>\n",
       "      <td>49033</td>\n",
       "      <td>19</td>\n",
       "      <td>0</td>\n",
       "      <td>10.083804</td>\n",
       "      <td>0</td>\n",
       "      <td>0</td>\n",
       "      <td>13</td>\n",
       "      <td>84</td>\n",
       "      <td>72</td>\n",
       "      <td>39</td>\n",
       "      <td>1</td>\n",
       "      <td>0.0</td>\n",
       "      <td>0.0</td>\n",
       "      <td>1.0</td>\n",
       "      <td>0.0</td>\n",
       "      <td>0.0</td>\n",
       "      <td>1.0</td>\n",
       "      <td>0.0</td>\n",
       "    </tr>\n",
       "  </tbody>\n",
       "</table>\n",
       "<p>40034 rows × 18 columns</p>\n",
       "</div>"
      ],
      "text/plain": [
       "       PlayerID  Age  Female  PlayTimeHours  InGamePurchases  Difficulty  \\\n",
       "0          9000   43       0      16.271119                0           1   \n",
       "1          9001   29       1       5.525961                0           1   \n",
       "2          9002   22       1       8.223755                0           0   \n",
       "3          9003   35       0       5.265351                1           0   \n",
       "4          9004   33       0      15.531945                0           1   \n",
       "...         ...  ...     ...            ...              ...         ...   \n",
       "40029     49029   32       0      20.619662                0           0   \n",
       "40030     49030   44       1      13.539280                0           2   \n",
       "40031     49031   15       1       0.240057                1           0   \n",
       "40032     49032   34       0      14.017818                1           1   \n",
       "40033     49033   19       0      10.083804                0           0   \n",
       "\n",
       "       SessionsPerWeek  AvgSessionDurationMinutes  Level  \\\n",
       "0                    6                        108     79   \n",
       "1                    5                        144     11   \n",
       "2                   16                        142     35   \n",
       "3                    9                         85     57   \n",
       "4                    2                        131     95   \n",
       "...                ...                        ...    ...   \n",
       "40029                4                         75     85   \n",
       "40030               19                        114     71   \n",
       "40031               10                        176     29   \n",
       "40032                3                        128     70   \n",
       "40033               13                         84     72   \n",
       "\n",
       "       AchievementsUnlocked  Engagement  Location_Europe  Location_Other  \\\n",
       "0                        25           1              0.0             1.0   \n",
       "1                        10           1              0.0             0.0   \n",
       "2                        41           2              0.0             0.0   \n",
       "3                        47           1              0.0             0.0   \n",
       "4                        37           1              1.0             0.0   \n",
       "...                     ...         ...              ...             ...   \n",
       "40029                    14           1              0.0             0.0   \n",
       "40030                    27           2              0.0             1.0   \n",
       "40031                     1           2              0.0             0.0   \n",
       "40032                    10           1              0.0             0.0   \n",
       "40033                    39           1              0.0             0.0   \n",
       "\n",
       "       Location_USA  Genre_RPG  Genre_Simulation  Genre_Sports  Genre_Strategy  \n",
       "0               0.0        0.0               0.0           0.0             1.0  \n",
       "1               1.0        0.0               0.0           0.0             1.0  \n",
       "2               1.0        0.0               0.0           1.0             0.0  \n",
       "3               1.0        0.0               0.0           0.0             0.0  \n",
       "4               0.0        0.0               0.0           0.0             0.0  \n",
       "...             ...        ...               ...           ...             ...  \n",
       "40029           1.0        0.0               0.0           0.0             1.0  \n",
       "40030           0.0        0.0               1.0           0.0             0.0  \n",
       "40031           1.0        1.0               0.0           0.0             0.0  \n",
       "40032           1.0        0.0               0.0           1.0             0.0  \n",
       "40033           1.0        0.0               0.0           1.0             0.0  \n",
       "\n",
       "[40034 rows x 18 columns]"
      ]
     },
     "execution_count": 45,
     "metadata": {},
     "output_type": "execute_result"
    }
   ],
   "source": [
    "df"
   ]
  },
  {
   "cell_type": "code",
   "execution_count": 46,
   "id": "0aad251c-c2f0-45b2-bfdb-d63e07248098",
   "metadata": {},
   "outputs": [],
   "source": [
    "X_more = df[df['SessionsPerWeek']>2.5].drop(['PlayerID','Engagement'],axis=1)\n",
    "X_less = df[df['SessionsPerWeek']<=2.5].drop(['PlayerID','Engagement'],axis=1)\n",
    "\n",
    "y1_more = df[df['SessionsPerWeek']>2.5]['Engagement']\n",
    "y2_less = df[df['SessionsPerWeek']<=2.5]['Engagement']"
   ]
  },
  {
   "cell_type": "code",
   "execution_count": 47,
   "id": "8c468bc6-e333-4ab2-add2-de0600223d59",
   "metadata": {},
   "outputs": [
    {
     "name": "stdout",
     "output_type": "stream",
     "text": [
      "Shape of X matrix with more than 2.5 sessions per week is (34069, 16) which is 0.851 of total.\n",
      "Shape of X matrix with less or equal than 2.5 sessions per week is (5965, 16) which is 0.149 of total.\n"
     ]
    }
   ],
   "source": [
    "print(f'Shape of X matrix with more than 2.5 sessions per week is {X_more.shape} which is \\\n",
    "{X_more.shape[0]/(X_more.shape[0]+X_less.shape[0]):.03f} of total.')\n",
    "print(f'Shape of X matrix with less or equal than 2.5 sessions per week is {X_less.shape} which is \\\n",
    "{X_less.shape[0]/(X_more.shape[0]+X_less.shape[0]):.03f} of total.')"
   ]
  },
  {
   "cell_type": "code",
   "execution_count": 48,
   "id": "331fff12-5105-42a7-9c8e-ec3b24921fc3",
   "metadata": {},
   "outputs": [],
   "source": [
    "X_train_more = X_train[X_train['SessionsPerWeek']>2.5]\n",
    "X_test_more = X_test[X_test['SessionsPerWeek']>2.5]\n",
    "\n",
    "X_train_less = X_train[X_train['SessionsPerWeek']<=2.5]\n",
    "X_test_less = X_test[X_test['SessionsPerWeek']<=2.5]"
   ]
  },
  {
   "cell_type": "code",
   "execution_count": 49,
   "id": "241a7888-1f01-4657-acc3-6d7331f16379",
   "metadata": {},
   "outputs": [],
   "source": [
    "y_train_more = y_train.loc[X_train_more.index]\n",
    "y_test_more = y_test.loc[X_test_more.index]\n",
    "\n",
    "y_train_less = y_train.loc[X_train_less.index]\n",
    "y_test_less = y_test.loc[X_test_less.index]"
   ]
  },
  {
   "cell_type": "code",
   "execution_count": 50,
   "id": "ffc4afe9-5e34-4163-92ac-96b18b036fbd",
   "metadata": {},
   "outputs": [],
   "source": [
    "scaler_more = StandardScaler()\n",
    "scaler_less = StandardScaler()\n",
    "\n",
    "X_train_more_scaled = scaler_more.fit_transform(X_train_more)\n",
    "X_test_more_scaled = scaler_more.transform(X_test_more)\n",
    "\n",
    "X_train_less_scaled = scaler_less.fit_transform(X_train_less)\n",
    "X_test_less_scaled = scaler_less.transform(X_test_less)"
   ]
  },
  {
   "cell_type": "code",
   "execution_count": 51,
   "id": "a80df2c8-e321-449d-9b6a-e3b5c6bd238a",
   "metadata": {},
   "outputs": [],
   "source": [
    "logreg_more = LogisticRegression(penalty=None, random_state=19, max_iter=10000)\n",
    "logreg_less = LogisticRegression(penalty=None, random_state=19, max_iter=10000)"
   ]
  },
  {
   "cell_type": "code",
   "execution_count": 52,
   "id": "0ebb8815-27e2-4562-971c-2b52c32527d2",
   "metadata": {},
   "outputs": [
    {
     "data": {
      "text/html": [
       "<style>#sk-container-id-5 {color: black;}#sk-container-id-5 pre{padding: 0;}#sk-container-id-5 div.sk-toggleable {background-color: white;}#sk-container-id-5 label.sk-toggleable__label {cursor: pointer;display: block;width: 100%;margin-bottom: 0;padding: 0.3em;box-sizing: border-box;text-align: center;}#sk-container-id-5 label.sk-toggleable__label-arrow:before {content: \"▸\";float: left;margin-right: 0.25em;color: #696969;}#sk-container-id-5 label.sk-toggleable__label-arrow:hover:before {color: black;}#sk-container-id-5 div.sk-estimator:hover label.sk-toggleable__label-arrow:before {color: black;}#sk-container-id-5 div.sk-toggleable__content {max-height: 0;max-width: 0;overflow: hidden;text-align: left;background-color: #f0f8ff;}#sk-container-id-5 div.sk-toggleable__content pre {margin: 0.2em;color: black;border-radius: 0.25em;background-color: #f0f8ff;}#sk-container-id-5 input.sk-toggleable__control:checked~div.sk-toggleable__content {max-height: 200px;max-width: 100%;overflow: auto;}#sk-container-id-5 input.sk-toggleable__control:checked~label.sk-toggleable__label-arrow:before {content: \"▾\";}#sk-container-id-5 div.sk-estimator input.sk-toggleable__control:checked~label.sk-toggleable__label {background-color: #d4ebff;}#sk-container-id-5 div.sk-label input.sk-toggleable__control:checked~label.sk-toggleable__label {background-color: #d4ebff;}#sk-container-id-5 input.sk-hidden--visually {border: 0;clip: rect(1px 1px 1px 1px);clip: rect(1px, 1px, 1px, 1px);height: 1px;margin: -1px;overflow: hidden;padding: 0;position: absolute;width: 1px;}#sk-container-id-5 div.sk-estimator {font-family: monospace;background-color: #f0f8ff;border: 1px dotted black;border-radius: 0.25em;box-sizing: border-box;margin-bottom: 0.5em;}#sk-container-id-5 div.sk-estimator:hover {background-color: #d4ebff;}#sk-container-id-5 div.sk-parallel-item::after {content: \"\";width: 100%;border-bottom: 1px solid gray;flex-grow: 1;}#sk-container-id-5 div.sk-label:hover label.sk-toggleable__label {background-color: #d4ebff;}#sk-container-id-5 div.sk-serial::before {content: \"\";position: absolute;border-left: 1px solid gray;box-sizing: border-box;top: 0;bottom: 0;left: 50%;z-index: 0;}#sk-container-id-5 div.sk-serial {display: flex;flex-direction: column;align-items: center;background-color: white;padding-right: 0.2em;padding-left: 0.2em;position: relative;}#sk-container-id-5 div.sk-item {position: relative;z-index: 1;}#sk-container-id-5 div.sk-parallel {display: flex;align-items: stretch;justify-content: center;background-color: white;position: relative;}#sk-container-id-5 div.sk-item::before, #sk-container-id-5 div.sk-parallel-item::before {content: \"\";position: absolute;border-left: 1px solid gray;box-sizing: border-box;top: 0;bottom: 0;left: 50%;z-index: -1;}#sk-container-id-5 div.sk-parallel-item {display: flex;flex-direction: column;z-index: 1;position: relative;background-color: white;}#sk-container-id-5 div.sk-parallel-item:first-child::after {align-self: flex-end;width: 50%;}#sk-container-id-5 div.sk-parallel-item:last-child::after {align-self: flex-start;width: 50%;}#sk-container-id-5 div.sk-parallel-item:only-child::after {width: 0;}#sk-container-id-5 div.sk-dashed-wrapped {border: 1px dashed gray;margin: 0 0.4em 0.5em 0.4em;box-sizing: border-box;padding-bottom: 0.4em;background-color: white;}#sk-container-id-5 div.sk-label label {font-family: monospace;font-weight: bold;display: inline-block;line-height: 1.2em;}#sk-container-id-5 div.sk-label-container {text-align: center;}#sk-container-id-5 div.sk-container {/* jupyter's `normalize.less` sets `[hidden] { display: none; }` but bootstrap.min.css set `[hidden] { display: none !important; }` so we also need the `!important` here to be able to override the default hidden behavior on the sphinx rendered scikit-learn.org. See: https://github.com/scikit-learn/scikit-learn/issues/21755 */display: inline-block !important;position: relative;}#sk-container-id-5 div.sk-text-repr-fallback {display: none;}</style><div id=\"sk-container-id-5\" class=\"sk-top-container\"><div class=\"sk-text-repr-fallback\"><pre>LogisticRegression(max_iter=10000, penalty=None, random_state=19)</pre><b>In a Jupyter environment, please rerun this cell to show the HTML representation or trust the notebook. <br />On GitHub, the HTML representation is unable to render, please try loading this page with nbviewer.org.</b></div><div class=\"sk-container\" hidden><div class=\"sk-item\"><div class=\"sk-estimator sk-toggleable\"><input class=\"sk-toggleable__control sk-hidden--visually\" id=\"sk-estimator-id-5\" type=\"checkbox\" checked><label for=\"sk-estimator-id-5\" class=\"sk-toggleable__label sk-toggleable__label-arrow\">LogisticRegression</label><div class=\"sk-toggleable__content\"><pre>LogisticRegression(max_iter=10000, penalty=None, random_state=19)</pre></div></div></div></div></div>"
      ],
      "text/plain": [
       "LogisticRegression(max_iter=10000, penalty=None, random_state=19)"
      ]
     },
     "execution_count": 52,
     "metadata": {},
     "output_type": "execute_result"
    }
   ],
   "source": [
    "logreg_more.fit(X_train_more_scaled,y_train_more)"
   ]
  },
  {
   "cell_type": "code",
   "execution_count": 53,
   "id": "65d8021b-ffe7-4d4e-a1d8-7eb3abd3e332",
   "metadata": {},
   "outputs": [
    {
     "data": {
      "text/html": [
       "<style>#sk-container-id-6 {color: black;}#sk-container-id-6 pre{padding: 0;}#sk-container-id-6 div.sk-toggleable {background-color: white;}#sk-container-id-6 label.sk-toggleable__label {cursor: pointer;display: block;width: 100%;margin-bottom: 0;padding: 0.3em;box-sizing: border-box;text-align: center;}#sk-container-id-6 label.sk-toggleable__label-arrow:before {content: \"▸\";float: left;margin-right: 0.25em;color: #696969;}#sk-container-id-6 label.sk-toggleable__label-arrow:hover:before {color: black;}#sk-container-id-6 div.sk-estimator:hover label.sk-toggleable__label-arrow:before {color: black;}#sk-container-id-6 div.sk-toggleable__content {max-height: 0;max-width: 0;overflow: hidden;text-align: left;background-color: #f0f8ff;}#sk-container-id-6 div.sk-toggleable__content pre {margin: 0.2em;color: black;border-radius: 0.25em;background-color: #f0f8ff;}#sk-container-id-6 input.sk-toggleable__control:checked~div.sk-toggleable__content {max-height: 200px;max-width: 100%;overflow: auto;}#sk-container-id-6 input.sk-toggleable__control:checked~label.sk-toggleable__label-arrow:before {content: \"▾\";}#sk-container-id-6 div.sk-estimator input.sk-toggleable__control:checked~label.sk-toggleable__label {background-color: #d4ebff;}#sk-container-id-6 div.sk-label input.sk-toggleable__control:checked~label.sk-toggleable__label {background-color: #d4ebff;}#sk-container-id-6 input.sk-hidden--visually {border: 0;clip: rect(1px 1px 1px 1px);clip: rect(1px, 1px, 1px, 1px);height: 1px;margin: -1px;overflow: hidden;padding: 0;position: absolute;width: 1px;}#sk-container-id-6 div.sk-estimator {font-family: monospace;background-color: #f0f8ff;border: 1px dotted black;border-radius: 0.25em;box-sizing: border-box;margin-bottom: 0.5em;}#sk-container-id-6 div.sk-estimator:hover {background-color: #d4ebff;}#sk-container-id-6 div.sk-parallel-item::after {content: \"\";width: 100%;border-bottom: 1px solid gray;flex-grow: 1;}#sk-container-id-6 div.sk-label:hover label.sk-toggleable__label {background-color: #d4ebff;}#sk-container-id-6 div.sk-serial::before {content: \"\";position: absolute;border-left: 1px solid gray;box-sizing: border-box;top: 0;bottom: 0;left: 50%;z-index: 0;}#sk-container-id-6 div.sk-serial {display: flex;flex-direction: column;align-items: center;background-color: white;padding-right: 0.2em;padding-left: 0.2em;position: relative;}#sk-container-id-6 div.sk-item {position: relative;z-index: 1;}#sk-container-id-6 div.sk-parallel {display: flex;align-items: stretch;justify-content: center;background-color: white;position: relative;}#sk-container-id-6 div.sk-item::before, #sk-container-id-6 div.sk-parallel-item::before {content: \"\";position: absolute;border-left: 1px solid gray;box-sizing: border-box;top: 0;bottom: 0;left: 50%;z-index: -1;}#sk-container-id-6 div.sk-parallel-item {display: flex;flex-direction: column;z-index: 1;position: relative;background-color: white;}#sk-container-id-6 div.sk-parallel-item:first-child::after {align-self: flex-end;width: 50%;}#sk-container-id-6 div.sk-parallel-item:last-child::after {align-self: flex-start;width: 50%;}#sk-container-id-6 div.sk-parallel-item:only-child::after {width: 0;}#sk-container-id-6 div.sk-dashed-wrapped {border: 1px dashed gray;margin: 0 0.4em 0.5em 0.4em;box-sizing: border-box;padding-bottom: 0.4em;background-color: white;}#sk-container-id-6 div.sk-label label {font-family: monospace;font-weight: bold;display: inline-block;line-height: 1.2em;}#sk-container-id-6 div.sk-label-container {text-align: center;}#sk-container-id-6 div.sk-container {/* jupyter's `normalize.less` sets `[hidden] { display: none; }` but bootstrap.min.css set `[hidden] { display: none !important; }` so we also need the `!important` here to be able to override the default hidden behavior on the sphinx rendered scikit-learn.org. See: https://github.com/scikit-learn/scikit-learn/issues/21755 */display: inline-block !important;position: relative;}#sk-container-id-6 div.sk-text-repr-fallback {display: none;}</style><div id=\"sk-container-id-6\" class=\"sk-top-container\"><div class=\"sk-text-repr-fallback\"><pre>LogisticRegression(max_iter=10000, penalty=None, random_state=19)</pre><b>In a Jupyter environment, please rerun this cell to show the HTML representation or trust the notebook. <br />On GitHub, the HTML representation is unable to render, please try loading this page with nbviewer.org.</b></div><div class=\"sk-container\" hidden><div class=\"sk-item\"><div class=\"sk-estimator sk-toggleable\"><input class=\"sk-toggleable__control sk-hidden--visually\" id=\"sk-estimator-id-6\" type=\"checkbox\" checked><label for=\"sk-estimator-id-6\" class=\"sk-toggleable__label sk-toggleable__label-arrow\">LogisticRegression</label><div class=\"sk-toggleable__content\"><pre>LogisticRegression(max_iter=10000, penalty=None, random_state=19)</pre></div></div></div></div></div>"
      ],
      "text/plain": [
       "LogisticRegression(max_iter=10000, penalty=None, random_state=19)"
      ]
     },
     "execution_count": 53,
     "metadata": {},
     "output_type": "execute_result"
    }
   ],
   "source": [
    "logreg_less.fit(X_train_less_scaled,y_train_less)"
   ]
  },
  {
   "cell_type": "code",
   "execution_count": 54,
   "id": "d57a78fe-c03f-4be6-8767-ce0229aeb175",
   "metadata": {},
   "outputs": [],
   "source": [
    "y_pred_more = logreg_more.predict(X_test_more_scaled)"
   ]
  },
  {
   "cell_type": "code",
   "execution_count": 55,
   "id": "3a4772ec-bd9c-49ab-905e-a60968ea34f8",
   "metadata": {},
   "outputs": [
    {
     "data": {
      "text/plain": [
       "<sklearn.metrics._plot.confusion_matrix.ConfusionMatrixDisplay at 0x777bd12d9520>"
      ]
     },
     "execution_count": 55,
     "metadata": {},
     "output_type": "execute_result"
    },
    {
     "data": {
      "image/png": "[encoded data removed]",
      "text/plain": [
       "<Figure size 640x480 with 2 Axes>"
      ]
     },
     "metadata": {},
     "output_type": "display_data"
    }
   ],
   "source": [
    "ConfusionMatrixDisplay.from_estimator(logreg_more,X_test_more_scaled,y_test_more)"
   ]
  },
  {
   "cell_type": "code",
   "execution_count": 56,
   "id": "6aed66f0-cc3c-46df-a69a-f8621ed51583",
   "metadata": {},
   "outputs": [
    {
     "data": {
      "text/plain": [
       "(0.8624369649349126,\n",
       " array([0.60679245, 0.94378194, 0.84517159]),\n",
       " array([0.86637931, 0.84564015, 0.89821883]),\n",
       " array([0.71371505, 0.89201972, 0.87088816]))"
      ]
     },
     "execution_count": 56,
     "metadata": {},
     "output_type": "execute_result"
    }
   ],
   "source": [
    "accuracy_more, recall_more, precision_more, f1_more = accuracy_score(y_test_more,y_pred_more), \\\n",
    "                                                                          recall_score(y_test_more,y_pred_more,average=None), \\\n",
    "                                                                          precision_score(y_test_more,y_pred_more,average=None),\\\n",
    "                                                                          f1_score(y_test_more,y_pred_more,average=None)\n",
    "accuracy_more, recall_more ,precision_more, f1_more"
   ]
  },
  {
   "cell_type": "code",
   "execution_count": 57,
   "id": "be2dac06-f3ea-46f3-b7ee-8f7b781871d4",
   "metadata": {},
   "outputs": [
    {
     "name": "stderr",
     "output_type": "stream",
     "text": [
      "/home/cayke/anaconda3/envs/learn-env/lib/python3.8/site-packages/sklearn/base.py:457: UserWarning: X has feature names, but LogisticRegression was fitted without feature names\n",
      "  warnings.warn(\n"
     ]
    }
   ],
   "source": [
    "y_pred_less = logreg_less.predict(X_test_less)"
   ]
  },
  {
   "cell_type": "code",
   "execution_count": 58,
   "id": "1ef08b9c-d21f-4ec4-9995-307e49868650",
   "metadata": {},
   "outputs": [
    {
     "data": {
      "text/plain": [
       "<sklearn.metrics._plot.confusion_matrix.ConfusionMatrixDisplay at 0x777bd12230d0>"
      ]
     },
     "execution_count": 58,
     "metadata": {},
     "output_type": "execute_result"
    },
    {
     "data": {
      "image/png": "[encoded data removed]",
      "text/plain": [
       "<Figure size 640x480 with 2 Axes>"
      ]
     },
     "metadata": {},
     "output_type": "display_data"
    }
   ],
   "source": [
    "ConfusionMatrixDisplay.from_estimator(logreg_less,X_test_less_scaled,y_test_less)"
   ]
  },
  {
   "cell_type": "code",
   "execution_count": 59,
   "id": "60616c18-6c9e-4cc3-a082-1cef22f43313",
   "metadata": {},
   "outputs": [
    {
     "name": "stderr",
     "output_type": "stream",
     "text": [
      "/home/cayke/anaconda3/envs/learn-env/lib/python3.8/site-packages/sklearn/metrics/_classification.py:1469: UndefinedMetricWarning: Precision is ill-defined and being set to 0.0 in labels with no predicted samples. Use `zero_division` parameter to control this behavior.\n",
      "  _warn_prf(average, modifier, msg_start, len(result))\n"
     ]
    },
    {
     "data": {
      "text/plain": [
       "(0.11808367071524967,\n",
       " array([0., 1., 0.]),\n",
       " array([0.        , 0.11808367, 0.        ]),\n",
       " array([0.        , 0.21122511, 0.        ]))"
      ]
     },
     "execution_count": 59,
     "metadata": {},
     "output_type": "execute_result"
    }
   ],
   "source": [
    "accuracy_less, recall_less, precision_less, f1_less = accuracy_score(y_test_less,y_pred_less), \\\n",
    "                                                                          recall_score(y_test_less,y_pred_less,average=None,zero_division=0), \\\n",
    "                                                                          precision_score(y_test_less,y_pred_less,average=None),\\\n",
    "                                                                          f1_score(y_test_less,y_pred_less,average=None)\n",
    "accuracy_less, recall_less ,precision_less, f1_less"
   ]
  },
  {
   "cell_type": "code",
   "execution_count": 60,
   "id": "55129b83-5d31-4f42-a1b7-88b02c6e051f",
   "metadata": {},
   "outputs": [],
   "source": [
    "y_test_2dfs = np.concatenate([y_test_more,y_test_less])\n",
    "y_pred_2dfs = np.concatenate([y_pred_more,y_pred_less])"
   ]
  },
  {
   "cell_type": "code",
   "execution_count": 104,
   "id": "50e31ecf-fcaa-4e73-9962-f9ab0bcbe64b",
   "metadata": {},
   "outputs": [
    {
     "data": {
      "text/plain": [
       "(0.7522229993006294,\n",
       " 0.7522229993006294,\n",
       " 0.7522229993006294,\n",
       " 0.7522229993006293)"
      ]
     },
     "execution_count": 104,
     "metadata": {},
     "output_type": "execute_result"
    }
   ],
   "source": [
    "accuracy_2dfs, recall_2dfs, precision_2dfs, f1_2dfs = accuracy_score(y_test_2dfs,y_pred_2dfs), \\\n",
    "                                                                          recall_score(y_test_2dfs,y_pred_2dfs,average=None,zero_division=0), \\\n",
    "                                                                          precision_score(y_test_2dfs,y_pred_2dfs,average=None),\\\n",
    "                                                                          f1_score(y_test_2dfs,y_pred_2dfs,average=None)\n",
    "accuracy_2dfs, recall_2dfs ,precision_2dfs, f1_2dfs"
   ]
  },
  {
   "cell_type": "code",
   "execution_count": 62,
   "id": "586d288b-4a00-4c9a-890f-a1b01b4bb7dd",
   "metadata": {},
   "outputs": [
    {
     "data": {
      "text/plain": [
       "<sklearn.metrics._plot.confusion_matrix.ConfusionMatrixDisplay at 0x777bd11cc0d0>"
      ]
     },
     "execution_count": 62,
     "metadata": {},
     "output_type": "execute_result"
    },
    {
     "data": {
      "image/png": "[encoded data removed]",
      "text/plain": [
       "<Figure size 640x480 with 2 Axes>"
      ]
     },
     "metadata": {},
     "output_type": "display_data"
    }
   ],
   "source": [
    "ConfusionMatrixDisplay.from_predictions(y_test_2dfs,y_pred_2dfs)"
   ]
  },
  {
   "cell_type": "markdown",
   "id": "4178e1e1-0d00-4d32-aaa4-88d4ad49b227",
   "metadata": {},
   "source": [
    "# Model 5 - Hyperparameter Tuned Decision Tree"
   ]
  },
  {
   "cell_type": "code",
   "execution_count": 63,
   "id": "0c6ad5a8-e04d-4de0-b328-4bea9f345bef",
   "metadata": {},
   "outputs": [],
   "source": [
    "param = {\n",
    "    'criterion':['gini', 'entropy', 'log_loss'],\n",
    "    'splitter': ['best', 'random'],\n",
    "    'max_depth': [None, 5, 10, 15, 20],\n",
    "    'min_samples_split': [2, 3, 4, 5],\n",
    "    'min_samples_leaf': [1, 2, 3, 4]\n",
    "} \n",
    "dtc_tuning = DecisionTreeClassifier(random_state=19,class_weight='balanced')\n",
    "\n",
    "grid_search = GridSearchCV(estimator=dtc_tuning, param_grid=param, scoring='precision_micro', cv=5, n_jobs=-1, \n",
    "                           verbose=1,return_train_score=True)"
   ]
  },
  {
   "cell_type": "code",
   "execution_count": 64,
   "id": "89314ec6-0fe1-4295-a180-a4587286914e",
   "metadata": {},
   "outputs": [
    {
     "name": "stdout",
     "output_type": "stream",
     "text": [
      "Fitting 5 folds for each of 480 candidates, totalling 2400 fits\n"
     ]
    },
    {
     "data": {
      "text/html": [
       "<style>#sk-container-id-7 {color: black;}#sk-container-id-7 pre{padding: 0;}#sk-container-id-7 div.sk-toggleable {background-color: white;}#sk-container-id-7 label.sk-toggleable__label {cursor: pointer;display: block;width: 100%;margin-bottom: 0;padding: 0.3em;box-sizing: border-box;text-align: center;}#sk-container-id-7 label.sk-toggleable__label-arrow:before {content: \"▸\";float: left;margin-right: 0.25em;color: #696969;}#sk-container-id-7 label.sk-toggleable__label-arrow:hover:before {color: black;}#sk-container-id-7 div.sk-estimator:hover label.sk-toggleable__label-arrow:before {color: black;}#sk-container-id-7 div.sk-toggleable__content {max-height: 0;max-width: 0;overflow: hidden;text-align: left;background-color: #f0f8ff;}#sk-container-id-7 div.sk-toggleable__content pre {margin: 0.2em;color: black;border-radius: 0.25em;background-color: #f0f8ff;}#sk-container-id-7 input.sk-toggleable__control:checked~div.sk-toggleable__content {max-height: 200px;max-width: 100%;overflow: auto;}#sk-container-id-7 input.sk-toggleable__control:checked~label.sk-toggleable__label-arrow:before {content: \"▾\";}#sk-container-id-7 div.sk-estimator input.sk-toggleable__control:checked~label.sk-toggleable__label {background-color: #d4ebff;}#sk-container-id-7 div.sk-label input.sk-toggleable__control:checked~label.sk-toggleable__label {background-color: #d4ebff;}#sk-container-id-7 input.sk-hidden--visually {border: 0;clip: rect(1px 1px 1px 1px);clip: rect(1px, 1px, 1px, 1px);height: 1px;margin: -1px;overflow: hidden;padding: 0;position: absolute;width: 1px;}#sk-container-id-7 div.sk-estimator {font-family: monospace;background-color: #f0f8ff;border: 1px dotted black;border-radius: 0.25em;box-sizing: border-box;margin-bottom: 0.5em;}#sk-container-id-7 div.sk-estimator:hover {background-color: #d4ebff;}#sk-container-id-7 div.sk-parallel-item::after {content: \"\";width: 100%;border-bottom: 1px solid gray;flex-grow: 1;}#sk-container-id-7 div.sk-label:hover label.sk-toggleable__label {background-color: #d4ebff;}#sk-container-id-7 div.sk-serial::before {content: \"\";position: absolute;border-left: 1px solid gray;box-sizing: border-box;top: 0;bottom: 0;left: 50%;z-index: 0;}#sk-container-id-7 div.sk-serial {display: flex;flex-direction: column;align-items: center;background-color: white;padding-right: 0.2em;padding-left: 0.2em;position: relative;}#sk-container-id-7 div.sk-item {position: relative;z-index: 1;}#sk-container-id-7 div.sk-parallel {display: flex;align-items: stretch;justify-content: center;background-color: white;position: relative;}#sk-container-id-7 div.sk-item::before, #sk-container-id-7 div.sk-parallel-item::before {content: \"\";position: absolute;border-left: 1px solid gray;box-sizing: border-box;top: 0;bottom: 0;left: 50%;z-index: -1;}#sk-container-id-7 div.sk-parallel-item {display: flex;flex-direction: column;z-index: 1;position: relative;background-color: white;}#sk-container-id-7 div.sk-parallel-item:first-child::after {align-self: flex-end;width: 50%;}#sk-container-id-7 div.sk-parallel-item:last-child::after {align-self: flex-start;width: 50%;}#sk-container-id-7 div.sk-parallel-item:only-child::after {width: 0;}#sk-container-id-7 div.sk-dashed-wrapped {border: 1px dashed gray;margin: 0 0.4em 0.5em 0.4em;box-sizing: border-box;padding-bottom: 0.4em;background-color: white;}#sk-container-id-7 div.sk-label label {font-family: monospace;font-weight: bold;display: inline-block;line-height: 1.2em;}#sk-container-id-7 div.sk-label-container {text-align: center;}#sk-container-id-7 div.sk-container {/* jupyter's `normalize.less` sets `[hidden] { display: none; }` but bootstrap.min.css set `[hidden] { display: none !important; }` so we also need the `!important` here to be able to override the default hidden behavior on the sphinx rendered scikit-learn.org. See: https://github.com/scikit-learn/scikit-learn/issues/21755 */display: inline-block !important;position: relative;}#sk-container-id-7 div.sk-text-repr-fallback {display: none;}</style><div id=\"sk-container-id-7\" class=\"sk-top-container\"><div class=\"sk-text-repr-fallback\"><pre>GridSearchCV(cv=5,\n",
       "             estimator=DecisionTreeClassifier(class_weight=&#x27;balanced&#x27;,\n",
       "                                              random_state=19),\n",
       "             n_jobs=-1,\n",
       "             param_grid={&#x27;criterion&#x27;: [&#x27;gini&#x27;, &#x27;entropy&#x27;, &#x27;log_loss&#x27;],\n",
       "                         &#x27;max_depth&#x27;: [None, 5, 10, 15, 20],\n",
       "                         &#x27;min_samples_leaf&#x27;: [1, 2, 3, 4],\n",
       "                         &#x27;min_samples_split&#x27;: [2, 3, 4, 5],\n",
       "                         &#x27;splitter&#x27;: [&#x27;best&#x27;, &#x27;random&#x27;]},\n",
       "             return_train_score=True, scoring=&#x27;precision_micro&#x27;, verbose=1)</pre><b>In a Jupyter environment, please rerun this cell to show the HTML representation or trust the notebook. <br />On GitHub, the HTML representation is unable to render, please try loading this page with nbviewer.org.</b></div><div class=\"sk-container\" hidden><div class=\"sk-item sk-dashed-wrapped\"><div class=\"sk-label-container\"><div class=\"sk-label sk-toggleable\"><input class=\"sk-toggleable__control sk-hidden--visually\" id=\"sk-estimator-id-7\" type=\"checkbox\" ><label for=\"sk-estimator-id-7\" class=\"sk-toggleable__label sk-toggleable__label-arrow\">GridSearchCV</label><div class=\"sk-toggleable__content\"><pre>GridSearchCV(cv=5,\n",
       "             estimator=DecisionTreeClassifier(class_weight=&#x27;balanced&#x27;,\n",
       "                                              random_state=19),\n",
       "             n_jobs=-1,\n",
       "             param_grid={&#x27;criterion&#x27;: [&#x27;gini&#x27;, &#x27;entropy&#x27;, &#x27;log_loss&#x27;],\n",
       "                         &#x27;max_depth&#x27;: [None, 5, 10, 15, 20],\n",
       "                         &#x27;min_samples_leaf&#x27;: [1, 2, 3, 4],\n",
       "                         &#x27;min_samples_split&#x27;: [2, 3, 4, 5],\n",
       "                         &#x27;splitter&#x27;: [&#x27;best&#x27;, &#x27;random&#x27;]},\n",
       "             return_train_score=True, scoring=&#x27;precision_micro&#x27;, verbose=1)</pre></div></div></div><div class=\"sk-parallel\"><div class=\"sk-parallel-item\"><div class=\"sk-item\"><div class=\"sk-label-container\"><div class=\"sk-label sk-toggleable\"><input class=\"sk-toggleable__control sk-hidden--visually\" id=\"sk-estimator-id-8\" type=\"checkbox\" ><label for=\"sk-estimator-id-8\" class=\"sk-toggleable__label sk-toggleable__label-arrow\">estimator: DecisionTreeClassifier</label><div class=\"sk-toggleable__content\"><pre>DecisionTreeClassifier(class_weight=&#x27;balanced&#x27;, random_state=19)</pre></div></div></div><div class=\"sk-serial\"><div class=\"sk-item\"><div class=\"sk-estimator sk-toggleable\"><input class=\"sk-toggleable__control sk-hidden--visually\" id=\"sk-estimator-id-9\" type=\"checkbox\" ><label for=\"sk-estimator-id-9\" class=\"sk-toggleable__label sk-toggleable__label-arrow\">DecisionTreeClassifier</label><div class=\"sk-toggleable__content\"><pre>DecisionTreeClassifier(class_weight=&#x27;balanced&#x27;, random_state=19)</pre></div></div></div></div></div></div></div></div></div></div>"
      ],
      "text/plain": [
       "GridSearchCV(cv=5,\n",
       "             estimator=DecisionTreeClassifier(class_weight='balanced',\n",
       "                                              random_state=19),\n",
       "             n_jobs=-1,\n",
       "             param_grid={'criterion': ['gini', 'entropy', 'log_loss'],\n",
       "                         'max_depth': [None, 5, 10, 15, 20],\n",
       "                         'min_samples_leaf': [1, 2, 3, 4],\n",
       "                         'min_samples_split': [2, 3, 4, 5],\n",
       "                         'splitter': ['best', 'random']},\n",
       "             return_train_score=True, scoring='precision_micro', verbose=1)"
      ]
     },
     "execution_count": 64,
     "metadata": {},
     "output_type": "execute_result"
    }
   ],
   "source": [
    "grid_search.fit(X_train_scaled, y_train)"
   ]
  },
  {
   "cell_type": "code",
   "execution_count": 65,
   "id": "ce27de0b-4f7d-43ff-92f2-8efc5e2f57ef",
   "metadata": {},
   "outputs": [],
   "source": [
    "best_params = grid_search.best_params_\n",
    "best_estimator = grid_search.best_estimator_"
   ]
  },
  {
   "cell_type": "code",
   "execution_count": 66,
   "id": "3d27b140-d937-4916-90a5-a6167e8c3529",
   "metadata": {},
   "outputs": [
    {
     "data": {
      "text/plain": [
       "{'criterion': 'entropy',\n",
       " 'max_depth': 10,\n",
       " 'min_samples_leaf': 4,\n",
       " 'min_samples_split': 2,\n",
       " 'splitter': 'best'}"
      ]
     },
     "execution_count": 66,
     "metadata": {},
     "output_type": "execute_result"
    }
   ],
   "source": [
    "best_params"
   ]
  },
  {
   "cell_type": "code",
   "execution_count": 67,
   "id": "bcca6320-66f5-418b-8ce3-7d4d7058575e",
   "metadata": {},
   "outputs": [
    {
     "data": {
      "text/plain": [
       "0.9230308076602831"
      ]
     },
     "execution_count": 67,
     "metadata": {},
     "output_type": "execute_result"
    }
   ],
   "source": [
    "best_estimator.score(X_train_scaled,y_train)"
   ]
  },
  {
   "cell_type": "code",
   "execution_count": 68,
   "id": "37203def-389a-4b8d-9694-15410dcb2cea",
   "metadata": {},
   "outputs": [
    {
     "data": {
      "text/html": [
       "<style>#sk-container-id-8 {color: black;}#sk-container-id-8 pre{padding: 0;}#sk-container-id-8 div.sk-toggleable {background-color: white;}#sk-container-id-8 label.sk-toggleable__label {cursor: pointer;display: block;width: 100%;margin-bottom: 0;padding: 0.3em;box-sizing: border-box;text-align: center;}#sk-container-id-8 label.sk-toggleable__label-arrow:before {content: \"▸\";float: left;margin-right: 0.25em;color: #696969;}#sk-container-id-8 label.sk-toggleable__label-arrow:hover:before {color: black;}#sk-container-id-8 div.sk-estimator:hover label.sk-toggleable__label-arrow:before {color: black;}#sk-container-id-8 div.sk-toggleable__content {max-height: 0;max-width: 0;overflow: hidden;text-align: left;background-color: #f0f8ff;}#sk-container-id-8 div.sk-toggleable__content pre {margin: 0.2em;color: black;border-radius: 0.25em;background-color: #f0f8ff;}#sk-container-id-8 input.sk-toggleable__control:checked~div.sk-toggleable__content {max-height: 200px;max-width: 100%;overflow: auto;}#sk-container-id-8 input.sk-toggleable__control:checked~label.sk-toggleable__label-arrow:before {content: \"▾\";}#sk-container-id-8 div.sk-estimator input.sk-toggleable__control:checked~label.sk-toggleable__label {background-color: #d4ebff;}#sk-container-id-8 div.sk-label input.sk-toggleable__control:checked~label.sk-toggleable__label {background-color: #d4ebff;}#sk-container-id-8 input.sk-hidden--visually {border: 0;clip: rect(1px 1px 1px 1px);clip: rect(1px, 1px, 1px, 1px);height: 1px;margin: -1px;overflow: hidden;padding: 0;position: absolute;width: 1px;}#sk-container-id-8 div.sk-estimator {font-family: monospace;background-color: #f0f8ff;border: 1px dotted black;border-radius: 0.25em;box-sizing: border-box;margin-bottom: 0.5em;}#sk-container-id-8 div.sk-estimator:hover {background-color: #d4ebff;}#sk-container-id-8 div.sk-parallel-item::after {content: \"\";width: 100%;border-bottom: 1px solid gray;flex-grow: 1;}#sk-container-id-8 div.sk-label:hover label.sk-toggleable__label {background-color: #d4ebff;}#sk-container-id-8 div.sk-serial::before {content: \"\";position: absolute;border-left: 1px solid gray;box-sizing: border-box;top: 0;bottom: 0;left: 50%;z-index: 0;}#sk-container-id-8 div.sk-serial {display: flex;flex-direction: column;align-items: center;background-color: white;padding-right: 0.2em;padding-left: 0.2em;position: relative;}#sk-container-id-8 div.sk-item {position: relative;z-index: 1;}#sk-container-id-8 div.sk-parallel {display: flex;align-items: stretch;justify-content: center;background-color: white;position: relative;}#sk-container-id-8 div.sk-item::before, #sk-container-id-8 div.sk-parallel-item::before {content: \"\";position: absolute;border-left: 1px solid gray;box-sizing: border-box;top: 0;bottom: 0;left: 50%;z-index: -1;}#sk-container-id-8 div.sk-parallel-item {display: flex;flex-direction: column;z-index: 1;position: relative;background-color: white;}#sk-container-id-8 div.sk-parallel-item:first-child::after {align-self: flex-end;width: 50%;}#sk-container-id-8 div.sk-parallel-item:last-child::after {align-self: flex-start;width: 50%;}#sk-container-id-8 div.sk-parallel-item:only-child::after {width: 0;}#sk-container-id-8 div.sk-dashed-wrapped {border: 1px dashed gray;margin: 0 0.4em 0.5em 0.4em;box-sizing: border-box;padding-bottom: 0.4em;background-color: white;}#sk-container-id-8 div.sk-label label {font-family: monospace;font-weight: bold;display: inline-block;line-height: 1.2em;}#sk-container-id-8 div.sk-label-container {text-align: center;}#sk-container-id-8 div.sk-container {/* jupyter's `normalize.less` sets `[hidden] { display: none; }` but bootstrap.min.css set `[hidden] { display: none !important; }` so we also need the `!important` here to be able to override the default hidden behavior on the sphinx rendered scikit-learn.org. See: https://github.com/scikit-learn/scikit-learn/issues/21755 */display: inline-block !important;position: relative;}#sk-container-id-8 div.sk-text-repr-fallback {display: none;}</style><div id=\"sk-container-id-8\" class=\"sk-top-container\"><div class=\"sk-text-repr-fallback\"><pre>DecisionTreeClassifier(class_weight=&#x27;balanced&#x27;, criterion=&#x27;entropy&#x27;,\n",
       "                       max_depth=10, min_samples_leaf=4, random_state=19)</pre><b>In a Jupyter environment, please rerun this cell to show the HTML representation or trust the notebook. <br />On GitHub, the HTML representation is unable to render, please try loading this page with nbviewer.org.</b></div><div class=\"sk-container\" hidden><div class=\"sk-item\"><div class=\"sk-estimator sk-toggleable\"><input class=\"sk-toggleable__control sk-hidden--visually\" id=\"sk-estimator-id-10\" type=\"checkbox\" checked><label for=\"sk-estimator-id-10\" class=\"sk-toggleable__label sk-toggleable__label-arrow\">DecisionTreeClassifier</label><div class=\"sk-toggleable__content\"><pre>DecisionTreeClassifier(class_weight=&#x27;balanced&#x27;, criterion=&#x27;entropy&#x27;,\n",
       "                       max_depth=10, min_samples_leaf=4, random_state=19)</pre></div></div></div></div></div>"
      ],
      "text/plain": [
       "DecisionTreeClassifier(class_weight='balanced', criterion='entropy',\n",
       "                       max_depth=10, min_samples_leaf=4, random_state=19)"
      ]
     },
     "execution_count": 68,
     "metadata": {},
     "output_type": "execute_result"
    }
   ],
   "source": [
    "best_estimator"
   ]
  },
  {
   "cell_type": "code",
   "execution_count": 69,
   "id": "bbe1d08d-bb55-4702-9e2b-2deaab45789e",
   "metadata": {},
   "outputs": [],
   "source": [
    "y_pred_tuning = best_estimator.predict(X_test_scaled)"
   ]
  },
  {
   "cell_type": "code",
   "execution_count": 70,
   "id": "7ed82107-4afb-4dbe-ad7f-04260534b072",
   "metadata": {},
   "outputs": [
    {
     "data": {
      "text/plain": [
       "<sklearn.metrics._plot.confusion_matrix.ConfusionMatrixDisplay at 0x777bd103fc70>"
      ]
     },
     "execution_count": 70,
     "metadata": {},
     "output_type": "execute_result"
    },
    {
     "data": {
      "image/png": "[encoded data removed]",
      "text/plain": [
       "<Figure size 640x480 with 2 Axes>"
      ]
     },
     "metadata": {},
     "output_type": "display_data"
    }
   ],
   "source": [
    "ConfusionMatrixDisplay.from_estimator(best_estimator,X_test_scaled,y_test)"
   ]
  },
  {
   "cell_type": "code",
   "execution_count": 103,
   "id": "09fc3a48-8f9d-4e0f-94b5-932d04390bd9",
   "metadata": {},
   "outputs": [
    {
     "data": {
      "text/plain": [
       "(0.9017883904485963,\n",
       " 0.9017883904485963,\n",
       " 0.9017883904485963,\n",
       " 0.9017883904485963)"
      ]
     },
     "execution_count": 103,
     "metadata": {},
     "output_type": "execute_result"
    }
   ],
   "source": [
    "accuracy_tuning, recall_tuning, precision_tuning, f1_tuning = accuracy_score(y_test,y_pred_tuning), \\\n",
    "                                                                          recall_score(y_test,y_pred_tuning,average=None), \\\n",
    "                                                                          precision_score(y_test,y_pred_tuning,average=None),\\\n",
    "                                                                          f1_score(y_test,y_pred_tuning,average=None)\n",
    "accuracy_tuning, recall_tuning ,precision_tuning, f1_tuning"
   ]
  },
  {
   "cell_type": "markdown",
   "id": "fe7b68ce-44ef-4d9e-bee8-ce3e56c4d884",
   "metadata": {},
   "source": [
    "# Weighted Average Engagement"
   ]
  },
  {
   "cell_type": "markdown",
   "id": "304a622d-474d-4d03-b6a6-43997e853f7c",
   "metadata": {},
   "source": [
    "In order to predict a game's sucess we try to predict how different main features can achieve a better engagement from players. For that, we focus on the American market."
   ]
  },
  {
   "cell_type": "code",
   "execution_count": 72,
   "id": "adbcef22-3b11-4a40-8836-d726a0e4d5a6",
   "metadata": {},
   "outputs": [
    {
     "data": {
      "text/html": [
       "<div>\n",
       "<style scoped>\n",
       "    .dataframe tbody tr th:only-of-type {\n",
       "        vertical-align: middle;\n",
       "    }\n",
       "\n",
       "    .dataframe tbody tr th {\n",
       "        vertical-align: top;\n",
       "    }\n",
       "\n",
       "    .dataframe thead th {\n",
       "        text-align: right;\n",
       "    }\n",
       "</style>\n",
       "<table border=\"1\" class=\"dataframe\">\n",
       "  <thead>\n",
       "    <tr style=\"text-align: right;\">\n",
       "      <th></th>\n",
       "      <th>PlayerID</th>\n",
       "      <th>Age</th>\n",
       "      <th>Female</th>\n",
       "      <th>PlayTimeHours</th>\n",
       "      <th>InGamePurchases</th>\n",
       "      <th>Difficulty</th>\n",
       "      <th>SessionsPerWeek</th>\n",
       "      <th>AvgSessionDurationMinutes</th>\n",
       "      <th>Level</th>\n",
       "      <th>AchievementsUnlocked</th>\n",
       "      <th>Engagement</th>\n",
       "      <th>Location_Europe</th>\n",
       "      <th>Location_Other</th>\n",
       "      <th>Location_USA</th>\n",
       "      <th>Genre_RPG</th>\n",
       "      <th>Genre_Simulation</th>\n",
       "      <th>Genre_Sports</th>\n",
       "      <th>Genre_Strategy</th>\n",
       "    </tr>\n",
       "  </thead>\n",
       "  <tbody>\n",
       "    <tr>\n",
       "      <th>0</th>\n",
       "      <td>9000</td>\n",
       "      <td>43</td>\n",
       "      <td>0</td>\n",
       "      <td>16.271119</td>\n",
       "      <td>0</td>\n",
       "      <td>1</td>\n",
       "      <td>6</td>\n",
       "      <td>108</td>\n",
       "      <td>79</td>\n",
       "      <td>25</td>\n",
       "      <td>1</td>\n",
       "      <td>0.0</td>\n",
       "      <td>1.0</td>\n",
       "      <td>0.0</td>\n",
       "      <td>0.0</td>\n",
       "      <td>0.0</td>\n",
       "      <td>0.0</td>\n",
       "      <td>1.0</td>\n",
       "    </tr>\n",
       "    <tr>\n",
       "      <th>1</th>\n",
       "      <td>9001</td>\n",
       "      <td>29</td>\n",
       "      <td>1</td>\n",
       "      <td>5.525961</td>\n",
       "      <td>0</td>\n",
       "      <td>1</td>\n",
       "      <td>5</td>\n",
       "      <td>144</td>\n",
       "      <td>11</td>\n",
       "      <td>10</td>\n",
       "      <td>1</td>\n",
       "      <td>0.0</td>\n",
       "      <td>0.0</td>\n",
       "      <td>1.0</td>\n",
       "      <td>0.0</td>\n",
       "      <td>0.0</td>\n",
       "      <td>0.0</td>\n",
       "      <td>1.0</td>\n",
       "    </tr>\n",
       "    <tr>\n",
       "      <th>2</th>\n",
       "      <td>9002</td>\n",
       "      <td>22</td>\n",
       "      <td>1</td>\n",
       "      <td>8.223755</td>\n",
       "      <td>0</td>\n",
       "      <td>0</td>\n",
       "      <td>16</td>\n",
       "      <td>142</td>\n",
       "      <td>35</td>\n",
       "      <td>41</td>\n",
       "      <td>2</td>\n",
       "      <td>0.0</td>\n",
       "      <td>0.0</td>\n",
       "      <td>1.0</td>\n",
       "      <td>0.0</td>\n",
       "      <td>0.0</td>\n",
       "      <td>1.0</td>\n",
       "      <td>0.0</td>\n",
       "    </tr>\n",
       "    <tr>\n",
       "      <th>3</th>\n",
       "      <td>9003</td>\n",
       "      <td>35</td>\n",
       "      <td>0</td>\n",
       "      <td>5.265351</td>\n",
       "      <td>1</td>\n",
       "      <td>0</td>\n",
       "      <td>9</td>\n",
       "      <td>85</td>\n",
       "      <td>57</td>\n",
       "      <td>47</td>\n",
       "      <td>1</td>\n",
       "      <td>0.0</td>\n",
       "      <td>0.0</td>\n",
       "      <td>1.0</td>\n",
       "      <td>0.0</td>\n",
       "      <td>0.0</td>\n",
       "      <td>0.0</td>\n",
       "      <td>0.0</td>\n",
       "    </tr>\n",
       "    <tr>\n",
       "      <th>4</th>\n",
       "      <td>9004</td>\n",
       "      <td>33</td>\n",
       "      <td>0</td>\n",
       "      <td>15.531945</td>\n",
       "      <td>0</td>\n",
       "      <td>1</td>\n",
       "      <td>2</td>\n",
       "      <td>131</td>\n",
       "      <td>95</td>\n",
       "      <td>37</td>\n",
       "      <td>1</td>\n",
       "      <td>1.0</td>\n",
       "      <td>0.0</td>\n",
       "      <td>0.0</td>\n",
       "      <td>0.0</td>\n",
       "      <td>0.0</td>\n",
       "      <td>0.0</td>\n",
       "      <td>0.0</td>\n",
       "    </tr>\n",
       "    <tr>\n",
       "      <th>...</th>\n",
       "      <td>...</td>\n",
       "      <td>...</td>\n",
       "      <td>...</td>\n",
       "      <td>...</td>\n",
       "      <td>...</td>\n",
       "      <td>...</td>\n",
       "      <td>...</td>\n",
       "      <td>...</td>\n",
       "      <td>...</td>\n",
       "      <td>...</td>\n",
       "      <td>...</td>\n",
       "      <td>...</td>\n",
       "      <td>...</td>\n",
       "      <td>...</td>\n",
       "      <td>...</td>\n",
       "      <td>...</td>\n",
       "      <td>...</td>\n",
       "      <td>...</td>\n",
       "    </tr>\n",
       "    <tr>\n",
       "      <th>40029</th>\n",
       "      <td>49029</td>\n",
       "      <td>32</td>\n",
       "      <td>0</td>\n",
       "      <td>20.619662</td>\n",
       "      <td>0</td>\n",
       "      <td>0</td>\n",
       "      <td>4</td>\n",
       "      <td>75</td>\n",
       "      <td>85</td>\n",
       "      <td>14</td>\n",
       "      <td>1</td>\n",
       "      <td>0.0</td>\n",
       "      <td>0.0</td>\n",
       "      <td>1.0</td>\n",
       "      <td>0.0</td>\n",
       "      <td>0.0</td>\n",
       "      <td>0.0</td>\n",
       "      <td>1.0</td>\n",
       "    </tr>\n",
       "    <tr>\n",
       "      <th>40030</th>\n",
       "      <td>49030</td>\n",
       "      <td>44</td>\n",
       "      <td>1</td>\n",
       "      <td>13.539280</td>\n",
       "      <td>0</td>\n",
       "      <td>2</td>\n",
       "      <td>19</td>\n",
       "      <td>114</td>\n",
       "      <td>71</td>\n",
       "      <td>27</td>\n",
       "      <td>2</td>\n",
       "      <td>0.0</td>\n",
       "      <td>1.0</td>\n",
       "      <td>0.0</td>\n",
       "      <td>0.0</td>\n",
       "      <td>1.0</td>\n",
       "      <td>0.0</td>\n",
       "      <td>0.0</td>\n",
       "    </tr>\n",
       "    <tr>\n",
       "      <th>40031</th>\n",
       "      <td>49031</td>\n",
       "      <td>15</td>\n",
       "      <td>1</td>\n",
       "      <td>0.240057</td>\n",
       "      <td>1</td>\n",
       "      <td>0</td>\n",
       "      <td>10</td>\n",
       "      <td>176</td>\n",
       "      <td>29</td>\n",
       "      <td>1</td>\n",
       "      <td>2</td>\n",
       "      <td>0.0</td>\n",
       "      <td>0.0</td>\n",
       "      <td>1.0</td>\n",
       "      <td>1.0</td>\n",
       "      <td>0.0</td>\n",
       "      <td>0.0</td>\n",
       "      <td>0.0</td>\n",
       "    </tr>\n",
       "    <tr>\n",
       "      <th>40032</th>\n",
       "      <td>49032</td>\n",
       "      <td>34</td>\n",
       "      <td>0</td>\n",
       "      <td>14.017818</td>\n",
       "      <td>1</td>\n",
       "      <td>1</td>\n",
       "      <td>3</td>\n",
       "      <td>128</td>\n",
       "      <td>70</td>\n",
       "      <td>10</td>\n",
       "      <td>1</td>\n",
       "      <td>0.0</td>\n",
       "      <td>0.0</td>\n",
       "      <td>1.0</td>\n",
       "      <td>0.0</td>\n",
       "      <td>0.0</td>\n",
       "      <td>1.0</td>\n",
       "      <td>0.0</td>\n",
       "    </tr>\n",
       "    <tr>\n",
       "      <th>40033</th>\n",
       "      <td>49033</td>\n",
       "      <td>19</td>\n",
       "      <td>0</td>\n",
       "      <td>10.083804</td>\n",
       "      <td>0</td>\n",
       "      <td>0</td>\n",
       "      <td>13</td>\n",
       "      <td>84</td>\n",
       "      <td>72</td>\n",
       "      <td>39</td>\n",
       "      <td>1</td>\n",
       "      <td>0.0</td>\n",
       "      <td>0.0</td>\n",
       "      <td>1.0</td>\n",
       "      <td>0.0</td>\n",
       "      <td>0.0</td>\n",
       "      <td>1.0</td>\n",
       "      <td>0.0</td>\n",
       "    </tr>\n",
       "  </tbody>\n",
       "</table>\n",
       "<p>40034 rows × 18 columns</p>\n",
       "</div>"
      ],
      "text/plain": [
       "       PlayerID  Age  Female  PlayTimeHours  InGamePurchases  Difficulty  \\\n",
       "0          9000   43       0      16.271119                0           1   \n",
       "1          9001   29       1       5.525961                0           1   \n",
       "2          9002   22       1       8.223755                0           0   \n",
       "3          9003   35       0       5.265351                1           0   \n",
       "4          9004   33       0      15.531945                0           1   \n",
       "...         ...  ...     ...            ...              ...         ...   \n",
       "40029     49029   32       0      20.619662                0           0   \n",
       "40030     49030   44       1      13.539280                0           2   \n",
       "40031     49031   15       1       0.240057                1           0   \n",
       "40032     49032   34       0      14.017818                1           1   \n",
       "40033     49033   19       0      10.083804                0           0   \n",
       "\n",
       "       SessionsPerWeek  AvgSessionDurationMinutes  Level  \\\n",
       "0                    6                        108     79   \n",
       "1                    5                        144     11   \n",
       "2                   16                        142     35   \n",
       "3                    9                         85     57   \n",
       "4                    2                        131     95   \n",
       "...                ...                        ...    ...   \n",
       "40029                4                         75     85   \n",
       "40030               19                        114     71   \n",
       "40031               10                        176     29   \n",
       "40032                3                        128     70   \n",
       "40033               13                         84     72   \n",
       "\n",
       "       AchievementsUnlocked  Engagement  Location_Europe  Location_Other  \\\n",
       "0                        25           1              0.0             1.0   \n",
       "1                        10           1              0.0             0.0   \n",
       "2                        41           2              0.0             0.0   \n",
       "3                        47           1              0.0             0.0   \n",
       "4                        37           1              1.0             0.0   \n",
       "...                     ...         ...              ...             ...   \n",
       "40029                    14           1              0.0             0.0   \n",
       "40030                    27           2              0.0             1.0   \n",
       "40031                     1           2              0.0             0.0   \n",
       "40032                    10           1              0.0             0.0   \n",
       "40033                    39           1              0.0             0.0   \n",
       "\n",
       "       Location_USA  Genre_RPG  Genre_Simulation  Genre_Sports  Genre_Strategy  \n",
       "0               0.0        0.0               0.0           0.0             1.0  \n",
       "1               1.0        0.0               0.0           0.0             1.0  \n",
       "2               1.0        0.0               0.0           1.0             0.0  \n",
       "3               1.0        0.0               0.0           0.0             0.0  \n",
       "4               0.0        0.0               0.0           0.0             0.0  \n",
       "...             ...        ...               ...           ...             ...  \n",
       "40029           1.0        0.0               0.0           0.0             1.0  \n",
       "40030           0.0        0.0               1.0           0.0             0.0  \n",
       "40031           1.0        1.0               0.0           0.0             0.0  \n",
       "40032           1.0        0.0               0.0           1.0             0.0  \n",
       "40033           1.0        0.0               0.0           1.0             0.0  \n",
       "\n",
       "[40034 rows x 18 columns]"
      ]
     },
     "execution_count": 72,
     "metadata": {},
     "output_type": "execute_result"
    }
   ],
   "source": [
    "df"
   ]
  },
  {
   "cell_type": "code",
   "execution_count": 73,
   "id": "cead8597-b3ac-4311-ad69-cce3fc1a86fb",
   "metadata": {},
   "outputs": [
    {
     "data": {
      "text/html": [
       "<div>\n",
       "<style scoped>\n",
       "    .dataframe tbody tr th:only-of-type {\n",
       "        vertical-align: middle;\n",
       "    }\n",
       "\n",
       "    .dataframe tbody tr th {\n",
       "        vertical-align: top;\n",
       "    }\n",
       "\n",
       "    .dataframe thead th {\n",
       "        text-align: right;\n",
       "    }\n",
       "</style>\n",
       "<table border=\"1\" class=\"dataframe\">\n",
       "  <thead>\n",
       "    <tr style=\"text-align: right;\">\n",
       "      <th></th>\n",
       "      <th>Age</th>\n",
       "      <th>Female</th>\n",
       "      <th>PlayTimeHours</th>\n",
       "      <th>InGamePurchases</th>\n",
       "      <th>Difficulty</th>\n",
       "      <th>SessionsPerWeek</th>\n",
       "      <th>AvgSessionDurationMinutes</th>\n",
       "      <th>Level</th>\n",
       "      <th>AchievementsUnlocked</th>\n",
       "      <th>Engagement</th>\n",
       "      <th>Genre_RPG</th>\n",
       "      <th>Genre_Simulation</th>\n",
       "      <th>Genre_Sports</th>\n",
       "      <th>Genre_Strategy</th>\n",
       "    </tr>\n",
       "  </thead>\n",
       "  <tbody>\n",
       "    <tr>\n",
       "      <th>1</th>\n",
       "      <td>29</td>\n",
       "      <td>1</td>\n",
       "      <td>5.525961</td>\n",
       "      <td>0</td>\n",
       "      <td>1</td>\n",
       "      <td>5</td>\n",
       "      <td>144</td>\n",
       "      <td>11</td>\n",
       "      <td>10</td>\n",
       "      <td>1</td>\n",
       "      <td>0.0</td>\n",
       "      <td>0.0</td>\n",
       "      <td>0.0</td>\n",
       "      <td>1.0</td>\n",
       "    </tr>\n",
       "    <tr>\n",
       "      <th>2</th>\n",
       "      <td>22</td>\n",
       "      <td>1</td>\n",
       "      <td>8.223755</td>\n",
       "      <td>0</td>\n",
       "      <td>0</td>\n",
       "      <td>16</td>\n",
       "      <td>142</td>\n",
       "      <td>35</td>\n",
       "      <td>41</td>\n",
       "      <td>2</td>\n",
       "      <td>0.0</td>\n",
       "      <td>0.0</td>\n",
       "      <td>1.0</td>\n",
       "      <td>0.0</td>\n",
       "    </tr>\n",
       "    <tr>\n",
       "      <th>3</th>\n",
       "      <td>35</td>\n",
       "      <td>0</td>\n",
       "      <td>5.265351</td>\n",
       "      <td>1</td>\n",
       "      <td>0</td>\n",
       "      <td>9</td>\n",
       "      <td>85</td>\n",
       "      <td>57</td>\n",
       "      <td>47</td>\n",
       "      <td>1</td>\n",
       "      <td>0.0</td>\n",
       "      <td>0.0</td>\n",
       "      <td>0.0</td>\n",
       "      <td>0.0</td>\n",
       "    </tr>\n",
       "    <tr>\n",
       "      <th>6</th>\n",
       "      <td>25</td>\n",
       "      <td>0</td>\n",
       "      <td>9.752716</td>\n",
       "      <td>0</td>\n",
       "      <td>2</td>\n",
       "      <td>1</td>\n",
       "      <td>50</td>\n",
       "      <td>13</td>\n",
       "      <td>2</td>\n",
       "      <td>0</td>\n",
       "      <td>0.0</td>\n",
       "      <td>0.0</td>\n",
       "      <td>0.0</td>\n",
       "      <td>0.0</td>\n",
       "    </tr>\n",
       "    <tr>\n",
       "      <th>10</th>\n",
       "      <td>17</td>\n",
       "      <td>0</td>\n",
       "      <td>4.829916</td>\n",
       "      <td>0</td>\n",
       "      <td>2</td>\n",
       "      <td>8</td>\n",
       "      <td>95</td>\n",
       "      <td>14</td>\n",
       "      <td>12</td>\n",
       "      <td>2</td>\n",
       "      <td>0.0</td>\n",
       "      <td>0.0</td>\n",
       "      <td>0.0</td>\n",
       "      <td>1.0</td>\n",
       "    </tr>\n",
       "    <tr>\n",
       "      <th>...</th>\n",
       "      <td>...</td>\n",
       "      <td>...</td>\n",
       "      <td>...</td>\n",
       "      <td>...</td>\n",
       "      <td>...</td>\n",
       "      <td>...</td>\n",
       "      <td>...</td>\n",
       "      <td>...</td>\n",
       "      <td>...</td>\n",
       "      <td>...</td>\n",
       "      <td>...</td>\n",
       "      <td>...</td>\n",
       "      <td>...</td>\n",
       "      <td>...</td>\n",
       "    </tr>\n",
       "    <tr>\n",
       "      <th>40028</th>\n",
       "      <td>36</td>\n",
       "      <td>0</td>\n",
       "      <td>1.020489</td>\n",
       "      <td>0</td>\n",
       "      <td>2</td>\n",
       "      <td>4</td>\n",
       "      <td>34</td>\n",
       "      <td>97</td>\n",
       "      <td>21</td>\n",
       "      <td>0</td>\n",
       "      <td>1.0</td>\n",
       "      <td>0.0</td>\n",
       "      <td>0.0</td>\n",
       "      <td>0.0</td>\n",
       "    </tr>\n",
       "    <tr>\n",
       "      <th>40029</th>\n",
       "      <td>32</td>\n",
       "      <td>0</td>\n",
       "      <td>20.619662</td>\n",
       "      <td>0</td>\n",
       "      <td>0</td>\n",
       "      <td>4</td>\n",
       "      <td>75</td>\n",
       "      <td>85</td>\n",
       "      <td>14</td>\n",
       "      <td>1</td>\n",
       "      <td>0.0</td>\n",
       "      <td>0.0</td>\n",
       "      <td>0.0</td>\n",
       "      <td>1.0</td>\n",
       "    </tr>\n",
       "    <tr>\n",
       "      <th>40031</th>\n",
       "      <td>15</td>\n",
       "      <td>1</td>\n",
       "      <td>0.240057</td>\n",
       "      <td>1</td>\n",
       "      <td>0</td>\n",
       "      <td>10</td>\n",
       "      <td>176</td>\n",
       "      <td>29</td>\n",
       "      <td>1</td>\n",
       "      <td>2</td>\n",
       "      <td>1.0</td>\n",
       "      <td>0.0</td>\n",
       "      <td>0.0</td>\n",
       "      <td>0.0</td>\n",
       "    </tr>\n",
       "    <tr>\n",
       "      <th>40032</th>\n",
       "      <td>34</td>\n",
       "      <td>0</td>\n",
       "      <td>14.017818</td>\n",
       "      <td>1</td>\n",
       "      <td>1</td>\n",
       "      <td>3</td>\n",
       "      <td>128</td>\n",
       "      <td>70</td>\n",
       "      <td>10</td>\n",
       "      <td>1</td>\n",
       "      <td>0.0</td>\n",
       "      <td>0.0</td>\n",
       "      <td>1.0</td>\n",
       "      <td>0.0</td>\n",
       "    </tr>\n",
       "    <tr>\n",
       "      <th>40033</th>\n",
       "      <td>19</td>\n",
       "      <td>0</td>\n",
       "      <td>10.083804</td>\n",
       "      <td>0</td>\n",
       "      <td>0</td>\n",
       "      <td>13</td>\n",
       "      <td>84</td>\n",
       "      <td>72</td>\n",
       "      <td>39</td>\n",
       "      <td>1</td>\n",
       "      <td>0.0</td>\n",
       "      <td>0.0</td>\n",
       "      <td>1.0</td>\n",
       "      <td>0.0</td>\n",
       "    </tr>\n",
       "  </tbody>\n",
       "</table>\n",
       "<p>16000 rows × 14 columns</p>\n",
       "</div>"
      ],
      "text/plain": [
       "       Age  Female  PlayTimeHours  InGamePurchases  Difficulty  \\\n",
       "1       29       1       5.525961                0           1   \n",
       "2       22       1       8.223755                0           0   \n",
       "3       35       0       5.265351                1           0   \n",
       "6       25       0       9.752716                0           2   \n",
       "10      17       0       4.829916                0           2   \n",
       "...    ...     ...            ...              ...         ...   \n",
       "40028   36       0       1.020489                0           2   \n",
       "40029   32       0      20.619662                0           0   \n",
       "40031   15       1       0.240057                1           0   \n",
       "40032   34       0      14.017818                1           1   \n",
       "40033   19       0      10.083804                0           0   \n",
       "\n",
       "       SessionsPerWeek  AvgSessionDurationMinutes  Level  \\\n",
       "1                    5                        144     11   \n",
       "2                   16                        142     35   \n",
       "3                    9                         85     57   \n",
       "6                    1                         50     13   \n",
       "10                   8                         95     14   \n",
       "...                ...                        ...    ...   \n",
       "40028                4                         34     97   \n",
       "40029                4                         75     85   \n",
       "40031               10                        176     29   \n",
       "40032                3                        128     70   \n",
       "40033               13                         84     72   \n",
       "\n",
       "       AchievementsUnlocked  Engagement  Genre_RPG  Genre_Simulation  \\\n",
       "1                        10           1        0.0               0.0   \n",
       "2                        41           2        0.0               0.0   \n",
       "3                        47           1        0.0               0.0   \n",
       "6                         2           0        0.0               0.0   \n",
       "10                       12           2        0.0               0.0   \n",
       "...                     ...         ...        ...               ...   \n",
       "40028                    21           0        1.0               0.0   \n",
       "40029                    14           1        0.0               0.0   \n",
       "40031                     1           2        1.0               0.0   \n",
       "40032                    10           1        0.0               0.0   \n",
       "40033                    39           1        0.0               0.0   \n",
       "\n",
       "       Genre_Sports  Genre_Strategy  \n",
       "1               0.0             1.0  \n",
       "2               1.0             0.0  \n",
       "3               0.0             0.0  \n",
       "6               0.0             0.0  \n",
       "10              0.0             1.0  \n",
       "...             ...             ...  \n",
       "40028           0.0             0.0  \n",
       "40029           0.0             1.0  \n",
       "40031           0.0             0.0  \n",
       "40032           1.0             0.0  \n",
       "40033           1.0             0.0  \n",
       "\n",
       "[16000 rows x 14 columns]"
      ]
     },
     "execution_count": 73,
     "metadata": {},
     "output_type": "execute_result"
    }
   ],
   "source": [
    "df1 = df[df['Location_USA']==1].drop(['PlayerID','Location_USA','Location_Europe','Location_Other'],axis=1)\n",
    "df1"
   ]
  },
  {
   "cell_type": "code",
   "execution_count": 75,
   "id": "bc4dc67e-865a-4c8a-823d-3d39ca37652f",
   "metadata": {},
   "outputs": [],
   "source": [
    "age_range = [20,31,43]\n",
    "r_age_15_25 = len(df1[(df1['Age']>=15) & (df1['Age']<=25)])/len(df1)\n",
    "r_age_26_36 = len(df1[(df1['Age']>=26) & (df1['Age']<=36)])/len(df1)\n",
    "r_age_37_47 = len(df1[(df1['Age']>=37) & (df1['Age']<=47)])/len(df1)\n",
    "r_age_range = [r_age_15_25,r_age_26_36,r_age_37_47]\n",
    "\n",
    "gender_range = [0,1]\n",
    "r_male = len(df1['Female']==0)/len(df1)\n",
    "r_female = len(df1['Female']==1)/len(df1)\n",
    "r_gender_range = [r_male,r_female]\n",
    "\n",
    "playtime_range = [4,12,20]\n",
    "r_playtime_0_8 = len(df1[df1['PlayTimeHours']<=8])/len(df1)\n",
    "r_playtime_8_16 = len(df1[(df1['PlayTimeHours']>8) & (df1['PlayTimeHours']<=16)])/len(df1)\n",
    "r_playtime_16_24 = len(df1[df1['PlayTimeHours']>16])/len(df1)\n",
    "r_playtime_range = [r_playtime_0_8, r_playtime_8_16, r_playtime_16_24]\n",
    "\n",
    "purchase_range = [0,1]\n",
    "r_nopurchases = len(df1[df1['InGamePurchases']==0])/len(df1)\n",
    "r_purchases = len(df1[df1['InGamePurchases']==1])/len(df1)\n",
    "r_purchase_range = [r_nopurchases,r_purchases]\n",
    "\n",
    "difficulty_range = [0,1,2]\n",
    "r_easy = len(df1['Difficulty']==0)/len(df1)\n",
    "r_medium = len(df1['Difficulty']==1)/len(df1)\n",
    "r_hard = len(df1['Difficulty']==2)/len(df1)\n",
    "r_difficulty_range = [r_easy,r_medium,r_hard]\n",
    "\n",
    "sessions_range = [3,9,15]\n",
    "r_sessions_0_6 = len(df1[df1['SessionsPerWeek']<=6])/len(df1)\n",
    "r_sessions_6_12 = len(df1[(df1['SessionsPerWeek']>6) & (df1['SessionsPerWeek']<=12)])/len(df1)\n",
    "r_sessions_12_18 = len(df1[df1['SessionsPerWeek']>12])/len(df1)\n",
    "r_sessions_range = [r_sessions_0_6, r_sessions_6_12, r_sessions_12_18]\n",
    "\n",
    "avgsessions_range = [38,94,150]\n",
    "r_avgsessions_0_66 = len(df1[df1['AvgSessionDurationMinutes']<=66])/len(df1)\n",
    "r_avgsessions_66_122 = len(df1[(df1['AvgSessionDurationMinutes']>66) & (df1['AvgSessionDurationMinutes']<=122)])/len(df1)\n",
    "r_avgsessions_122_178 = len(df1[(df1['AvgSessionDurationMinutes']>122) & (df1['AvgSessionDurationMinutes']<=178)])/len(df1)\n",
    "r_avgsessions_range = [r_avgsessions_0_66, r_avgsessions_66_122, r_avgsessions_122_178]\n",
    "\n",
    "level_range = [17,50,83]\n",
    "r_lvl_1_33 = len(df1[df1['Level']<=33])/len(df1)\n",
    "r_lvl_33_65 = len(df1[(df1['Level']>33) & (df1['Level']<=65)])/len(df1)\n",
    "r_lvl_65_97 = len(df1[(df1['Level']>65) & (df1['Level']<=97)])/len(df1)\n",
    "r_lvl_range = [r_lvl_1_33, r_lvl_33_65, r_lvl_65_97]\n",
    "\n",
    "achievement_range = [9,25,41]\n",
    "r_achiev_0_16 = len(df1[df1['Level']<=16])/len(df1)\n",
    "r_achiev_16_32 = len(df1[(df1['Level']>16) & (df1['Level']<=32)])/len(df1)\n",
    "r_achiev_32_48 = len(df1[(df1['Level']>32) & (df1['Level']<=48)])/len(df1)\n",
    "r_achievement_range = [r_achiev_0_16,r_achiev_16_32,r_achiev_32_48]\n",
    "\n",
    "rpg_range = [0,1]\n",
    "r_norpg = len(df1['Genre_RPG']==0)/len(df1)\n",
    "r_rpg = len(df1['Genre_RPG']==1)/len(df1)\n",
    "r_rpg_range=[r_norpg,r_rpg]\n",
    "\n",
    "sim_range = [0,1]\n",
    "r_nosim = len(df1['Genre_Simulation']==0)/len(df1)\n",
    "r_sim = len(df1['Genre_Simulation']==1)/len(df1)\n",
    "r_sim_range = [r_nosim, r_sim]\n",
    "\n",
    "sports_range = [0,1]\n",
    "r_nosports = len(df1['Genre_Sports']==0)/len(df1)\n",
    "r_sports = len(df1['Genre_Sports']==1)/len(df1)\n",
    "r_sports_range = [r_nosports,r_sports]\n",
    "\n",
    "strat_range = [0,1]\n",
    "r_nostrat = len(df1['Genre_Strategy']==0)/len(df1)\n",
    "r_strat = len(df1['Genre_Strategy']==1)/len(df1)\n",
    "r_strat_range = [r_nostrat,r_strat]\n"
   ]
  },
  {
   "cell_type": "markdown",
   "id": "a7fef08d-6d4c-4ab2-bd76-c55b08cd252f",
   "metadata": {},
   "source": [
    "## Weighted Average Engagement - Comparing Age Groups"
   ]
  },
  {
   "cell_type": "code",
   "execution_count": 76,
   "id": "1ece9f0f-093b-4a40-b79f-ea430071325d",
   "metadata": {
    "scrolled": true
   },
   "outputs": [],
   "source": [
    "import warnings\n",
    "warnings.filterwarnings(\"ignore\")\n",
    "norm1,norm2,norm3 = 0,0,0\n",
    "total_engagement_age1,total_engagement_age2,total_engagement_age3 = 0,0,0\n",
    "for age,age_prop in zip(age_range,r_age_range):\n",
    "    for gender, gender_prop in zip(gender_range,r_gender_range):\n",
    "        for playtime, playtime_prop in zip(playtime_range, r_playtime_range):\n",
    "            for purchase, purchase_prop in zip(purchase_range,r_purchase_range):\n",
    "                for difficulty, difficulty_prop in zip(difficulty_range,r_difficulty_range):\n",
    "                    for sessions, sessions_prop in zip(sessions_range,r_sessions_range):\n",
    "                        for avgsessions, avgsessions_prop in zip(avgsessions_range,r_avgsessions_range):\n",
    "                            for level, level_prop in zip(level_range,r_lvl_range):\n",
    "                                for achievement,achievement_prop in zip(achievement_range,r_achievement_range):\n",
    "                                    for rpg,rpg_prop in zip(rpg_range,r_rpg_range):\n",
    "                                        for sim,sim_prop in zip(sim_range,r_sim_range):\n",
    "                                            for sports,sports_prop in zip(sports_range,r_sports_range):\n",
    "                                                for strat, strat_prop in zip(strat_range,r_strat_range):\n",
    "                                                    if sum([rpg,sim,sports,strat])>1:\n",
    "                                                        continue\n",
    "                                                    total_prop = age_prop*gender_prop*playtime_prop*purchase_prop*difficulty_prop*sessions_prop*avgsessions_prop*level_prop*achievement_prop*rpg_prop*sim_prop*sports_prop*strat_prop\n",
    "                                                    \n",
    "                                                    X_topredict = np.array([age,gender,playtime,purchase,difficulty,sessions,avgsessions,level,achievement,0,0,1,rpg,sim,sports,strat]).reshape(1,-1)\n",
    "                                                    X_topredict_scaled = scaler_allfeats.transform(X_topredict)\n",
    "                                                    if   age==age_range[0]:\n",
    "                                                        norm1 += total_prop\n",
    "                                                        total_engagement_age1 += total_prop*best_estimator.predict(X_topredict_scaled)[0]\n",
    "                                                    elif age==age_range[1]:\n",
    "                                                        norm2 += total_prop\n",
    "                                                        total_engagement_age2 +=total_prop*best_estimator.predict(X_topredict_scaled)[0]\n",
    "                                                    else:\n",
    "                                                        norm3 += total_prop\n",
    "                                                        total_engagement_age3 +=total_prop*best_estimator.predict(X_topredict_scaled)[0]\n",
    "\n",
    "\n",
    "total_engagement_age1,total_engagement_age2,total_engagement_age3 = total_engagement_age1/norm1,total_engagement_age2/norm2,total_engagement_age3/norm3"
   ]
  },
  {
   "cell_type": "code",
   "execution_count": 77,
   "id": "bb5605d8-ca4d-46ba-bd76-551c18c4d5bf",
   "metadata": {},
   "outputs": [
    {
     "name": "stdout",
     "output_type": "stream",
     "text": [
      "1.0651184364605106 1.0651184364605024 1.0651184364605129\n"
     ]
    }
   ],
   "source": [
    "print(total_engagement_age1,total_engagement_age2,total_engagement_age3)"
   ]
  },
  {
   "cell_type": "markdown",
   "id": "347916ce-5d56-4bd7-8d51-917747040889",
   "metadata": {},
   "source": [
    "Total Proportional Engagement for Age Groups are:\n",
    "- Ages between 15-25: 1.065\n",
    "- Ages between 26-36: 1.065\n",
    "- Ages between 37-47: 1.065"
   ]
  },
  {
   "cell_type": "markdown",
   "id": "30e2931f-c06d-4ab5-ba7b-25af7ae639b3",
   "metadata": {},
   "source": [
    "## Weighted Average Engagement - Comparing Gender"
   ]
  },
  {
   "cell_type": "code",
   "execution_count": 78,
   "id": "76af2c09-4c81-4577-91fd-e8b93be51ef0",
   "metadata": {},
   "outputs": [],
   "source": [
    "total_engagement_male,total_engagement_female = 0,0\n",
    "norm1,norm2,norm3 = 0,0,0\n",
    "for age,age_prop in zip(age_range,r_age_range):\n",
    "    for gender, gender_prop in zip(gender_range,r_gender_range):\n",
    "        for playtime, playtime_prop in zip(playtime_range, r_playtime_range):\n",
    "            for purchase, purchase_prop in zip(purchase_range,r_purchase_range):\n",
    "                for difficulty, difficulty_prop in zip(difficulty_range,r_difficulty_range):\n",
    "                    for sessions, sessions_prop in zip(sessions_range,r_sessions_range):\n",
    "                        for avgsessions, avgsessions_prop in zip(avgsessions_range,r_avgsessions_range):\n",
    "                            for level, level_prop in zip(level_range,r_lvl_range):\n",
    "                                for achievement,achievement_prop in zip(achievement_range,r_achievement_range):\n",
    "                                    for rpg,rpg_prop in zip(rpg_range,r_rpg_range):\n",
    "                                        for sim,sim_prop in zip(sim_range,r_sim_range):\n",
    "                                            for sports,sports_prop in zip(sports_range,r_sports_range):\n",
    "                                                for strat, strat_prop in zip(strat_range,r_strat_range):\n",
    "                                                    if sum([rpg,sim,sports,strat])>1:\n",
    "                                                        continue\n",
    "                                                    total_prop = age_prop*gender_prop*playtime_prop*purchase_prop*difficulty_prop*sessions_prop*avgsessions_prop*level_prop*achievement_prop*rpg_prop*sim_prop*sports_prop*strat_prop\n",
    "                                                    \n",
    "                                                    X_topredict = np.array([age,gender,playtime,purchase,difficulty,sessions,avgsessions,level,achievement,0,0,1,rpg,sim,sports,strat]).reshape(1,-1)\n",
    "                                                    X_topredict_scaled = scaler_allfeats.transform(X_topredict)\n",
    "                                                    if   gender==gender_range[0]:\n",
    "                                                        norm1 += total_prop\n",
    "                                                        total_engagement_male += total_prop*best_estimator.predict(X_topredict_scaled)[0]\n",
    "                                                    else:\n",
    "                                                        norm2 += total_prop\n",
    "                                                        total_engagement_female +=total_prop*best_estimator.predict(X_topredict_scaled)[0]\n",
    "\n",
    "total_engagement_male,total_engagement_female = total_engagement_male/norm1,total_engagement_female/norm2"
   ]
  },
  {
   "cell_type": "code",
   "execution_count": 79,
   "id": "ad67e369-1df8-4063-9a5d-516a2936b5dc",
   "metadata": {},
   "outputs": [
    {
     "data": {
      "text/plain": [
       "(1.0651184364605024, 1.0651184364605024)"
      ]
     },
     "execution_count": 79,
     "metadata": {},
     "output_type": "execute_result"
    }
   ],
   "source": [
    "total_engagement_male,total_engagement_female"
   ]
  },
  {
   "cell_type": "markdown",
   "id": "17787798-6b8b-470e-8ca2-f60c21c851a9",
   "metadata": {},
   "source": [
    "Total Proportional Engagement for Gender Groups are:\n",
    "- Males: 1.065\n",
    "- Female: 1.065"
   ]
  },
  {
   "cell_type": "markdown",
   "id": "c3fdae97-1218-48a6-99c5-87c7de2b4d21",
   "metadata": {},
   "source": [
    "## Weighted Average Engagement - Comparing Playtime"
   ]
  },
  {
   "cell_type": "code",
   "execution_count": 80,
   "id": "28fe43a3-b466-4ada-86f1-1ad3db188a36",
   "metadata": {},
   "outputs": [],
   "source": [
    "total_engagement_playtime1,total_engagement_playtime2,total_engagement_playtime3 = 0,0,0\n",
    "norm1,norm2,norm3 = 0,0,0\n",
    "for age,age_prop in zip(age_range,r_age_range):\n",
    "    for gender, gender_prop in zip(gender_range,r_gender_range):\n",
    "        for playtime, playtime_prop in zip(playtime_range, r_playtime_range):\n",
    "            for purchase, purchase_prop in zip(purchase_range,r_purchase_range):\n",
    "                for difficulty, difficulty_prop in zip(difficulty_range,r_difficulty_range):\n",
    "                    for sessions, sessions_prop in zip(sessions_range,r_sessions_range):\n",
    "                        for avgsessions, avgsessions_prop in zip(avgsessions_range,r_avgsessions_range):\n",
    "                            for level, level_prop in zip(level_range,r_lvl_range):\n",
    "                                for achievement,achievement_prop in zip(achievement_range,r_achievement_range):\n",
    "                                    for rpg,rpg_prop in zip(rpg_range,r_rpg_range):\n",
    "                                        for sim,sim_prop in zip(sim_range,r_sim_range):\n",
    "                                            for sports,sports_prop in zip(sports_range,r_sports_range):\n",
    "                                                for strat, strat_prop in zip(strat_range,r_strat_range):\n",
    "                                                    if sum([rpg,sim,sports,strat])>1:\n",
    "                                                        continue\n",
    "                                                    total_prop = age_prop*gender_prop*playtime_prop*purchase_prop*difficulty_prop*sessions_prop*avgsessions_prop*level_prop*achievement_prop*rpg_prop*sim_prop*sports_prop*strat_prop\n",
    "                                                    \n",
    "                                                    X_topredict = np.array([age,gender,playtime,purchase,difficulty,sessions,avgsessions,level,achievement,0,0,1,rpg,sim,sports,strat]).reshape(1,-1)\n",
    "                                                    X_topredict_scaled = scaler_allfeats.transform(X_topredict)\n",
    "                                                    if   playtime==playtime_range[0]:\n",
    "                                                        norm1 += total_prop\n",
    "                                                        total_engagement_playtime1 += total_prop*best_estimator.predict(X_topredict_scaled)[0]\n",
    "                                                    elif playtime==playtime_range[1]:\n",
    "                                                        norm2 += total_prop\n",
    "                                                        total_engagement_playtime2 +=total_prop*best_estimator.predict(X_topredict_scaled)[0]\n",
    "                                                    else:\n",
    "                                                        norm3 += total_prop\n",
    "                                                        total_engagement_playtime3 +=total_prop*best_estimator.predict(X_topredict_scaled)[0]\n",
    "\n",
    "total_engagement_playtime1,total_engagement_playtime2,total_engagement_playtime3 = total_engagement_playtime1/norm1,total_engagement_playtime2/norm2,total_engagement_playtime3/norm3"
   ]
  },
  {
   "cell_type": "code",
   "execution_count": 81,
   "id": "278a7aca-ad3a-4367-8699-cb9ada79ff9d",
   "metadata": {},
   "outputs": [
    {
     "data": {
      "text/plain": [
       "(1.0651184364605293, 1.0651184364605044, 1.0651184364605135)"
      ]
     },
     "execution_count": 81,
     "metadata": {},
     "output_type": "execute_result"
    }
   ],
   "source": [
    "total_engagement_playtime1,total_engagement_playtime2,total_engagement_playtime3"
   ]
  },
  {
   "cell_type": "markdown",
   "id": "1ec972fa-ea17-472f-ae84-85bf9ad395cb",
   "metadata": {},
   "source": [
    "Total Proportional Engagement for Playtime Groups are:\n",
    "- Playtime between 0-8: 1.065\n",
    "- Playtime between 8-16: 1.065\n",
    "- Playtime between 16-24: 1.065"
   ]
  },
  {
   "cell_type": "markdown",
   "id": "9d371c65-e09d-401a-aa84-f6fd6e343cf7",
   "metadata": {},
   "source": [
    "## Weighted Average Engagement - Comparing InGamePurchases"
   ]
  },
  {
   "cell_type": "code",
   "execution_count": 82,
   "id": "5fef2494-1167-434d-b052-a75c78de8fc1",
   "metadata": {},
   "outputs": [],
   "source": [
    "total_engagement_nopurchase,total_engagement_purchase = 0,0\n",
    "norm1,norm2,norm3 = 0,0,0\n",
    "for age,age_prop in zip(age_range,r_age_range):\n",
    "    for gender, gender_prop in zip(gender_range,r_gender_range):\n",
    "        for playtime, playtime_prop in zip(playtime_range, r_playtime_range):\n",
    "            for purchase, purchase_prop in zip(purchase_range,r_purchase_range):\n",
    "                for difficulty, difficulty_prop in zip(difficulty_range,r_difficulty_range):\n",
    "                    for sessions, sessions_prop in zip(sessions_range,r_sessions_range):\n",
    "                        for avgsessions, avgsessions_prop in zip(avgsessions_range,r_avgsessions_range):\n",
    "                            for level, level_prop in zip(level_range,r_lvl_range):\n",
    "                                for achievement,achievement_prop in zip(achievement_range,r_achievement_range):\n",
    "                                    for rpg,rpg_prop in zip(rpg_range,r_rpg_range):\n",
    "                                        for sim,sim_prop in zip(sim_range,r_sim_range):\n",
    "                                            for sports,sports_prop in zip(sports_range,r_sports_range):\n",
    "                                                for strat, strat_prop in zip(strat_range,r_strat_range):\n",
    "                                                    if sum([rpg,sim,sports,strat])>1:\n",
    "                                                        continue\n",
    "                                                    total_prop = age_prop*gender_prop*playtime_prop*purchase_prop*difficulty_prop*sessions_prop*avgsessions_prop*level_prop*achievement_prop*rpg_prop*sim_prop*sports_prop*strat_prop\n",
    "                                                    \n",
    "                                                    X_topredict = np.array([age,gender,playtime,purchase,difficulty,sessions,avgsessions,level,achievement,0,0,1,rpg,sim,sports,strat]).reshape(1,-1)\n",
    "                                                    X_topredict_scaled = scaler_allfeats.transform(X_topredict)\n",
    "                                                    if   purchase==purchase_range[0]:\n",
    "                                                        norm1 += total_prop\n",
    "                                                        total_engagement_nopurchase += total_prop*best_estimator.predict(X_topredict_scaled)[0]\n",
    "                                                    else:\n",
    "                                                        norm2 += total_prop\n",
    "                                                        total_engagement_purchase +=total_prop*best_estimator.predict(X_topredict_scaled)[0]\n",
    "\n",
    "total_engagement_nopurchase,total_engagement_purchase = total_engagement_nopurchase/norm1,total_engagement_purchase/norm2"
   ]
  },
  {
   "cell_type": "code",
   "execution_count": 83,
   "id": "1f91a6e3-37d4-4790-8006-c58c7c72ba17",
   "metadata": {},
   "outputs": [
    {
     "data": {
      "text/plain": [
       "(1.0651184364605162, 1.065118436460508)"
      ]
     },
     "execution_count": 83,
     "metadata": {},
     "output_type": "execute_result"
    }
   ],
   "source": [
    "total_engagement_nopurchase,total_engagement_purchase"
   ]
  },
  {
   "cell_type": "markdown",
   "id": "b219bcaa-dd5b-4385-8a7d-927a33fa8f43",
   "metadata": {},
   "source": [
    "Total Proportional Engagement for InGamePurchase Groups are:\n",
    "- No In Game Purchases: 1.065\n",
    "- In Game Purchases: 1.065"
   ]
  },
  {
   "cell_type": "markdown",
   "id": "dca11123-ab62-449e-8bba-a1f9ee461834",
   "metadata": {},
   "source": [
    "## Weighted Average Engagement - Comparing Difficulty Groups"
   ]
  },
  {
   "cell_type": "code",
   "execution_count": 84,
   "id": "6cfcfa90-27e3-4216-9fae-99e3267678c3",
   "metadata": {
    "scrolled": true
   },
   "outputs": [],
   "source": [
    "import warnings\n",
    "warnings.filterwarnings(\"ignore\")\n",
    "\n",
    "total_engagement_difficulty1,total_engagement_difficulty2,total_engagement_difficulty3 = 0,0,0\n",
    "norm1,norm2,norm3 = 0,0,0\n",
    "for age,age_prop in zip(age_range,r_age_range):\n",
    "    for gender, gender_prop in zip(gender_range,r_gender_range):\n",
    "        for playtime, playtime_prop in zip(playtime_range, r_playtime_range):\n",
    "            for purchase, purchase_prop in zip(purchase_range,r_purchase_range):\n",
    "                for difficulty, difficulty_prop in zip(difficulty_range,r_difficulty_range):\n",
    "                    for sessions, sessions_prop in zip(sessions_range,r_sessions_range):\n",
    "                        for avgsessions, avgsessions_prop in zip(avgsessions_range,r_avgsessions_range):\n",
    "                            for level, level_prop in zip(level_range,r_lvl_range):\n",
    "                                for achievement,achievement_prop in zip(achievement_range,r_achievement_range):\n",
    "                                    for rpg,rpg_prop in zip(rpg_range,r_rpg_range):\n",
    "                                        for sim,sim_prop in zip(sim_range,r_sim_range):\n",
    "                                            for sports,sports_prop in zip(sports_range,r_sports_range):\n",
    "                                                for strat, strat_prop in zip(strat_range,r_strat_range):\n",
    "                                                    if sum([rpg,sim,sports,strat])>1:\n",
    "                                                        continue\n",
    "                                                    total_prop = age_prop*gender_prop*playtime_prop*purchase_prop*difficulty_prop*sessions_prop*avgsessions_prop*level_prop*achievement_prop*rpg_prop*sim_prop*sports_prop*strat_prop\n",
    "                                                    \n",
    "                                                    X_topredict = np.array([age,gender,playtime,purchase,difficulty,sessions,avgsessions,level,achievement,0,0,1,rpg,sim,sports,strat]).reshape(1,-1)\n",
    "                                                    X_topredict_scaled = scaler_allfeats.transform(X_topredict)\n",
    "                                                    if   difficulty==difficulty_range[0]:\n",
    "                                                        norm1 += total_prop\n",
    "                                                        total_engagement_difficulty1 += total_prop*best_estimator.predict(X_topredict_scaled)[0]\n",
    "                                                    elif difficulty==difficulty_range[1]:\n",
    "                                                        norm2 += total_prop\n",
    "                                                        total_engagement_difficulty2 +=total_prop*best_estimator.predict(X_topredict_scaled)[0]\n",
    "                                                    else:\n",
    "                                                        norm3 += total_prop\n",
    "                                                        total_engagement_difficulty3 +=total_prop*best_estimator.predict(X_topredict_scaled)[0]\n",
    "\n",
    "total_engagement_difficulty1,total_engagement_difficulty2,total_engagement_difficulty3 = total_engagement_difficulty1/norm1,total_engagement_difficulty2/norm2,total_engagement_difficulty3/norm3"
   ]
  },
  {
   "cell_type": "code",
   "execution_count": 85,
   "id": "587b9a7a-3dac-41cb-a9be-f2175e9644a6",
   "metadata": {},
   "outputs": [
    {
     "name": "stdout",
     "output_type": "stream",
     "text": [
      "1.0651184364605113 1.0651184364605113 1.0651184364605113\n"
     ]
    }
   ],
   "source": [
    "print(total_engagement_difficulty1,total_engagement_difficulty2,total_engagement_difficulty3)"
   ]
  },
  {
   "cell_type": "markdown",
   "id": "e0651264-3bdc-4466-8e4e-dd0ede80d773",
   "metadata": {},
   "source": [
    "Total Proportional Engagement for Difficulty Groups are:\n",
    "- Difficulty Easy: 1.065\n",
    "- Difficulty Medium: 1.065\n",
    "- Difficulty Hard: 1.065"
   ]
  },
  {
   "cell_type": "markdown",
   "id": "6e74156e-9cae-481f-9c03-91505c695cbf",
   "metadata": {},
   "source": [
    "## Weighted Average Engagement - Comparing Number of Sessions Groups"
   ]
  },
  {
   "cell_type": "code",
   "execution_count": 86,
   "id": "37683499-be5e-4ea0-b0cf-7af9a4663df8",
   "metadata": {
    "scrolled": true
   },
   "outputs": [],
   "source": [
    "import warnings\n",
    "warnings.filterwarnings(\"ignore\")\n",
    "\n",
    "total_engagement_sessions1,total_engagement_sessions2,total_engagement_sessions3 = 0,0,0\n",
    "norm1,norm2,norm3 = 0,0,0\n",
    "for age,age_prop in zip(age_range,r_age_range):\n",
    "    for gender, gender_prop in zip(gender_range,r_gender_range):\n",
    "        for playtime, playtime_prop in zip(playtime_range, r_playtime_range):\n",
    "            for purchase, purchase_prop in zip(purchase_range,r_purchase_range):\n",
    "                for difficulty, difficulty_prop in zip(difficulty_range,r_difficulty_range):\n",
    "                    for sessions, sessions_prop in zip(sessions_range,r_sessions_range):\n",
    "                        for avgsessions, avgsessions_prop in zip(avgsessions_range,r_avgsessions_range):\n",
    "                            for level, level_prop in zip(level_range,r_lvl_range):\n",
    "                                for achievement,achievement_prop in zip(achievement_range,r_achievement_range):\n",
    "                                    for rpg,rpg_prop in zip(rpg_range,r_rpg_range):\n",
    "                                        for sim,sim_prop in zip(sim_range,r_sim_range):\n",
    "                                            for sports,sports_prop in zip(sports_range,r_sports_range):\n",
    "                                                for strat, strat_prop in zip(strat_range,r_strat_range):\n",
    "                                                    if sum([rpg,sim,sports,strat])>1:\n",
    "                                                        continue\n",
    "                                                    total_prop = age_prop*gender_prop*playtime_prop*purchase_prop*difficulty_prop*sessions_prop*avgsessions_prop*level_prop*achievement_prop*rpg_prop*sim_prop*sports_prop*strat_prop\n",
    "                                                    \n",
    "                                                    X_topredict = np.array([age,gender,playtime,purchase,difficulty,sessions,avgsessions,level,achievement,0,0,1,rpg,sim,sports,strat]).reshape(1,-1)\n",
    "                                                    X_topredict_scaled = scaler_allfeats.transform(X_topredict)\n",
    "                                                    if   sessions==sessions_range[0]:\n",
    "                                                        norm1 += total_prop\n",
    "                                                        total_engagement_sessions1 += total_prop*best_estimator.predict(X_topredict_scaled)[0]\n",
    "                                                    elif sessions==sessions_range[1]:\n",
    "                                                        norm2 += total_prop\n",
    "                                                        total_engagement_sessions2 +=total_prop*best_estimator.predict(X_topredict_scaled)[0]\n",
    "                                                    else:\n",
    "                                                        norm3 += total_prop\n",
    "                                                        total_engagement_sessions3 +=total_prop*best_estimator.predict(X_topredict_scaled)[0]\n",
    "\n",
    "total_engagement_sessions1,total_engagement_sessions2,total_engagement_sessions3 = total_engagement_sessions1/norm1,total_engagement_sessions2/norm2,total_engagement_sessions3/norm3"
   ]
  },
  {
   "cell_type": "code",
   "execution_count": 87,
   "id": "778e3687-7c07-43d2-8d35-65c01f4a7563",
   "metadata": {},
   "outputs": [
    {
     "name": "stdout",
     "output_type": "stream",
     "text": [
      "0.4074577133914237 1.1458656146797594 1.6659122343769686\n"
     ]
    }
   ],
   "source": [
    "print(total_engagement_sessions1,total_engagement_sessions2,total_engagement_sessions3)"
   ]
  },
  {
   "cell_type": "markdown",
   "id": "0b917559-6845-44dd-a82c-52c2d7ca867e",
   "metadata": {},
   "source": [
    "Total Proportional Engagement for Sessions Per Week Groups are:\n",
    "- Sessions 0-6: 0.40\n",
    "- Sessions 6-12: 1.14\n",
    "- Sessions 12-18: 1.66"
   ]
  },
  {
   "cell_type": "markdown",
   "id": "74b05c2c-a2cd-4700-a55f-90f9a8006e03",
   "metadata": {},
   "source": [
    "## Weighted Average Engagement - Comparing Average Session Duration in Minutes Groups"
   ]
  },
  {
   "cell_type": "code",
   "execution_count": 88,
   "id": "676d62eb-62c8-4bf3-bba6-079001950759",
   "metadata": {},
   "outputs": [],
   "source": [
    "import warnings\n",
    "warnings.filterwarnings(\"ignore\")\n",
    "\n",
    "total_engagement_avgsessions1,total_engagement_avgsessions2,total_engagement_avgsessions3 = 0,0,0\n",
    "norm1,norm2,norm3 = 0,0,0\n",
    "for age,age_prop in zip(age_range,r_age_range):\n",
    "    for gender, gender_prop in zip(gender_range,r_gender_range):\n",
    "        for playtime, playtime_prop in zip(playtime_range, r_playtime_range):\n",
    "            for purchase, purchase_prop in zip(purchase_range,r_purchase_range):\n",
    "                for difficulty, difficulty_prop in zip(difficulty_range,r_difficulty_range):\n",
    "                    for sessions, sessions_prop in zip(sessions_range,r_sessions_range):\n",
    "                        for avgsessions, avgsessions_prop in zip(avgsessions_range,r_avgsessions_range):\n",
    "                            for level, level_prop in zip(level_range,r_lvl_range):\n",
    "                                for achievement,achievement_prop in zip(achievement_range,r_achievement_range):\n",
    "                                    for rpg,rpg_prop in zip(rpg_range,r_rpg_range):\n",
    "                                        for sim,sim_prop in zip(sim_range,r_sim_range):\n",
    "                                            for sports,sports_prop in zip(sports_range,r_sports_range):\n",
    "                                                for strat, strat_prop in zip(strat_range,r_strat_range):\n",
    "                                                    if sum([rpg,sim,sports,strat])>1:\n",
    "                                                        continue\n",
    "                                                    total_prop = age_prop*gender_prop*playtime_prop*purchase_prop*difficulty_prop*sessions_prop*avgsessions_prop*level_prop*achievement_prop*rpg_prop*sim_prop*sports_prop*strat_prop\n",
    "                                                    \n",
    "                                                    X_topredict = np.array([age,gender,playtime,purchase,difficulty,sessions,avgsessions,level,achievement,0,0,1,rpg,sim,sports,strat]).reshape(1,-1)\n",
    "                                                    X_topredict_scaled = scaler_allfeats.transform(X_topredict)\n",
    "                                                    if   avgsessions==avgsessions_range[0]:\n",
    "                                                        norm1 += total_prop\n",
    "                                                        total_engagement_avgsessions1 += total_prop*best_estimator.predict(X_topredict_scaled)[0]\n",
    "                                                    elif avgsessions==avgsessions_range[1]:\n",
    "                                                        norm2 += total_prop\n",
    "                                                        total_engagement_avgsessions2 +=total_prop*best_estimator.predict(X_topredict_scaled)[0]\n",
    "                                                    else:\n",
    "                                                        norm3 += total_prop\n",
    "                                                        total_engagement_avgsessions3 +=total_prop*best_estimator.predict(X_topredict_scaled)[0]\n",
    "\n",
    "total_engagement_avgsessions1,total_engagement_avgsessions2,total_engagement_sessions3 = total_engagement_avgsessions1/norm1,total_engagement_avgsessions2/norm2,total_engagement_sessions3/norm3"
   ]
  },
  {
   "cell_type": "code",
   "execution_count": 89,
   "id": "acb94809-9f05-435d-8253-bb339fb3161b",
   "metadata": {},
   "outputs": [
    {
     "name": "stdout",
     "output_type": "stream",
     "text": [
      "0.6464374999999846 1.069472716231037 0.36906213091441387\n"
     ]
    }
   ],
   "source": [
    "print(total_engagement_avgsessions1,total_engagement_avgsessions2,total_engagement_sessions3)"
   ]
  },
  {
   "cell_type": "markdown",
   "id": "e194c581-ad65-4fee-9738-23a01ec76cf4",
   "metadata": {},
   "source": [
    "Total Proportional Engagement for Average Session in Minutes Groups are:\n",
    "- Average Session In Between 10-66min: 0.64\n",
    "- Average Session In Between 66-122min: 1.06\n",
    "- Average Session In Between 122-178min: 0.36"
   ]
  },
  {
   "cell_type": "markdown",
   "id": "4aac0fb3-615f-4ba4-9e58-935bfd8d80b6",
   "metadata": {},
   "source": [
    "## Weighted Average Engagement - Comparing Level Groups"
   ]
  },
  {
   "cell_type": "code",
   "execution_count": 90,
   "id": "ee15b679-c602-4f04-a9a5-221536f45bc4",
   "metadata": {
    "scrolled": true
   },
   "outputs": [],
   "source": [
    "import warnings\n",
    "warnings.filterwarnings(\"ignore\")\n",
    "\n",
    "total_engagement_level1,total_engagement_level2,total_engagement_level3 = 0,0,0\n",
    "norm1,norm2,norm3 = 0,0,0\n",
    "for age,age_prop in zip(age_range,r_age_range):\n",
    "    for gender, gender_prop in zip(gender_range,r_gender_range):\n",
    "        for playtime, playtime_prop in zip(playtime_range, r_playtime_range):\n",
    "            for purchase, purchase_prop in zip(purchase_range,r_purchase_range):\n",
    "                for difficulty, difficulty_prop in zip(difficulty_range,r_difficulty_range):\n",
    "                    for sessions, sessions_prop in zip(sessions_range,r_sessions_range):\n",
    "                        for avgsessions, avgsessions_prop in zip(avgsessions_range,r_avgsessions_range):\n",
    "                            for level, level_prop in zip(level_range,r_lvl_range):\n",
    "                                for achievement,achievement_prop in zip(achievement_range,r_achievement_range):\n",
    "                                    for rpg,rpg_prop in zip(rpg_range,r_rpg_range):\n",
    "                                        for sim,sim_prop in zip(sim_range,r_sim_range):\n",
    "                                            for sports,sports_prop in zip(sports_range,r_sports_range):\n",
    "                                                for strat, strat_prop in zip(strat_range,r_strat_range):\n",
    "                                                    if sum([rpg,sim,sports,strat])>1:\n",
    "                                                        continue\n",
    "                                                    total_prop = age_prop*gender_prop*playtime_prop*purchase_prop*difficulty_prop*sessions_prop*avgsessions_prop*level_prop*achievement_prop*rpg_prop*sim_prop*sports_prop*strat_prop\n",
    "                                                    \n",
    "                                                    X_topredict = np.array([age,gender,playtime,purchase,difficulty,sessions,avgsessions,level,achievement,0,0,1,rpg,sim,sports,strat]).reshape(1,-1)\n",
    "                                                    X_topredict_scaled = scaler_allfeats.transform(X_topredict)\n",
    "                                                    if   level==level_range[0]:\n",
    "                                                        norm1 += total_prop\n",
    "                                                        total_engagement_level1 += total_prop*best_estimator.predict(X_topredict_scaled)[0]\n",
    "                                                    elif level==level_range[1]:\n",
    "                                                        norm2 += total_prop\n",
    "                                                        total_engagement_level2 +=total_prop*best_estimator.predict(X_topredict_scaled)[0]\n",
    "                                                    else:\n",
    "                                                        norm3 += total_prop\n",
    "                                                        total_engagement_level3 +=total_prop*best_estimator.predict(X_topredict_scaled)[0]\n",
    "\n",
    "total_engagement_level1,total_engagement_level2,total_engagement_level3 = total_engagement_level1/norm1,total_engagement_level2/norm2,total_engagement_level3/norm3"
   ]
  },
  {
   "cell_type": "code",
   "execution_count": 91,
   "id": "7dbe2f24-cb86-4bcd-92ee-eb9e38d413bb",
   "metadata": {},
   "outputs": [
    {
     "name": "stdout",
     "output_type": "stream",
     "text": [
      "0.996263689802591 1.0627962210614372 1.1397048109185937\n"
     ]
    }
   ],
   "source": [
    "print(total_engagement_level1,total_engagement_level2,total_engagement_level3)"
   ]
  },
  {
   "cell_type": "markdown",
   "id": "ca73f671-9b80-438f-88ad-43ef9f13df99",
   "metadata": {},
   "source": [
    "Total Proportional Engagement for Level Groups are:\n",
    "- Level in Between 1-34: 0.99\n",
    "- Level in Between 34-67: 1.06\n",
    "- level in Between 67-99: 1.13"
   ]
  },
  {
   "cell_type": "markdown",
   "id": "7ae36b1e-4e4d-4ea7-b9d5-a1f0a4534da2",
   "metadata": {},
   "source": [
    "## Weighted Average Engagement - Comparing Achievement Groups"
   ]
  },
  {
   "cell_type": "code",
   "execution_count": 92,
   "id": "9becaf29-ec04-4b44-b410-03a392e015d2",
   "metadata": {
    "scrolled": true
   },
   "outputs": [],
   "source": [
    "import warnings\n",
    "warnings.filterwarnings(\"ignore\")\n",
    "\n",
    "total_engagement_achievement1,total_engagement_achievement2,total_engagement_achievement3 = 0,0,0\n",
    "norm1,norm2,norm3 = 0,0,0\n",
    "for age,age_prop in zip(age_range,r_age_range):\n",
    "    for gender, gender_prop in zip(gender_range,r_gender_range):\n",
    "        for playtime, playtime_prop in zip(playtime_range, r_playtime_range):\n",
    "            for purchase, purchase_prop in zip(purchase_range,r_purchase_range):\n",
    "                for difficulty, difficulty_prop in zip(difficulty_range,r_difficulty_range):\n",
    "                    for sessions, sessions_prop in zip(sessions_range,r_sessions_range):\n",
    "                        for avgsessions, avgsessions_prop in zip(avgsessions_range,r_avgsessions_range):\n",
    "                            for level, level_prop in zip(level_range,r_lvl_range):\n",
    "                                for achievement,achievement_prop in zip(achievement_range,r_achievement_range):\n",
    "                                    for rpg,rpg_prop in zip(rpg_range,r_rpg_range):\n",
    "                                        for sim,sim_prop in zip(sim_range,r_sim_range):\n",
    "                                            for sports,sports_prop in zip(sports_range,r_sports_range):\n",
    "                                                for strat, strat_prop in zip(strat_range,r_strat_range):\n",
    "                                                    if sum([rpg,sim,sports,strat])>1:\n",
    "                                                        continue\n",
    "                                                    total_prop = age_prop*gender_prop*playtime_prop*purchase_prop*difficulty_prop*sessions_prop*avgsessions_prop*level_prop*achievement_prop*rpg_prop*sim_prop*sports_prop*strat_prop\n",
    "                                                    \n",
    "                                                    X_topredict = np.array([age,gender,playtime,purchase,difficulty,sessions,avgsessions,level,achievement,0,0,1,rpg,sim,sports,strat]).reshape(1,-1)\n",
    "                                                    X_topredict_scaled = scaler_allfeats.transform(X_topredict)\n",
    "                                                    if   achievement==achievement_range[0]:\n",
    "                                                        norm1 += total_prop\n",
    "                                                        total_engagement_achievement1 += total_prop*best_estimator.predict(X_topredict_scaled)[0]\n",
    "                                                    elif achievement==achievement_range[1]:\n",
    "                                                        norm2 += total_prop\n",
    "                                                        total_engagement_achievement2 +=total_prop*best_estimator.predict(X_topredict_scaled)[0]\n",
    "                                                    else:\n",
    "                                                        norm3 += total_prop\n",
    "                                                        total_engagement_achievement3 +=total_prop*best_estimator.predict(X_topredict_scaled)[0]\n",
    "\n",
    "total_engagement_achievement1,total_engagement_achievement2,total_engagement_achievement3 = total_engagement_achievement1/norm1,total_engagement_achievement2/norm2,total_engagement_achievement3/norm3"
   ]
  },
  {
   "cell_type": "code",
   "execution_count": 93,
   "id": "9efcc854-0b31-42f9-819b-ac36b00ccbbf",
   "metadata": {},
   "outputs": [
    {
     "name": "stdout",
     "output_type": "stream",
     "text": [
      "0.9962636898025888 1.100582174688662 1.100582174688683\n"
     ]
    }
   ],
   "source": [
    "print(total_engagement_achievement1,total_engagement_achievement2,total_engagement_achievement3)"
   ]
  },
  {
   "cell_type": "markdown",
   "id": "b1113545-ce17-476b-baf0-d59b64d4b902",
   "metadata": {},
   "source": [
    "Total Proportional Engagement for Achievement Groups are:\n",
    "- Level in Between 0-16: 0.99\n",
    "- Level in Between 16-32: 1.10\n",
    "- level in Between 32-48: 1.10"
   ]
  },
  {
   "cell_type": "markdown",
   "id": "4bd11d53-ac9c-4fb6-a4ec-6a4a931cf2a4",
   "metadata": {},
   "source": [
    "## Weighted Average Engagement - Comparing RPG"
   ]
  },
  {
   "cell_type": "code",
   "execution_count": 94,
   "id": "ee7cf70b-c0d9-4476-8a17-55ece24f75a8",
   "metadata": {},
   "outputs": [],
   "source": [
    "total_engagement_norpg,total_engagement_rpg = 0,0\n",
    "norm1,norm2,norm3 = 0,0,0\n",
    "for age,age_prop in zip(age_range,r_age_range):\n",
    "    for gender, gender_prop in zip(gender_range,r_gender_range):\n",
    "        for playtime, playtime_prop in zip(playtime_range, r_playtime_range):\n",
    "            for purchase, purchase_prop in zip(purchase_range,r_purchase_range):\n",
    "                for difficulty, difficulty_prop in zip(difficulty_range,r_difficulty_range):\n",
    "                    for sessions, sessions_prop in zip(sessions_range,r_sessions_range):\n",
    "                        for avgsessions, avgsessions_prop in zip(avgsessions_range,r_avgsessions_range):\n",
    "                            for level, level_prop in zip(level_range,r_lvl_range):\n",
    "                                for achievement,achievement_prop in zip(achievement_range,r_achievement_range):\n",
    "                                    for rpg,rpg_prop in zip(rpg_range,r_rpg_range):\n",
    "                                        for sim,sim_prop in zip(sim_range,r_sim_range):\n",
    "                                            for sports,sports_prop in zip(sports_range,r_sports_range):\n",
    "                                                for strat, strat_prop in zip(strat_range,r_strat_range):\n",
    "                                                    if sum([rpg,sim,sports,strat])>1:\n",
    "                                                        continue\n",
    "                                                    total_prop = age_prop*gender_prop*playtime_prop*purchase_prop*difficulty_prop*sessions_prop*avgsessions_prop*level_prop*achievement_prop*rpg_prop*sim_prop*sports_prop*strat_prop\n",
    "                                                    \n",
    "                                                    X_topredict = np.array([age,gender,playtime,purchase,difficulty,sessions,avgsessions,level,achievement,0,0,1,rpg,sim,sports,strat]).reshape(1,-1)\n",
    "                                                    X_topredict_scaled = scaler_allfeats.transform(X_topredict)\n",
    "                                                    if   rpg==rpg_range[0]:\n",
    "                                                        norm1 += total_prop\n",
    "                                                        total_engagement_norpg += total_prop*best_estimator.predict(X_topredict_scaled)[0]\n",
    "                                                    else:\n",
    "                                                        norm2 += total_prop\n",
    "                                                        total_engagement_rpg +=total_prop*best_estimator.predict(X_topredict_scaled)[0]\n",
    "\n",
    "\n",
    "total_engagement_norpg,total_engagement_rpg = total_engagement_norpg/norm1,total_engagement_rpg/norm2"
   ]
  },
  {
   "cell_type": "code",
   "execution_count": 95,
   "id": "191b0d0d-e7e3-43f6-9cd9-939dd40d9def",
   "metadata": {},
   "outputs": [
    {
     "data": {
      "text/plain": [
       "(1.065118436460517, 1.0651184364605106)"
      ]
     },
     "execution_count": 95,
     "metadata": {},
     "output_type": "execute_result"
    }
   ],
   "source": [
    "total_engagement_norpg,total_engagement_rpg"
   ]
  },
  {
   "cell_type": "markdown",
   "id": "5cfcb0f3-c3c0-477a-9479-66a6f3f36fff",
   "metadata": {},
   "source": [
    "Total Proportional Engagement for RPG Groups are:\n",
    "- No RPG: 1.065\n",
    "- RPG: 1.065"
   ]
  },
  {
   "cell_type": "markdown",
   "id": "f5e2550e-9ce6-45c9-a887-0c511ca4ef48",
   "metadata": {},
   "source": [
    "## Weighted Average Engagement - Comparing Simulation Games"
   ]
  },
  {
   "cell_type": "code",
   "execution_count": 96,
   "id": "1c7d5411-9c58-4929-8bec-90cd7e07690e",
   "metadata": {},
   "outputs": [],
   "source": [
    "total_engagement_nosim,total_engagement_sim = 0,0\n",
    "norm1,norm2,norm3 = 0,0,0\n",
    "for age,age_prop in zip(age_range,r_age_range):\n",
    "    for gender, gender_prop in zip(gender_range,r_gender_range):\n",
    "        for playtime, playtime_prop in zip(playtime_range, r_playtime_range):\n",
    "            for purchase, purchase_prop in zip(purchase_range,r_purchase_range):\n",
    "                for difficulty, difficulty_prop in zip(difficulty_range,r_difficulty_range):\n",
    "                    for sessions, sessions_prop in zip(sessions_range,r_sessions_range):\n",
    "                        for avgsessions, avgsessions_prop in zip(avgsessions_range,r_avgsessions_range):\n",
    "                            for level, level_prop in zip(level_range,r_lvl_range):\n",
    "                                for achievement,achievement_prop in zip(achievement_range,r_achievement_range):\n",
    "                                    for rpg,rpg_prop in zip(rpg_range,r_rpg_range):\n",
    "                                        for sim,sim_prop in zip(sim_range,r_sim_range):\n",
    "                                            for sports,sports_prop in zip(sports_range,r_sports_range):\n",
    "                                                for strat, strat_prop in zip(strat_range,r_strat_range):\n",
    "                                                    if sum([rpg,sim,sports,strat])>1:\n",
    "                                                        continue\n",
    "                                                    total_prop = age_prop*gender_prop*playtime_prop*purchase_prop*difficulty_prop*sessions_prop*avgsessions_prop*level_prop*achievement_prop*rpg_prop*sim_prop*sports_prop*strat_prop\n",
    "                                                    \n",
    "                                                    X_topredict = np.array([age,gender,playtime,purchase,difficulty,sessions,avgsessions,level,achievement,0,0,1,rpg,sim,sports,strat]).reshape(1,-1)\n",
    "                                                    X_topredict_scaled = scaler_allfeats.transform(X_topredict)\n",
    "                                                    if   sim==sim_range[0]:\n",
    "                                                        norm1 += total_prop\n",
    "                                                        total_engagement_nosim += total_prop*best_estimator.predict(X_topredict_scaled)[0]\n",
    "                                                    else:\n",
    "                                                        norm2 += total_prop\n",
    "                                                        total_engagement_sim +=total_prop*best_estimator.predict(X_topredict_scaled)[0]\n",
    "\n",
    "total_engagement_nosim,total_engagement_sim = total_engagement_nosim/norm1,total_engagement_sim/norm2"
   ]
  },
  {
   "cell_type": "code",
   "execution_count": 97,
   "id": "b554a49a-a4eb-41dd-b9a7-c849ff695eb2",
   "metadata": {},
   "outputs": [
    {
     "data": {
      "text/plain": [
       "(1.065118436460517, 1.0651184364605106)"
      ]
     },
     "execution_count": 97,
     "metadata": {},
     "output_type": "execute_result"
    }
   ],
   "source": [
    "total_engagement_nosim,total_engagement_sim"
   ]
  },
  {
   "cell_type": "markdown",
   "id": "efa34b2b-b553-468b-9c2a-c4d48b48be65",
   "metadata": {},
   "source": [
    "Total Proportional Engagement for Simulation Groups are:\n",
    "- No Simulation: 1.065\n",
    "- Simulation: 1.065"
   ]
  },
  {
   "cell_type": "markdown",
   "id": "86c86bbd-e844-4d24-9447-084b9e4ff05d",
   "metadata": {},
   "source": [
    "## Weighted Average Engagement - Comparing Sports Games"
   ]
  },
  {
   "cell_type": "code",
   "execution_count": 98,
   "id": "1bcb42f1-3564-4b1c-8ef5-e8f50f820246",
   "metadata": {},
   "outputs": [],
   "source": [
    "total_engagement_nosports,total_engagement_sports = 0,0\n",
    "norm1,norm2,norm3 = 0,0,0\n",
    "for age,age_prop in zip(age_range,r_age_range):\n",
    "    for gender, gender_prop in zip(gender_range,r_gender_range):\n",
    "        for playtime, playtime_prop in zip(playtime_range, r_playtime_range):\n",
    "            for purchase, purchase_prop in zip(purchase_range,r_purchase_range):\n",
    "                for difficulty, difficulty_prop in zip(difficulty_range,r_difficulty_range):\n",
    "                    for sessions, sessions_prop in zip(sessions_range,r_sessions_range):\n",
    "                        for avgsessions, avgsessions_prop in zip(avgsessions_range,r_avgsessions_range):\n",
    "                            for level, level_prop in zip(level_range,r_lvl_range):\n",
    "                                for achievement,achievement_prop in zip(achievement_range,r_achievement_range):\n",
    "                                    for rpg,rpg_prop in zip(rpg_range,r_rpg_range):\n",
    "                                        for sim,sim_prop in zip(sim_range,r_sim_range):\n",
    "                                            for sports,sports_prop in zip(sports_range,r_sports_range):\n",
    "                                                for strat, strat_prop in zip(strat_range,r_strat_range):\n",
    "                                                    if sum([rpg,sim,sports,strat])>1:\n",
    "                                                        continue\n",
    "                                                    total_prop = age_prop*gender_prop*playtime_prop*purchase_prop*difficulty_prop*sessions_prop*avgsessions_prop*level_prop*achievement_prop*rpg_prop*sim_prop*sports_prop*strat_prop\n",
    "                                                    \n",
    "                                                    X_topredict = np.array([age,gender,playtime,purchase,difficulty,sessions,avgsessions,level,achievement,0,0,1,rpg,sim,sports,strat]).reshape(1,-1)\n",
    "                                                    X_topredict_scaled = scaler_allfeats.transform(X_topredict)\n",
    "                                                    if   sports==sports_range[0]:\n",
    "                                                        norm1 += total_prop\n",
    "                                                        total_engagement_nosports += total_prop*best_estimator.predict(X_topredict_scaled)[0]\n",
    "                                                    else:\n",
    "                                                        norm2 += total_prop\n",
    "                                                        total_engagement_sports +=total_prop*best_estimator.predict(X_topredict_scaled)[0]\n",
    "\n",
    "total_engagement_nosports,total_engagement_sports = total_engagement_nosports/norm1,total_engagement_sports/norm2"
   ]
  },
  {
   "cell_type": "code",
   "execution_count": 99,
   "id": "567c06c4-2fac-4056-9d56-d653731c2e7e",
   "metadata": {},
   "outputs": [
    {
     "data": {
      "text/plain": [
       "(1.065118436460517, 1.0651184364605106)"
      ]
     },
     "execution_count": 99,
     "metadata": {},
     "output_type": "execute_result"
    }
   ],
   "source": [
    "total_engagement_nosports,total_engagement_sports"
   ]
  },
  {
   "cell_type": "markdown",
   "id": "bb3b6e75-f250-41f9-83b1-cdaba95571bd",
   "metadata": {},
   "source": [
    "Total Proportional Engagement for Sports Groups are:\n",
    "- No Sports: 1.065\n",
    "- Sports: 1.065"
   ]
  },
  {
   "cell_type": "markdown",
   "id": "b6172e01-432b-4754-b0cd-884724f22c66",
   "metadata": {},
   "source": [
    "## Weighted Average Engagement - Comparing Strategy Games"
   ]
  },
  {
   "cell_type": "code",
   "execution_count": 100,
   "id": "f760c534-f440-4ef3-a639-dc2245167d9d",
   "metadata": {},
   "outputs": [],
   "source": [
    "total_engagement_nostrat,total_engagement_strat = 0,0\n",
    "norm1,norm2,norm3 = 0,0,0\n",
    "for age,age_prop in zip(age_range,r_age_range):\n",
    "    for gender, gender_prop in zip(gender_range,r_gender_range):\n",
    "        for playtime, playtime_prop in zip(playtime_range, r_playtime_range):\n",
    "            for purchase, purchase_prop in zip(purchase_range,r_purchase_range):\n",
    "                for difficulty, difficulty_prop in zip(difficulty_range,r_difficulty_range):\n",
    "                    for sessions, sessions_prop in zip(sessions_range,r_sessions_range):\n",
    "                        for avgsessions, avgsessions_prop in zip(avgsessions_range,r_avgsessions_range):\n",
    "                            for level, level_prop in zip(level_range,r_lvl_range):\n",
    "                                for achievement,achievement_prop in zip(achievement_range,r_achievement_range):\n",
    "                                    for rpg,rpg_prop in zip(rpg_range,r_rpg_range):\n",
    "                                        for sim,sim_prop in zip(sim_range,r_sim_range):\n",
    "                                            for sports,sports_prop in zip(sports_range,r_sports_range):\n",
    "                                                for strat, strat_prop in zip(strat_range,r_strat_range):\n",
    "                                                    if sum([rpg,sim,sports,strat])>1:\n",
    "                                                        continue\n",
    "                                                    total_prop = age_prop*gender_prop*playtime_prop*purchase_prop*difficulty_prop*sessions_prop*avgsessions_prop*level_prop*achievement_prop*rpg_prop*sim_prop*sports_prop*strat_prop\n",
    "                                                    \n",
    "                                                    X_topredict = np.array([age,gender,playtime,purchase,difficulty,sessions,avgsessions,level,achievement,0,0,1,rpg,sim,sports,strat]).reshape(1,-1)\n",
    "                                                    X_topredict_scaled = scaler_allfeats.transform(X_topredict)\n",
    "                                                    if   strat==strat_range[0]:\n",
    "                                                        norm1 += total_prop\n",
    "                                                        total_engagement_nostrat += total_prop*best_estimator.predict(X_topredict_scaled)[0]\n",
    "                                                    else:\n",
    "                                                        norm2 += total_prop\n",
    "                                                        total_engagement_strat +=total_prop*best_estimator.predict(X_topredict_scaled)[0]\n",
    "total_engagement_nostrat,total_engagement_strat = total_engagement_nostrat/norm1,total_engagement_strat/norm2"
   ]
  },
  {
   "cell_type": "code",
   "execution_count": 101,
   "id": "01480262-0a7d-4dd3-a7c5-0c76e5ea5ea9",
   "metadata": {},
   "outputs": [
    {
     "data": {
      "text/plain": [
       "(1.065118436460517, 1.0651184364605106)"
      ]
     },
     "execution_count": 101,
     "metadata": {},
     "output_type": "execute_result"
    }
   ],
   "source": [
    "total_engagement_nostrat,total_engagement_strat"
   ]
  },
  {
   "cell_type": "markdown",
   "id": "2bdb0a97-1325-4ac4-bb88-8e4d15f741d5",
   "metadata": {},
   "source": [
    "Weighted Average Engagement for Strategy Groups are:\n",
    "- No Strategy: 1.065\n",
    "- Strategy: 1.065"
   ]
  },
  {
   "cell_type": "markdown",
   "id": "d93f0830-6096-4b0a-bf13-400f1f5bab2e",
   "metadata": {},
   "source": [
    "# Business Recommendations"
   ]
  },
  {
   "cell_type": "markdown",
   "id": "8ab53ad7-7cbb-4ebc-a5af-0dfc5a79b346",
   "metadata": {},
   "source": [
    "In order to create an engaging game, we have 3 different recommendations in descending order of importance:\n",
    "- More sessions are better: players with a larger amount of sessions per week engage much more with the game than with a low number of sessions. We recommend creating special events during different days of the week (dungeons, missions, bosses) with special rewards so players keep coming back multiple times per week. Engagement can increase by 1.26 for players who come back several times per week.\n",
    "\n",
    "  \n",
    "- Balance is everything: players with very large average session duration engage poorer than gamers with low duration. In order to prevent a decline in this behavior we suggest advising the gamer to take a break to stretch after a long time (~2h) which also increases the number of sessions. Playing the game in moderate amounts per session can increase engagement by 0.7.\n",
    "\n",
    "- Feeling of achievement and progress is important: players with higher levels and more achievements engage better. The game should be able to allow the player to level up faster initially and unlock achievements that are meaningful. This can increase the average engagement by 0.14 for higher level players and 0.1 for more achievements."
   ]
  },
  {
   "cell_type": "code",
   "execution_count": null,
   "id": "c412947c-251d-4114-9745-0918121b4e0f",
   "metadata": {},
   "outputs": [],
   "source": []
  }
 ],
 "metadata": {
  "kernelspec": {
   "display_name": "Python (learn-env)",
   "language": "python",
   "name": "learn-env"
  },
  "language_info": {
   "codemirror_mode": {
    "name": "ipython",
    "version": 3
   },
   "file_extension": ".py",
   "mimetype": "text/x-python",
   "name": "python",
   "nbconvert_exporter": "python",
   "pygments_lexer": "ipython3",
   "version": "3.8.12"
  }
 },
 "nbformat": 4,
 "nbformat_minor": 5
}
